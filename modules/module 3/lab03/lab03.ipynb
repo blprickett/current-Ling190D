{
 "cells": [
  {
   "cell_type": "markdown",
   "metadata": {
    "tags": []
   },
   "source": [
    "# Lab 3: Tables\n",
    "\n",
    "Welcome to lab 3!  This week, the lab will continue the focus on *tables*, which let us work with multiple arrays of data.  Tables are described in [Chapter 6](https://umass-data-science.github.io/190fwebsite/textbook/06/tables/) of the text.\n",
    "\n",
    "First, set up the tests and imports by running the cell below."
   ]
  },
  {
   "cell_type": "code",
   "execution_count": 1,
   "metadata": {},
   "outputs": [
    {
     "name": "stdout",
     "output_type": "stream",
     "text": [
      "Requirement already satisfied: otter-grader in /Users/tbernard/anaconda3/lib/python3.8/site-packages (3.0.6)\n",
      "Requirement already satisfied: pandas in /Users/tbernard/anaconda3/lib/python3.8/site-packages (from otter-grader) (1.0.5)\n",
      "Requirement already satisfied: requests in /Users/tbernard/anaconda3/lib/python3.8/site-packages (from otter-grader) (2.22.0)\n",
      "Requirement already satisfied: ipykernel in /Users/tbernard/anaconda3/lib/python3.8/site-packages (from otter-grader) (5.3.2)\n",
      "Requirement already satisfied: PyPDF2 in /Users/tbernard/anaconda3/lib/python3.8/site-packages (from otter-grader) (1.26.0)\n",
      "Requirement already satisfied: matplotlib in /Users/tbernard/anaconda3/lib/python3.8/site-packages (from otter-grader) (3.2.2)\n",
      "Requirement already satisfied: nbconvert in /Users/tbernard/anaconda3/lib/python3.8/site-packages (from otter-grader) (5.6.1)\n",
      "Requirement already satisfied: pdfkit in /Users/tbernard/anaconda3/lib/python3.8/site-packages (from otter-grader) (0.6.1)\n",
      "Requirement already satisfied: gspread in /Users/tbernard/anaconda3/lib/python3.8/site-packages (from otter-grader) (4.0.1)\n",
      "Requirement already satisfied: nbformat in /Users/tbernard/anaconda3/lib/python3.8/site-packages (from otter-grader) (5.0.7)\n",
      "Requirement already satisfied: google-auth-oauthlib in /Users/tbernard/anaconda3/lib/python3.8/site-packages (from otter-grader) (0.4.6)\n",
      "Requirement already satisfied: python-on-whales in /Users/tbernard/anaconda3/lib/python3.8/site-packages (from otter-grader) (0.24.0)\n",
      "Requirement already satisfied: jupytext in /Users/tbernard/anaconda3/lib/python3.8/site-packages (from otter-grader) (1.11.5)\n",
      "Requirement already satisfied: jinja2 in /Users/tbernard/anaconda3/lib/python3.8/site-packages (from otter-grader) (2.11.2)\n",
      "Requirement already satisfied: six in /Users/tbernard/anaconda3/lib/python3.8/site-packages (from otter-grader) (1.15.0)\n",
      "Requirement already satisfied: google-api-python-client in /Users/tbernard/anaconda3/lib/python3.8/site-packages (from otter-grader) (2.19.0)\n",
      "Requirement already satisfied: dill in /Users/tbernard/anaconda3/lib/python3.8/site-packages (from otter-grader) (0.3.4)\n",
      "Requirement already satisfied: jupyter-client in /Users/tbernard/anaconda3/lib/python3.8/site-packages (from otter-grader) (6.1.6)\n",
      "Requirement already satisfied: pytz>=2017.2 in /Users/tbernard/anaconda3/lib/python3.8/site-packages (from pandas->otter-grader) (2020.1)\n",
      "Requirement already satisfied: numpy>=1.13.3 in /Users/tbernard/anaconda3/lib/python3.8/site-packages (from pandas->otter-grader) (1.18.5)\n",
      "Requirement already satisfied: python-dateutil>=2.6.1 in /Users/tbernard/anaconda3/lib/python3.8/site-packages (from pandas->otter-grader) (2.8.1)\n",
      "Requirement already satisfied: urllib3!=1.25.0,!=1.25.1,<1.26,>=1.21.1 in /Users/tbernard/anaconda3/lib/python3.8/site-packages (from requests->otter-grader) (1.25.7)\n",
      "Requirement already satisfied: chardet<3.1.0,>=3.0.2 in /Users/tbernard/anaconda3/lib/python3.8/site-packages (from requests->otter-grader) (3.0.4)\n",
      "Requirement already satisfied: idna<2.9,>=2.5 in /Users/tbernard/anaconda3/lib/python3.8/site-packages (from requests->otter-grader) (2.8)\n",
      "Requirement already satisfied: certifi>=2017.4.17 in /Users/tbernard/anaconda3/lib/python3.8/site-packages (from requests->otter-grader) (2019.11.28)\n",
      "Requirement already satisfied: traitlets>=4.1.0 in /Users/tbernard/anaconda3/lib/python3.8/site-packages (from ipykernel->otter-grader) (4.3.3)\n",
      "Requirement already satisfied: ipython>=5.0.0 in /Users/tbernard/anaconda3/lib/python3.8/site-packages (from ipykernel->otter-grader) (7.16.1)\n",
      "Requirement already satisfied: appnope; platform_system == \"Darwin\" in /Users/tbernard/anaconda3/lib/python3.8/site-packages (from ipykernel->otter-grader) (0.1.0)\n",
      "Requirement already satisfied: tornado>=4.2 in /Users/tbernard/anaconda3/lib/python3.8/site-packages (from ipykernel->otter-grader) (6.0.4)\n",
      "Requirement already satisfied: pyparsing!=2.0.4,!=2.1.2,!=2.1.6,>=2.0.1 in /Users/tbernard/anaconda3/lib/python3.8/site-packages (from matplotlib->otter-grader) (2.4.7)\n",
      "Requirement already satisfied: cycler>=0.10 in /Users/tbernard/anaconda3/lib/python3.8/site-packages (from matplotlib->otter-grader) (0.10.0)\n",
      "Requirement already satisfied: kiwisolver>=1.0.1 in /Users/tbernard/anaconda3/lib/python3.8/site-packages (from matplotlib->otter-grader) (1.2.0)\n",
      "Requirement already satisfied: mistune<2,>=0.8.1 in /Users/tbernard/anaconda3/lib/python3.8/site-packages (from nbconvert->otter-grader) (0.8.4)\n",
      "Requirement already satisfied: pygments in /Users/tbernard/anaconda3/lib/python3.8/site-packages (from nbconvert->otter-grader) (2.6.1)\n",
      "Requirement already satisfied: defusedxml in /Users/tbernard/anaconda3/lib/python3.8/site-packages (from nbconvert->otter-grader) (0.6.0)\n",
      "Requirement already satisfied: entrypoints>=0.2.2 in /Users/tbernard/anaconda3/lib/python3.8/site-packages (from nbconvert->otter-grader) (0.3)\n",
      "Requirement already satisfied: pandocfilters>=1.4.1 in /Users/tbernard/anaconda3/lib/python3.8/site-packages (from nbconvert->otter-grader) (1.4.2)\n",
      "Requirement already satisfied: testpath in /Users/tbernard/anaconda3/lib/python3.8/site-packages (from nbconvert->otter-grader) (0.4.4)\n",
      "Requirement already satisfied: bleach in /Users/tbernard/anaconda3/lib/python3.8/site-packages (from nbconvert->otter-grader) (3.1.5)\n",
      "Requirement already satisfied: jupyter-core in /Users/tbernard/anaconda3/lib/python3.8/site-packages (from nbconvert->otter-grader) (4.6.3)\n",
      "Requirement already satisfied: google-auth>=1.12.0 in /Users/tbernard/anaconda3/lib/python3.8/site-packages (from gspread->otter-grader) (2.0.2)\n",
      "Requirement already satisfied: jsonschema!=2.5.0,>=2.4 in /Users/tbernard/anaconda3/lib/python3.8/site-packages (from nbformat->otter-grader) (3.2.0)\n",
      "Requirement already satisfied: ipython-genutils in /Users/tbernard/anaconda3/lib/python3.8/site-packages (from nbformat->otter-grader) (0.2.0)\n",
      "Requirement already satisfied: requests-oauthlib>=0.7.0 in /Users/tbernard/anaconda3/lib/python3.8/site-packages (from google-auth-oauthlib->otter-grader) (1.3.0)\n",
      "Requirement already satisfied: tqdm in /Users/tbernard/anaconda3/lib/python3.8/site-packages (from python-on-whales->otter-grader) (4.47.0)\n",
      "Requirement already satisfied: typer in /Users/tbernard/anaconda3/lib/python3.8/site-packages (from python-on-whales->otter-grader) (0.4.0)\n",
      "Requirement already satisfied: pydantic in /Users/tbernard/anaconda3/lib/python3.8/site-packages (from python-on-whales->otter-grader) (1.8.2)\n",
      "Requirement already satisfied: markdown-it-py~=1.0 in /Users/tbernard/anaconda3/lib/python3.8/site-packages (from jupytext->otter-grader) (1.1.0)\n",
      "Requirement already satisfied: mdit-py-plugins in /Users/tbernard/anaconda3/lib/python3.8/site-packages (from jupytext->otter-grader) (0.2.8)\n",
      "Requirement already satisfied: pyyaml in /Users/tbernard/anaconda3/lib/python3.8/site-packages (from jupytext->otter-grader) (5.3.1)\n",
      "Requirement already satisfied: toml in /Users/tbernard/anaconda3/lib/python3.8/site-packages (from jupytext->otter-grader) (0.10.1)\n",
      "Requirement already satisfied: MarkupSafe>=0.23 in /Users/tbernard/anaconda3/lib/python3.8/site-packages (from jinja2->otter-grader) (1.1.1)\n",
      "Requirement already satisfied: google-auth-httplib2>=0.1.0 in /Users/tbernard/anaconda3/lib/python3.8/site-packages (from google-api-python-client->otter-grader) (0.1.0)\n",
      "Requirement already satisfied: google-api-core<3.0.0dev,>=1.21.0 in /Users/tbernard/anaconda3/lib/python3.8/site-packages (from google-api-python-client->otter-grader) (2.0.1)\n",
      "Requirement already satisfied: uritemplate<4dev,>=3.0.0 in /Users/tbernard/anaconda3/lib/python3.8/site-packages (from google-api-python-client->otter-grader) (3.0.1)\n",
      "Requirement already satisfied: httplib2<1dev,>=0.15.0 in /Users/tbernard/anaconda3/lib/python3.8/site-packages (from google-api-python-client->otter-grader) (0.19.1)\n",
      "Requirement already satisfied: pyzmq>=13 in /Users/tbernard/anaconda3/lib/python3.8/site-packages (from jupyter-client->otter-grader) (19.0.1)\n",
      "Requirement already satisfied: decorator in /Users/tbernard/anaconda3/lib/python3.8/site-packages (from traitlets>=4.1.0->ipykernel->otter-grader) (4.4.2)\n",
      "Requirement already satisfied: jedi>=0.10 in /Users/tbernard/anaconda3/lib/python3.8/site-packages (from ipython>=5.0.0->ipykernel->otter-grader) (0.17.1)\n",
      "Requirement already satisfied: pexpect; sys_platform != \"win32\" in /Users/tbernard/anaconda3/lib/python3.8/site-packages (from ipython>=5.0.0->ipykernel->otter-grader) (4.8.0)\n",
      "Requirement already satisfied: backcall in /Users/tbernard/anaconda3/lib/python3.8/site-packages (from ipython>=5.0.0->ipykernel->otter-grader) (0.2.0)\n",
      "Requirement already satisfied: prompt-toolkit!=3.0.0,!=3.0.1,<3.1.0,>=2.0.0 in /Users/tbernard/anaconda3/lib/python3.8/site-packages (from ipython>=5.0.0->ipykernel->otter-grader) (3.0.5)\n",
      "Requirement already satisfied: pickleshare in /Users/tbernard/anaconda3/lib/python3.8/site-packages (from ipython>=5.0.0->ipykernel->otter-grader) (0.7.5)\n",
      "Requirement already satisfied: setuptools>=18.5 in /Users/tbernard/anaconda3/lib/python3.8/site-packages (from ipython>=5.0.0->ipykernel->otter-grader) (49.2.0.post20200714)\n",
      "Requirement already satisfied: webencodings in /Users/tbernard/anaconda3/lib/python3.8/site-packages (from bleach->nbconvert->otter-grader) (0.5.1)\n",
      "Requirement already satisfied: packaging in /Users/tbernard/anaconda3/lib/python3.8/site-packages (from bleach->nbconvert->otter-grader) (20.4)\n",
      "Requirement already satisfied: rsa<5,>=3.1.4 in /Users/tbernard/anaconda3/lib/python3.8/site-packages (from google-auth>=1.12.0->gspread->otter-grader) (4.7.2)\n"
     ]
    },
    {
     "name": "stdout",
     "output_type": "stream",
     "text": [
      "Requirement already satisfied: pyasn1-modules>=0.2.1 in /Users/tbernard/anaconda3/lib/python3.8/site-packages (from google-auth>=1.12.0->gspread->otter-grader) (0.2.8)\n",
      "Requirement already satisfied: cachetools<5.0,>=2.0.0 in /Users/tbernard/anaconda3/lib/python3.8/site-packages (from google-auth>=1.12.0->gspread->otter-grader) (4.2.2)\n",
      "Requirement already satisfied: attrs>=17.4.0 in /Users/tbernard/anaconda3/lib/python3.8/site-packages (from jsonschema!=2.5.0,>=2.4->nbformat->otter-grader) (19.3.0)\n",
      "Requirement already satisfied: pyrsistent>=0.14.0 in /Users/tbernard/anaconda3/lib/python3.8/site-packages (from jsonschema!=2.5.0,>=2.4->nbformat->otter-grader) (0.16.0)\n",
      "Requirement already satisfied: oauthlib>=3.0.0 in /Users/tbernard/anaconda3/lib/python3.8/site-packages (from requests-oauthlib>=0.7.0->google-auth-oauthlib->otter-grader) (3.1.1)\n",
      "Requirement already satisfied: click<9.0.0,>=7.1.1 in /Users/tbernard/anaconda3/lib/python3.8/site-packages (from typer->python-on-whales->otter-grader) (7.1.2)\n",
      "Requirement already satisfied: typing-extensions>=3.7.4.3 in /Users/tbernard/anaconda3/lib/python3.8/site-packages (from pydantic->python-on-whales->otter-grader) (3.10.0.2)\n",
      "Requirement already satisfied: protobuf>=3.12.0 in /Users/tbernard/anaconda3/lib/python3.8/site-packages (from google-api-core<3.0.0dev,>=1.21.0->google-api-python-client->otter-grader) (3.17.3)\n",
      "Requirement already satisfied: googleapis-common-protos<2.0dev,>=1.6.0 in /Users/tbernard/anaconda3/lib/python3.8/site-packages (from google-api-core<3.0.0dev,>=1.21.0->google-api-python-client->otter-grader) (1.53.0)\n",
      "Requirement already satisfied: parso<0.8.0,>=0.7.0 in /Users/tbernard/anaconda3/lib/python3.8/site-packages (from jedi>=0.10->ipython>=5.0.0->ipykernel->otter-grader) (0.7.0)\n",
      "Requirement already satisfied: ptyprocess>=0.5 in /Users/tbernard/anaconda3/lib/python3.8/site-packages (from pexpect; sys_platform != \"win32\"->ipython>=5.0.0->ipykernel->otter-grader) (0.6.0)\n",
      "Requirement already satisfied: wcwidth in /Users/tbernard/anaconda3/lib/python3.8/site-packages (from prompt-toolkit!=3.0.0,!=3.0.1,<3.1.0,>=2.0.0->ipython>=5.0.0->ipykernel->otter-grader) (0.2.5)\n",
      "Requirement already satisfied: pyasn1>=0.1.3 in /Users/tbernard/anaconda3/lib/python3.8/site-packages (from rsa<5,>=3.1.4->google-auth>=1.12.0->gspread->otter-grader) (0.4.8)\n",
      "Requirement already satisfied: datascience in /Users/tbernard/anaconda3/lib/python3.8/site-packages (0.15.10)\n",
      "Requirement already satisfied: scipy in /Users/tbernard/anaconda3/lib/python3.8/site-packages (from datascience) (1.5.0)\n",
      "Requirement already satisfied: setuptools in /Users/tbernard/anaconda3/lib/python3.8/site-packages (from datascience) (49.2.0.post20200714)\n",
      "Requirement already satisfied: pandas in /Users/tbernard/anaconda3/lib/python3.8/site-packages (from datascience) (1.0.5)\n",
      "Requirement already satisfied: numpy in /Users/tbernard/anaconda3/lib/python3.8/site-packages (from datascience) (1.18.5)\n",
      "Requirement already satisfied: coverage in /Users/tbernard/anaconda3/lib/python3.8/site-packages (from datascience) (4.4)\n",
      "Requirement already satisfied: folium>=0.9.1 in /Users/tbernard/anaconda3/lib/python3.8/site-packages (from datascience) (0.11.0)\n",
      "Requirement already satisfied: coveralls in /Users/tbernard/anaconda3/lib/python3.8/site-packages (from datascience) (2.1.2)\n",
      "Requirement already satisfied: sphinx in /Users/tbernard/anaconda3/lib/python3.8/site-packages (from datascience) (3.1.2)\n",
      "Requirement already satisfied: pytest in /Users/tbernard/anaconda3/lib/python3.8/site-packages (from datascience) (5.4.3)\n",
      "Requirement already satisfied: bokeh in /Users/tbernard/anaconda3/lib/python3.8/site-packages (from datascience) (2.1.1)\n",
      "Requirement already satisfied: matplotlib>=3.0.0 in /Users/tbernard/anaconda3/lib/python3.8/site-packages (from datascience) (3.2.2)\n",
      "Requirement already satisfied: ipython in /Users/tbernard/anaconda3/lib/python3.8/site-packages (from datascience) (7.16.1)\n",
      "Requirement already satisfied: python-dateutil>=2.6.1 in /Users/tbernard/anaconda3/lib/python3.8/site-packages (from pandas->datascience) (2.8.1)\n",
      "Requirement already satisfied: pytz>=2017.2 in /Users/tbernard/anaconda3/lib/python3.8/site-packages (from pandas->datascience) (2020.1)\n",
      "Requirement already satisfied: branca>=0.3.0 in /Users/tbernard/anaconda3/lib/python3.8/site-packages (from folium>=0.9.1->datascience) (0.4.1)\n",
      "Requirement already satisfied: jinja2>=2.9 in /Users/tbernard/anaconda3/lib/python3.8/site-packages (from folium>=0.9.1->datascience) (2.11.2)\n",
      "Requirement already satisfied: requests in /Users/tbernard/anaconda3/lib/python3.8/site-packages (from folium>=0.9.1->datascience) (2.22.0)\n",
      "Requirement already satisfied: docopt>=0.6.1 in /Users/tbernard/anaconda3/lib/python3.8/site-packages (from coveralls->datascience) (0.6.2)\n",
      "Requirement already satisfied: sphinxcontrib-applehelp in /Users/tbernard/anaconda3/lib/python3.8/site-packages (from sphinx->datascience) (1.0.2)\n",
      "Requirement already satisfied: sphinxcontrib-htmlhelp in /Users/tbernard/anaconda3/lib/python3.8/site-packages (from sphinx->datascience) (1.0.3)\n",
      "Requirement already satisfied: snowballstemmer>=1.1 in /Users/tbernard/anaconda3/lib/python3.8/site-packages (from sphinx->datascience) (2.0.0)\n",
      "Requirement already satisfied: sphinxcontrib-devhelp in /Users/tbernard/anaconda3/lib/python3.8/site-packages (from sphinx->datascience) (1.0.2)\n",
      "Requirement already satisfied: alabaster<0.8,>=0.7 in /Users/tbernard/anaconda3/lib/python3.8/site-packages (from sphinx->datascience) (0.7.12)\n",
      "Requirement already satisfied: sphinxcontrib-serializinghtml in /Users/tbernard/anaconda3/lib/python3.8/site-packages (from sphinx->datascience) (1.1.4)\n",
      "Requirement already satisfied: sphinxcontrib-jsmath in /Users/tbernard/anaconda3/lib/python3.8/site-packages (from sphinx->datascience) (1.0.1)\n",
      "Requirement already satisfied: sphinxcontrib-qthelp in /Users/tbernard/anaconda3/lib/python3.8/site-packages (from sphinx->datascience) (1.0.3)\n",
      "Requirement already satisfied: Pygments>=2.0 in /Users/tbernard/anaconda3/lib/python3.8/site-packages (from sphinx->datascience) (2.6.1)\n",
      "Requirement already satisfied: imagesize in /Users/tbernard/anaconda3/lib/python3.8/site-packages (from sphinx->datascience) (1.2.0)\n",
      "Requirement already satisfied: packaging in /Users/tbernard/anaconda3/lib/python3.8/site-packages (from sphinx->datascience) (20.4)\n",
      "Requirement already satisfied: babel>=1.3 in /Users/tbernard/anaconda3/lib/python3.8/site-packages (from sphinx->datascience) (2.8.0)\n",
      "Requirement already satisfied: docutils>=0.12 in /Users/tbernard/anaconda3/lib/python3.8/site-packages (from sphinx->datascience) (0.16)\n",
      "Requirement already satisfied: py>=1.5.0 in /Users/tbernard/anaconda3/lib/python3.8/site-packages (from pytest->datascience) (1.9.0)\n",
      "Requirement already satisfied: attrs>=17.4.0 in /Users/tbernard/anaconda3/lib/python3.8/site-packages (from pytest->datascience) (19.3.0)\n",
      "Requirement already satisfied: more-itertools>=4.0.0 in /Users/tbernard/anaconda3/lib/python3.8/site-packages (from pytest->datascience) (8.4.0)\n",
      "Requirement already satisfied: pluggy<1.0,>=0.12 in /Users/tbernard/anaconda3/lib/python3.8/site-packages (from pytest->datascience) (0.13.1)\n",
      "Requirement already satisfied: wcwidth in /Users/tbernard/anaconda3/lib/python3.8/site-packages (from pytest->datascience) (0.2.5)\n",
      "Requirement already satisfied: pillow>=4.0 in /Users/tbernard/anaconda3/lib/python3.8/site-packages (from bokeh->datascience) (7.2.0)\n",
      "Requirement already satisfied: typing-extensions>=3.7.4 in /Users/tbernard/anaconda3/lib/python3.8/site-packages (from bokeh->datascience) (3.10.0.2)\n",
      "Requirement already satisfied: PyYAML>=3.10 in /Users/tbernard/anaconda3/lib/python3.8/site-packages (from bokeh->datascience) (5.3.1)\n",
      "Requirement already satisfied: tornado>=5.1 in /Users/tbernard/anaconda3/lib/python3.8/site-packages (from bokeh->datascience) (6.0.4)\n",
      "Requirement already satisfied: cycler>=0.10 in /Users/tbernard/anaconda3/lib/python3.8/site-packages (from matplotlib>=3.0.0->datascience) (0.10.0)\n",
      "Requirement already satisfied: pyparsing!=2.0.4,!=2.1.2,!=2.1.6,>=2.0.1 in /Users/tbernard/anaconda3/lib/python3.8/site-packages (from matplotlib>=3.0.0->datascience) (2.4.7)\n",
      "Requirement already satisfied: kiwisolver>=1.0.1 in /Users/tbernard/anaconda3/lib/python3.8/site-packages (from matplotlib>=3.0.0->datascience) (1.2.0)\n",
      "Requirement already satisfied: traitlets>=4.2 in /Users/tbernard/anaconda3/lib/python3.8/site-packages (from ipython->datascience) (4.3.3)\n",
      "Requirement already satisfied: pickleshare in /Users/tbernard/anaconda3/lib/python3.8/site-packages (from ipython->datascience) (0.7.5)\n",
      "Requirement already satisfied: pexpect; sys_platform != \"win32\" in /Users/tbernard/anaconda3/lib/python3.8/site-packages (from ipython->datascience) (4.8.0)\n",
      "Requirement already satisfied: backcall in /Users/tbernard/anaconda3/lib/python3.8/site-packages (from ipython->datascience) (0.2.0)\n",
      "Requirement already satisfied: appnope; sys_platform == \"darwin\" in /Users/tbernard/anaconda3/lib/python3.8/site-packages (from ipython->datascience) (0.1.0)\n",
      "Requirement already satisfied: jedi>=0.10 in /Users/tbernard/anaconda3/lib/python3.8/site-packages (from ipython->datascience) (0.17.1)\n",
      "Requirement already satisfied: decorator in /Users/tbernard/anaconda3/lib/python3.8/site-packages (from ipython->datascience) (4.4.2)\n",
      "Requirement already satisfied: prompt-toolkit!=3.0.0,!=3.0.1,<3.1.0,>=2.0.0 in /Users/tbernard/anaconda3/lib/python3.8/site-packages (from ipython->datascience) (3.0.5)\n",
      "Requirement already satisfied: six>=1.5 in /Users/tbernard/anaconda3/lib/python3.8/site-packages (from python-dateutil>=2.6.1->pandas->datascience) (1.15.0)\n",
      "Requirement already satisfied: MarkupSafe>=0.23 in /Users/tbernard/anaconda3/lib/python3.8/site-packages (from jinja2>=2.9->folium>=0.9.1->datascience) (1.1.1)\n",
      "Requirement already satisfied: idna<2.9,>=2.5 in /Users/tbernard/anaconda3/lib/python3.8/site-packages (from requests->folium>=0.9.1->datascience) (2.8)\n",
      "Requirement already satisfied: urllib3!=1.25.0,!=1.25.1,<1.26,>=1.21.1 in /Users/tbernard/anaconda3/lib/python3.8/site-packages (from requests->folium>=0.9.1->datascience) (1.25.7)\n",
      "Requirement already satisfied: certifi>=2017.4.17 in /Users/tbernard/anaconda3/lib/python3.8/site-packages (from requests->folium>=0.9.1->datascience) (2019.11.28)\n",
      "Requirement already satisfied: chardet<3.1.0,>=3.0.2 in /Users/tbernard/anaconda3/lib/python3.8/site-packages (from requests->folium>=0.9.1->datascience) (3.0.4)\n",
      "Requirement already satisfied: ipython-genutils in /Users/tbernard/anaconda3/lib/python3.8/site-packages (from traitlets>=4.2->ipython->datascience) (0.2.0)\n",
      "Requirement already satisfied: ptyprocess>=0.5 in /Users/tbernard/anaconda3/lib/python3.8/site-packages (from pexpect; sys_platform != \"win32\"->ipython->datascience) (0.6.0)\n",
      "Requirement already satisfied: parso<0.8.0,>=0.7.0 in /Users/tbernard/anaconda3/lib/python3.8/site-packages (from jedi>=0.10->ipython->datascience) (0.7.0)\n"
     ]
    }
   ],
   "source": [
    "! pip install otter-grader\n",
    "! pip install datascience\n",
    "import otter\n",
    "from datascience import *\n",
    "import numpy as np\n",
    "grader = otter.Notebook()"
   ]
  },
  {
   "cell_type": "markdown",
   "metadata": {},
   "source": [
    "# 1. Using lists\n",
    "\n",
    "A *list* is another Python sequence type, similar to an array. It's different than an array because the values it contains can all have different types. A single list can contain `int` values, `float` values, and strings. Elements in a list can even be other lists! A list is created by giving a name to the list of values enclosed in square brackets and separated by commas. For example, `values_with_different_types = ['190', F, ['lab', 3]]`\n",
    "\n",
    "Lists can be useful when working with tables because they can describe the contents of one row in a table, which often  corresponds to a sequence of values with different types. A list of lists can be used to describe multiple rows.\n",
    "\n",
    "Each column in a table is a collection of values with the same type (an array). If you create a table column from a list, it will automatically be converted to an array. A row, on the ther hand, mixes types.\n",
    "\n",
    "Here's a table from Chapter 5. (Run the cell below.)"
   ]
  },
  {
   "cell_type": "code",
   "execution_count": 8,
   "metadata": {},
   "outputs": [],
   "source": [
    "# Run this cell to recreate the table\n",
    "flowers = Table().with_columns(\n",
    "    'Number of petals', make_array(8, 34, 5),\n",
    "    'Name', make_array('lotus', 'sunflower', 'rose')\n",
    ")\n",
    "flowers"
   ]
  },
  {
   "cell_type": "markdown",
   "metadata": {},
   "source": [
    "**Question 1.1.** Create a list (use []) that describes a new fourth row of this table. The details can be whatever you want, but the list must contain two values: the number of petals (an `int` value) and the name of the flower (a string). For example, your flower could be \"pondweed\"! (A flower with zero petals)"
   ]
  },
  {
   "cell_type": "code",
   "execution_count": 11,
   "metadata": {
    "tags": []
   },
   "outputs": [],
   "source": [
    "my_flower = ...\n",
    "my_flower"
   ]
  },
  {
   "cell_type": "code",
   "execution_count": null,
   "metadata": {
    "deletable": false,
    "editable": false
   },
   "outputs": [],
   "source": [
    "grader.check(\"q1.1\")"
   ]
  },
  {
   "cell_type": "markdown",
   "metadata": {},
   "source": [
    "**Question 1.2.** `my_flower` fits right in to the table from chapter 5. Complete the cell below to create a table of seven flowers that includes your flower as the fourth row followed by `other_flowers`. You can use `with_row` to create a new table with one extra row by passing a list of values and `with_rows` to create a table with multiple extra rows by passing a list of lists of values."
   ]
  },
  {
   "cell_type": "code",
   "execution_count": 14,
   "metadata": {
    "tags": []
   },
   "outputs": [],
   "source": [
    "# Use the method .with_row(...) to create a new table that includes my_flower \n",
    "\n",
    "four_flowers = ...\n",
    "\n",
    "# Use the method .with_rows(...) to create a table that \n",
    "# includes four_flowers followed by other_flowers\n",
    "\n",
    "other_flowers = [[10, 'lavender'], [3, 'birds of paradise'], [6, 'tulip']]\n",
    "\n",
    "seven_flowers = ...\n",
    "seven_flowers"
   ]
  },
  {
   "cell_type": "code",
   "execution_count": null,
   "metadata": {
    "deletable": false,
    "editable": false
   },
   "outputs": [],
   "source": [
    "grader.check(\"q1.2\")"
   ]
  },
  {
   "cell_type": "markdown",
   "metadata": {},
   "source": [
    "## 2. Analyzing datasets\n",
    "With just a few table methods, we can answer some interesting questions about the IMDb dataset. This data set includes information about movie ratings."
   ]
  },
  {
   "cell_type": "code",
   "execution_count": 16,
   "metadata": {},
   "outputs": [],
   "source": [
    "imdb = Table.read_table(\"imdb.csv\")\n",
    "imdb"
   ]
  },
  {
   "cell_type": "markdown",
   "metadata": {},
   "source": [
    "If we want just the ratings of the movies, we can get an array that contains the data in that column:"
   ]
  },
  {
   "cell_type": "code",
   "execution_count": 17,
   "metadata": {},
   "outputs": [],
   "source": [
    "imdb.column(\"Rating\")"
   ]
  },
  {
   "cell_type": "markdown",
   "metadata": {},
   "source": [
    "The value of that expression is an array, exactly the same kind of thing you'd get if you typed in `make_array(8.4, 8.3, 8.3, [etc])`.\n",
    "\n",
    "**Question 2.1.** Find the rating of the highest-rated movie in the dataset.\n",
    "\n",
    "*Hint:* Think back to the functions you've learned about for working with arrays of numbers.  Ask for help if you can't remember one that's useful for this."
   ]
  },
  {
   "cell_type": "code",
   "execution_count": 20,
   "metadata": {
    "tags": []
   },
   "outputs": [],
   "source": [
    "highest_rating = ...\n",
    "highest_rating"
   ]
  },
  {
   "cell_type": "code",
   "execution_count": null,
   "metadata": {
    "deletable": false,
    "editable": false
   },
   "outputs": [],
   "source": [
    "grader.check(\"q2.1\")"
   ]
  },
  {
   "cell_type": "markdown",
   "metadata": {},
   "source": [
    "That's not very useful, though.  You'd probably want to know the *name* of the movie whose rating you found!  To do that, we can sort the entire table by rating, which ensures that the ratings and titles will stay together. Note that calling sort creates a copy of the table and leaves the original table unsorted."
   ]
  },
  {
   "cell_type": "code",
   "execution_count": 22,
   "metadata": {},
   "outputs": [],
   "source": [
    "imdb.sort(\"Rating\")"
   ]
  },
  {
   "cell_type": "markdown",
   "metadata": {},
   "source": [
    "Well, that actually doesn't help much, either -- we sorted the movies from lowest -> highest ratings.  To look at the highest-rated movies, sort in reverse order:"
   ]
  },
  {
   "cell_type": "code",
   "execution_count": null,
   "metadata": {},
   "outputs": [],
   "source": [
    "imdb.sort(\"Rating\", descending=True)"
   ]
  },
  {
   "cell_type": "markdown",
   "metadata": {},
   "source": [
    "(The `descending=True` bit is called an *optional argument*. It has a default value of `False`, so when you explicitly tell the function `descending=True`, then the function will sort in descending order.)\n",
    "\n",
    "So there are actually 2 highest-rated movies in the dataset: *The Shawshank Redemption* and *The Godfather*.\n",
    "\n",
    "Some details about sort:\n",
    "\n",
    "1. The first argument to `sort` is the name of a column to sort by.\n",
    "2. If the column has strings in it, `sort` will sort alphabetically; if the column has numbers, it will sort numerically.\n",
    "3. The value of `imdb.sort(\"Rating\")` is a *copy of `imdb`*; the `imdb` table doesn't get modified. For example, if we called `imdb.sort(\"Rating\")`, then running `imdb` by itself would still return the unsorted table.\n",
    "4. Rows always stick together when a table is sorted.  It wouldn't make sense to sort just one column and leave the other columns alone.  For example, in this case, if we sorted just the \"Rating\" column, the movies would all end up with the wrong ratings.\n",
    "\n",
    "**Question 2.2.** Create a version of `imdb` that's sorted chronologically, with the earliest movies first.  Call it `imdb_by_year`."
   ]
  },
  {
   "cell_type": "code",
   "execution_count": 33,
   "metadata": {
    "tags": []
   },
   "outputs": [],
   "source": [
    "imdb_by_year = ...\n",
    "imdb_by_year"
   ]
  },
  {
   "cell_type": "code",
   "execution_count": null,
   "metadata": {
    "deletable": false,
    "editable": false
   },
   "outputs": [],
   "source": [
    "grader.check(\"q2.2\")"
   ]
  },
  {
   "cell_type": "markdown",
   "metadata": {},
   "source": [
    "**Question 2.3.** What's the title of the earliest movie in the dataset?  You could just look this up from the output of the previous cell.  Instead, write Python code to find out.\n",
    "\n",
    "*Hint:* Starting with `imdb_by_year`, extract the Title column to get an array, then use `item` to get its first item."
   ]
  },
  {
   "cell_type": "code",
   "execution_count": 34,
   "metadata": {
    "tags": []
   },
   "outputs": [],
   "source": [
    "earliest_movie_title = Table.column(imdb_by_year, \"Title\").item(0)\n",
    "earliest_movie_title"
   ]
  },
  {
   "cell_type": "code",
   "execution_count": null,
   "metadata": {
    "deletable": false,
    "editable": false
   },
   "outputs": [],
   "source": [
    "grader.check(\"q2.3\")"
   ]
  },
  {
   "cell_type": "markdown",
   "metadata": {
    "tags": []
   },
   "source": [
    "## 3. Finding pieces of a dataset\n",
    "Suppose you're interested in movies from the 1940s.  Sorting the table by year doesn't help you, because the 1940s are in the middle of the dataset.\n",
    "\n",
    "Instead, we use the table method `where`."
   ]
  },
  {
   "cell_type": "code",
   "execution_count": 38,
   "metadata": {},
   "outputs": [],
   "source": [
    "forties = imdb.where('Decade', are.equal_to(1940))\n",
    "forties"
   ]
  },
  {
   "cell_type": "markdown",
   "metadata": {},
   "source": [
    "Ignore the syntax for the moment.  Instead, try to read that line like this:\n",
    "\n",
    "> Assign the name **`forties`** to a table whose rows are the rows in the **`imdb`** table **`where`** the **`'Decade'`**s **`are` `equal` `to` `1940`**.\n",
    "\n",
    "**Question 3.1.** Compute the average rating of movies from the 1940s.\n",
    "\n",
    "*Hint:* The function `np.average` computes the average of an array of numbers."
   ]
  },
  {
   "cell_type": "code",
   "execution_count": 45,
   "metadata": {
    "tags": []
   },
   "outputs": [],
   "source": [
    "average_rating_in_forties = ...\n",
    "average_rating_in_forties"
   ]
  },
  {
   "cell_type": "code",
   "execution_count": null,
   "metadata": {
    "deletable": false,
    "editable": false
   },
   "outputs": [],
   "source": [
    "grader.check(\"q3.1\")"
   ]
  },
  {
   "cell_type": "markdown",
   "metadata": {},
   "source": [
    "Now let's dive into the details a bit more.  `where` takes 2 arguments:\n",
    "\n",
    "1. The name of a column.  `where` finds rows where that column's values meet some criterion.\n",
    "2. Something that describes the criterion that the column needs to meet, called a predicate.\n",
    "\n",
    "To create our predicate, we called the function `are.equal_to` with the value we wanted, 1940.  We'll see other predicates soon.\n",
    "\n",
    "`where` returns a table that's a copy of the original table, but with only the rows that meet the given predicate.\n",
    "\n",
    "**Question 3.2.** Create a table called `ninety_nine` containing the movies that came out in the year 1999.  Use `where`."
   ]
  },
  {
   "cell_type": "code",
   "execution_count": 53,
   "metadata": {
    "tags": []
   },
   "outputs": [],
   "source": [
    "ninety_nine = ...\n",
    "ninety_nine"
   ]
  },
  {
   "cell_type": "code",
   "execution_count": null,
   "metadata": {
    "deletable": false,
    "editable": false
   },
   "outputs": [],
   "source": [
    "grader.check(\"q3.2\")"
   ]
  },
  {
   "cell_type": "markdown",
   "metadata": {},
   "source": [
    "So far we've only been finding where a column is *exactly* equal to a certain value. However, there are many other predicates.  Here are a few:\n",
    "\n",
    "|Predicate|Example|Result|\n",
    "|-|-|-|\n",
    "|`are.equal_to`|`are.equal_to(50)`|Find rows with values equal to 50|\n",
    "|`are.not_equal_to`|`are.not_equal_to(50)`|Find rows with values not equal to 50|\n",
    "|`are.above`|`are.above(50)`|Find rows with values above (and not equal to) 50|\n",
    "|`are.above_or_equal_to`|`are.above_or_equal_to(50)`|Find rows with values above 50 or equal to 50|\n",
    "|`are.below`|`are.below(50)`|Find rows with values below 50|\n",
    "|`are.between`|`are.between(2, 10)`|Find rows with values above or equal to 2 and below 10|\n",
    "\n",
    "The textbook section on selecting rows has more examples.\n"
   ]
  },
  {
   "cell_type": "markdown",
   "metadata": {},
   "source": [
    "**Question 3.3.** Using `where` and one of the predicates from the table above, find all the movies with a rating higher than 8.5.  Put their data in a table called `really_highly_rated`."
   ]
  },
  {
   "cell_type": "code",
   "execution_count": 57,
   "metadata": {
    "tags": []
   },
   "outputs": [],
   "source": [
    "really_highly_rated = ...\n",
    "really_highly_rated"
   ]
  },
  {
   "cell_type": "code",
   "execution_count": null,
   "metadata": {
    "deletable": false,
    "editable": false
   },
   "outputs": [],
   "source": [
    "grader.check(\"q3.3\")"
   ]
  },
  {
   "cell_type": "markdown",
   "metadata": {},
   "source": [
    "**Question 3.4.** Find the average rating for movies released in the 20th century and the average rating for movies released in the 21st century for the movies in `imdb`.\n",
    "\n",
    "*Hint*: Think of the steps you need to do (take the average, find the ratings, find movies released in 20th/21st centuries), and try to put them in an order that makes sense."
   ]
  },
  {
   "cell_type": "code",
   "execution_count": 62,
   "metadata": {
    "tags": []
   },
   "outputs": [],
   "source": [
    "average_20th_century_rating = ...\n",
    "average_21st_century_rating = ...\n",
    "print(\"Average 20th century rating:\", average_20th_century_rating)\n",
    "print(\"Average 21st century rating:\", average_21st_century_rating)"
   ]
  },
  {
   "cell_type": "code",
   "execution_count": null,
   "metadata": {
    "deletable": false,
    "editable": false
   },
   "outputs": [],
   "source": [
    "grader.check(\"q3.4\")"
   ]
  },
  {
   "cell_type": "markdown",
   "metadata": {},
   "source": [
    "The property `num_rows` tells you how many rows are in a table.  (A \"property\" is just a method that doesn't need to be called by adding parentheses.)"
   ]
  },
  {
   "cell_type": "code",
   "execution_count": 64,
   "metadata": {},
   "outputs": [],
   "source": [
    "num_movies_in_dataset = imdb.num_rows\n",
    "num_movies_in_dataset"
   ]
  },
  {
   "cell_type": "markdown",
   "metadata": {},
   "source": [
    "**Question 3.5.** Use `num_rows` (and arithmetic) to find the *proportion* of movies in the dataset that were released in the 20th century, and the proportion from the 21st century.\n",
    "\n",
    "*Hint:* The *proportion* of movies released in the 20th century is the *number* of movies released in the 20th century, divided by the *total number* of movies."
   ]
  },
  {
   "cell_type": "code",
   "execution_count": 65,
   "metadata": {
    "tags": []
   },
   "outputs": [],
   "source": [
    "proportion_in_20th_century = ...\n",
    "proportion_in_21st_century = ...\n",
    "print(\"Proportion in 20th century:\", proportion_in_20th_century)\n",
    "print(\"Proportion in 21st century:\", proportion_in_21st_century)"
   ]
  },
  {
   "cell_type": "code",
   "execution_count": null,
   "metadata": {
    "deletable": false,
    "editable": false
   },
   "outputs": [],
   "source": [
    "grader.check(\"q3.5\")"
   ]
  },
  {
   "cell_type": "markdown",
   "metadata": {},
   "source": [
    "**Question 3.6.** Here's a challenge: Find the number of movies that came out in *even* years.\n",
    "\n",
    "*Hint:* The operator `%` computes the remainder when dividing by a number.  So `5 % 2` is 1 and `6 % 2` is 0.  A number is even if the remainder is 0 when you divide by 2.\n",
    "\n",
    "*Hint 2:* `%` can be used on arrays, operating elementwise like `+` or `*`.  So `make_array(5, 6, 7) % 2` is `array([1, 0, 1])`.\n",
    "\n",
    "*Hint 3:* Create a column called \"Year Remainder\" that's the remainder when each movie's release year is divided by 2.  Make a copy of `imdb` that includes that column.  Then use `where` to find rows where that new column is equal to 0.  Then use `num_rows` to count the number of such rows."
   ]
  },
  {
   "cell_type": "code",
   "execution_count": 68,
   "metadata": {
    "for_assignment_type": "student",
    "tags": []
   },
   "outputs": [],
   "source": [
    "num_even_year_movies = ...\n",
    "num_even_year_movies"
   ]
  },
  {
   "cell_type": "code",
   "execution_count": null,
   "metadata": {
    "deletable": false,
    "editable": false
   },
   "outputs": [],
   "source": [
    "grader.check(\"q3.6\")"
   ]
  },
  {
   "cell_type": "markdown",
   "metadata": {},
   "source": [
    "## 4. Summary\n",
    "\n",
    "For your reference, here's a table of all the functions and methods we have covered in class and in the lab.\n",
    "\n",
    "|Name|Example|Purpose|\n",
    "|-|-|-|\n",
    "|`Table`|`Table()`|Create an empty table, usually to extend with data|\n",
    "|`Table.read_table`|`Table.read_table(\"my_data.csv\")`|Create a table from a data file|\n",
    "|`with_columns`|`tbl = Table().with_columns(\"N\", np.arange(5), \"2*N\", np.arange(0, 10, 2))`|Create a copy of a table with more columns|\n",
    "|`column`|`tbl.column(\"N\")`|Create an array containing the elements of a column|\n",
    "|`sort`|`tbl.sort(\"N\")`|Create a copy of a table sorted by the values in a column|\n",
    "|`where`|`tbl.where(\"N\", are.above(2))`|Create a copy of a table with only the rows that match some *predicate*|\n",
    "|`num_rows`|`tbl.num_rows`|Compute the number of rows in a table|\n",
    "|`num_columns`|`tbl.num_columns`|Compute the number of columns in a table|\n",
    "|`select`|`tbl.select(\"N\")`|Create a copy of a table with only some of the columns|\n",
    "|`drop`|`tbl.drop(\"2*N\")`|Create a copy of a table without some of the columns|\n",
    "|`take`|`tbl.take(np.arange(0, 6, 2))`|Create a copy of the table with only the rows whose indices are in the given array|\n",
    "\n",
    "<br/>"
   ]
  },
  {
   "cell_type": "markdown",
   "metadata": {
    "deletable": false,
    "editable": false
   },
   "source": [
    "---\n",
    "\n",
    "To double-check your work, the cell below will rerun all of the autograder tests."
   ]
  },
  {
   "cell_type": "code",
   "execution_count": null,
   "metadata": {
    "deletable": false,
    "editable": false
   },
   "outputs": [],
   "source": [
    "grader.check_all()"
   ]
  }
 ],
 "metadata": {
  "kernelspec": {
   "display_name": "Python 3",
   "language": "python",
   "name": "python3"
  },
  "language_info": {
   "codemirror_mode": {
    "name": "ipython",
    "version": 3
   },
   "file_extension": ".py",
   "mimetype": "text/x-python",
   "name": "python",
   "nbconvert_exporter": "python",
   "pygments_lexer": "ipython3",
   "version": "3.8.3"
  },
  "otter": {
   "tests": {
    "q1.1": {
     "name": "q1.1",
     "points": 0,
     "suites": [
      {
       "cases": [
        {
         "code": ">>> assert type(my_flower[0]) == int\n>>> assert type(my_flower[1]) == str\n",
         "hidden": false,
         "locked": false
        }
       ],
       "scored": true,
       "setup": "",
       "teardown": "",
       "type": "doctest"
      }
     ]
    },
    "q1.2": {
     "name": "q1.2",
     "points": 0,
     "suites": [
      {
       "cases": [
        {
         "code": ">>> assert seven_flowers.num_rows == 7\n",
         "hidden": false,
         "locked": false
        }
       ],
       "scored": true,
       "setup": "",
       "teardown": "",
       "type": "doctest"
      }
     ]
    },
    "q2.1": {
     "name": "q2.1",
     "points": 0,
     "suites": [
      {
       "cases": [
        {
         "code": ">>> assert float(highest_rating) == 9.2\n",
         "hidden": false,
         "locked": false
        }
       ],
       "scored": true,
       "setup": "",
       "teardown": "",
       "type": "doctest"
      }
     ]
    },
    "q2.2": {
     "name": "q2.2",
     "points": 0,
     "suites": [
      {
       "cases": [
        {
         "code": ">>> assert str(imdb_by_year[\"Title\"][0]) == \"The Kid\"\n>>> assert str(imdb_by_year[\"Title\"][1]) == \"The Gold Rush\"\n",
         "hidden": false,
         "locked": false
        }
       ],
       "scored": true,
       "setup": "",
       "teardown": "",
       "type": "doctest"
      }
     ]
    },
    "q2.3": {
     "name": "q2.3",
     "points": 0,
     "suites": [
      {
       "cases": [
        {
         "code": ">>> assert str(earliest_movie_title) == \"The Kid\"\n",
         "hidden": false,
         "locked": false
        }
       ],
       "scored": true,
       "setup": "",
       "teardown": "",
       "type": "doctest"
      }
     ]
    },
    "q3.1": {
     "name": "q3.1",
     "points": 0,
     "suites": [
      {
       "cases": [
        {
         "code": ">>> assert float(np.round(average_rating_in_forties,1)) == 8.3\n",
         "hidden": false,
         "locked": false
        }
       ],
       "scored": true,
       "setup": "",
       "teardown": "",
       "type": "doctest"
      }
     ]
    },
    "q3.2": {
     "name": "q3.2",
     "points": 0,
     "suites": [
      {
       "cases": [
        {
         "code": ">>> assert str(ninety_nine[\"Title\"][0]) == \"Fight Club\"\n>>> assert str(ninety_nine[\"Title\"][1]) == \"American Beauty\"\n",
         "hidden": false,
         "locked": false
        }
       ],
       "scored": true,
       "setup": "",
       "teardown": "",
       "type": "doctest"
      }
     ]
    },
    "q3.3": {
     "name": "q3.3",
     "points": 0,
     "suites": [
      {
       "cases": [
        {
         "code": ">>> assert str(really_highly_rated[\"Title\"][0]) == \"Léon\"\n>>> assert str(really_highly_rated[\"Title\"][1]) == \"The Godfather\"\n",
         "hidden": false,
         "locked": false
        }
       ],
       "scored": true,
       "setup": "",
       "teardown": "",
       "type": "doctest"
      }
     ]
    },
    "q3.4": {
     "name": "q3.4",
     "points": 0,
     "suites": [
      {
       "cases": [
        {
         "code": ">>> assert float(np.round(average_20th_century_rating,2)) == 8.28\n>>> assert float(np.round(average_21st_century_rating,2)) == 8.24\n",
         "hidden": false,
         "locked": false
        }
       ],
       "scored": true,
       "setup": "",
       "teardown": "",
       "type": "doctest"
      }
     ]
    },
    "q3.5": {
     "name": "q3.5",
     "points": 0,
     "suites": [
      {
       "cases": [
        {
         "code": ">>> assert float(np.round(proportion_in_20th_century,2)) == 0.68\n>>> assert float(np.round(proportion_in_21st_century,2)) == 0.32\n",
         "hidden": false,
         "locked": false
        }
       ],
       "scored": true,
       "setup": "",
       "teardown": "",
       "type": "doctest"
      }
     ]
    },
    "q3.6": {
     "name": "q3.6",
     "points": 0,
     "suites": [
      {
       "cases": [
        {
         "code": ">>> assert int(num_even_year_movies) == int(imdb.with_columns(\"Year Remainder\", (imdb.column(\"Year\") % 2)).where(\"Year Remainder\", are.equal_to(0)).num_rows)\n",
         "hidden": false,
         "locked": false
        }
       ],
       "scored": true,
       "setup": "",
       "teardown": "",
       "type": "doctest"
      }
     ]
    }
   }
  }
 },
 "nbformat": 4,
 "nbformat_minor": 5
}
