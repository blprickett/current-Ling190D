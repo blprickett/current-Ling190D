{
 "cells": [
  {
   "cell_type": "markdown",
   "metadata": {},
   "source": [
    "# Homework 3: Table Manipulation and Visualization"
   ]
  },
  {
   "cell_type": "markdown",
   "metadata": {},
   "source": [
    "**Reading**: Textbook chapter [7](https://umass-data-science.github.io/190fwebsite/textbook/07/visualization/)."
   ]
  },
  {
   "cell_type": "markdown",
   "metadata": {},
   "source": [
    "Please complete this notebook by filling in the cells provided. Before you begin, execute the following cell to load the provided tests. Each time you start your server, you will need to execute this cell again to load the tests.\n",
    "\n",
    "Homework 3 is due Monday, 9/27 at 2:30pm. Start early so that you can come to office hours if you're stuck. Check the website for the office hours schedule. Late work will not be accepted as per the [policies](https://umass-data-science.github.io/190fwebsite/policy/) of this course. \n",
    "\n",
    "Throughout this homework and all future ones, please be sure to not re-assign variables throughout the notebook! For example, if you use `max_temperature` in your answer to one question, do not reassign it later on. Moreover, please be sure to only put your written answers in the provided cells. "
   ]
  },
  {
   "cell_type": "code",
   "execution_count": 1,
   "metadata": {},
   "outputs": [
    {
     "name": "stdout",
     "output_type": "stream",
     "text": [
      "Requirement already satisfied: otter-grader in /Users/tbernard/anaconda3/lib/python3.8/site-packages (3.0.6)\n",
      "Requirement already satisfied: nbconvert in /Users/tbernard/anaconda3/lib/python3.8/site-packages (from otter-grader) (5.6.1)\n",
      "Requirement already satisfied: pdfkit in /Users/tbernard/anaconda3/lib/python3.8/site-packages (from otter-grader) (0.6.1)\n",
      "Requirement already satisfied: gspread in /Users/tbernard/anaconda3/lib/python3.8/site-packages (from otter-grader) (4.0.1)\n",
      "Requirement already satisfied: six in /Users/tbernard/anaconda3/lib/python3.8/site-packages (from otter-grader) (1.15.0)\n",
      "Requirement already satisfied: nbformat in /Users/tbernard/anaconda3/lib/python3.8/site-packages (from otter-grader) (5.0.7)\n",
      "Requirement already satisfied: dill in /Users/tbernard/anaconda3/lib/python3.8/site-packages (from otter-grader) (0.3.4)\n",
      "Requirement already satisfied: ipykernel in /Users/tbernard/anaconda3/lib/python3.8/site-packages (from otter-grader) (5.3.2)\n",
      "Requirement already satisfied: python-on-whales in /Users/tbernard/anaconda3/lib/python3.8/site-packages (from otter-grader) (0.24.0)\n",
      "Requirement already satisfied: google-auth-oauthlib in /Users/tbernard/anaconda3/lib/python3.8/site-packages (from otter-grader) (0.4.6)\n",
      "Requirement already satisfied: matplotlib in /Users/tbernard/anaconda3/lib/python3.8/site-packages (from otter-grader) (3.2.2)\n",
      "Requirement already satisfied: google-api-python-client in /Users/tbernard/anaconda3/lib/python3.8/site-packages (from otter-grader) (2.19.0)\n",
      "Requirement already satisfied: jupytext in /Users/tbernard/anaconda3/lib/python3.8/site-packages (from otter-grader) (1.11.5)\n",
      "Requirement already satisfied: requests in /Users/tbernard/anaconda3/lib/python3.8/site-packages (from otter-grader) (2.22.0)\n",
      "Requirement already satisfied: jinja2 in /Users/tbernard/anaconda3/lib/python3.8/site-packages (from otter-grader) (2.11.2)\n",
      "Requirement already satisfied: pandas in /Users/tbernard/anaconda3/lib/python3.8/site-packages (from otter-grader) (1.0.5)\n",
      "Requirement already satisfied: jupyter-client in /Users/tbernard/anaconda3/lib/python3.8/site-packages (from otter-grader) (6.1.6)\n",
      "Requirement already satisfied: PyPDF2 in /Users/tbernard/anaconda3/lib/python3.8/site-packages (from otter-grader) (1.26.0)\n",
      "Requirement already satisfied: pandocfilters>=1.4.1 in /Users/tbernard/anaconda3/lib/python3.8/site-packages (from nbconvert->otter-grader) (1.4.2)\n",
      "Requirement already satisfied: bleach in /Users/tbernard/anaconda3/lib/python3.8/site-packages (from nbconvert->otter-grader) (3.1.5)\n",
      "Requirement already satisfied: testpath in /Users/tbernard/anaconda3/lib/python3.8/site-packages (from nbconvert->otter-grader) (0.4.4)\n",
      "Requirement already satisfied: mistune<2,>=0.8.1 in /Users/tbernard/anaconda3/lib/python3.8/site-packages (from nbconvert->otter-grader) (0.8.4)\n",
      "Requirement already satisfied: jupyter-core in /Users/tbernard/anaconda3/lib/python3.8/site-packages (from nbconvert->otter-grader) (4.6.3)\n",
      "Requirement already satisfied: traitlets>=4.2 in /Users/tbernard/anaconda3/lib/python3.8/site-packages (from nbconvert->otter-grader) (4.3.3)\n",
      "Requirement already satisfied: entrypoints>=0.2.2 in /Users/tbernard/anaconda3/lib/python3.8/site-packages (from nbconvert->otter-grader) (0.3)\n",
      "Requirement already satisfied: defusedxml in /Users/tbernard/anaconda3/lib/python3.8/site-packages (from nbconvert->otter-grader) (0.6.0)\n",
      "Requirement already satisfied: pygments in /Users/tbernard/anaconda3/lib/python3.8/site-packages (from nbconvert->otter-grader) (2.6.1)\n",
      "Requirement already satisfied: google-auth>=1.12.0 in /Users/tbernard/anaconda3/lib/python3.8/site-packages (from gspread->otter-grader) (2.0.2)\n",
      "Requirement already satisfied: jsonschema!=2.5.0,>=2.4 in /Users/tbernard/anaconda3/lib/python3.8/site-packages (from nbformat->otter-grader) (3.2.0)\n",
      "Requirement already satisfied: ipython-genutils in /Users/tbernard/anaconda3/lib/python3.8/site-packages (from nbformat->otter-grader) (0.2.0)\n",
      "Requirement already satisfied: appnope; platform_system == \"Darwin\" in /Users/tbernard/anaconda3/lib/python3.8/site-packages (from ipykernel->otter-grader) (0.1.0)\n",
      "Requirement already satisfied: tornado>=4.2 in /Users/tbernard/anaconda3/lib/python3.8/site-packages (from ipykernel->otter-grader) (6.0.4)\n",
      "Requirement already satisfied: ipython>=5.0.0 in /Users/tbernard/anaconda3/lib/python3.8/site-packages (from ipykernel->otter-grader) (7.16.1)\n",
      "Requirement already satisfied: pydantic in /Users/tbernard/anaconda3/lib/python3.8/site-packages (from python-on-whales->otter-grader) (1.8.2)\n",
      "Requirement already satisfied: typer in /Users/tbernard/anaconda3/lib/python3.8/site-packages (from python-on-whales->otter-grader) (0.4.0)\n",
      "Requirement already satisfied: tqdm in /Users/tbernard/anaconda3/lib/python3.8/site-packages (from python-on-whales->otter-grader) (4.47.0)\n",
      "Requirement already satisfied: requests-oauthlib>=0.7.0 in /Users/tbernard/anaconda3/lib/python3.8/site-packages (from google-auth-oauthlib->otter-grader) (1.3.0)\n",
      "Requirement already satisfied: cycler>=0.10 in /Users/tbernard/anaconda3/lib/python3.8/site-packages (from matplotlib->otter-grader) (0.10.0)\n",
      "Requirement already satisfied: python-dateutil>=2.1 in /Users/tbernard/anaconda3/lib/python3.8/site-packages (from matplotlib->otter-grader) (2.8.1)\n",
      "Requirement already satisfied: pyparsing!=2.0.4,!=2.1.2,!=2.1.6,>=2.0.1 in /Users/tbernard/anaconda3/lib/python3.8/site-packages (from matplotlib->otter-grader) (2.4.7)\n",
      "Requirement already satisfied: numpy>=1.11 in /Users/tbernard/anaconda3/lib/python3.8/site-packages (from matplotlib->otter-grader) (1.18.5)\n",
      "Requirement already satisfied: kiwisolver>=1.0.1 in /Users/tbernard/anaconda3/lib/python3.8/site-packages (from matplotlib->otter-grader) (1.2.0)\n",
      "Requirement already satisfied: httplib2<1dev,>=0.15.0 in /Users/tbernard/anaconda3/lib/python3.8/site-packages (from google-api-python-client->otter-grader) (0.19.1)\n",
      "Requirement already satisfied: google-auth-httplib2>=0.1.0 in /Users/tbernard/anaconda3/lib/python3.8/site-packages (from google-api-python-client->otter-grader) (0.1.0)\n",
      "Requirement already satisfied: uritemplate<4dev,>=3.0.0 in /Users/tbernard/anaconda3/lib/python3.8/site-packages (from google-api-python-client->otter-grader) (3.0.1)\n",
      "Requirement already satisfied: google-api-core<3.0.0dev,>=1.21.0 in /Users/tbernard/anaconda3/lib/python3.8/site-packages (from google-api-python-client->otter-grader) (2.0.1)\n",
      "Requirement already satisfied: pyyaml in /Users/tbernard/anaconda3/lib/python3.8/site-packages (from jupytext->otter-grader) (5.3.1)\n",
      "Requirement already satisfied: markdown-it-py~=1.0 in /Users/tbernard/anaconda3/lib/python3.8/site-packages (from jupytext->otter-grader) (1.1.0)\n",
      "Requirement already satisfied: toml in /Users/tbernard/anaconda3/lib/python3.8/site-packages (from jupytext->otter-grader) (0.10.1)\n",
      "Requirement already satisfied: mdit-py-plugins in /Users/tbernard/anaconda3/lib/python3.8/site-packages (from jupytext->otter-grader) (0.2.8)\n",
      "Requirement already satisfied: chardet<3.1.0,>=3.0.2 in /Users/tbernard/anaconda3/lib/python3.8/site-packages (from requests->otter-grader) (3.0.4)\n",
      "Requirement already satisfied: certifi>=2017.4.17 in /Users/tbernard/anaconda3/lib/python3.8/site-packages (from requests->otter-grader) (2019.11.28)\n",
      "Requirement already satisfied: idna<2.9,>=2.5 in /Users/tbernard/anaconda3/lib/python3.8/site-packages (from requests->otter-grader) (2.8)\n",
      "Requirement already satisfied: urllib3!=1.25.0,!=1.25.1,<1.26,>=1.21.1 in /Users/tbernard/anaconda3/lib/python3.8/site-packages (from requests->otter-grader) (1.25.7)\n",
      "Requirement already satisfied: MarkupSafe>=0.23 in /Users/tbernard/anaconda3/lib/python3.8/site-packages (from jinja2->otter-grader) (1.1.1)\n",
      "Requirement already satisfied: pytz>=2017.2 in /Users/tbernard/anaconda3/lib/python3.8/site-packages (from pandas->otter-grader) (2020.1)\n",
      "Requirement already satisfied: pyzmq>=13 in /Users/tbernard/anaconda3/lib/python3.8/site-packages (from jupyter-client->otter-grader) (19.0.1)\n",
      "Requirement already satisfied: webencodings in /Users/tbernard/anaconda3/lib/python3.8/site-packages (from bleach->nbconvert->otter-grader) (0.5.1)\n",
      "Requirement already satisfied: packaging in /Users/tbernard/anaconda3/lib/python3.8/site-packages (from bleach->nbconvert->otter-grader) (20.4)\n",
      "Requirement already satisfied: decorator in /Users/tbernard/anaconda3/lib/python3.8/site-packages (from traitlets>=4.2->nbconvert->otter-grader) (4.4.2)\n",
      "Requirement already satisfied: cachetools<5.0,>=2.0.0 in /Users/tbernard/anaconda3/lib/python3.8/site-packages (from google-auth>=1.12.0->gspread->otter-grader) (4.2.2)\n",
      "Requirement already satisfied: pyasn1-modules>=0.2.1 in /Users/tbernard/anaconda3/lib/python3.8/site-packages (from google-auth>=1.12.0->gspread->otter-grader) (0.2.8)\n",
      "Requirement already satisfied: rsa<5,>=3.1.4 in /Users/tbernard/anaconda3/lib/python3.8/site-packages (from google-auth>=1.12.0->gspread->otter-grader) (4.7.2)\n",
      "Requirement already satisfied: setuptools>=40.3.0 in /Users/tbernard/anaconda3/lib/python3.8/site-packages (from google-auth>=1.12.0->gspread->otter-grader) (49.2.0.post20200714)\n",
      "Requirement already satisfied: attrs>=17.4.0 in /Users/tbernard/anaconda3/lib/python3.8/site-packages (from jsonschema!=2.5.0,>=2.4->nbformat->otter-grader) (19.3.0)\n",
      "Requirement already satisfied: pyrsistent>=0.14.0 in /Users/tbernard/anaconda3/lib/python3.8/site-packages (from jsonschema!=2.5.0,>=2.4->nbformat->otter-grader) (0.16.0)\n"
     ]
    },
    {
     "name": "stdout",
     "output_type": "stream",
     "text": [
      "Requirement already satisfied: jedi>=0.10 in /Users/tbernard/anaconda3/lib/python3.8/site-packages (from ipython>=5.0.0->ipykernel->otter-grader) (0.17.1)\n",
      "Requirement already satisfied: prompt-toolkit!=3.0.0,!=3.0.1,<3.1.0,>=2.0.0 in /Users/tbernard/anaconda3/lib/python3.8/site-packages (from ipython>=5.0.0->ipykernel->otter-grader) (3.0.5)\n",
      "Requirement already satisfied: backcall in /Users/tbernard/anaconda3/lib/python3.8/site-packages (from ipython>=5.0.0->ipykernel->otter-grader) (0.2.0)\n",
      "Requirement already satisfied: pexpect; sys_platform != \"win32\" in /Users/tbernard/anaconda3/lib/python3.8/site-packages (from ipython>=5.0.0->ipykernel->otter-grader) (4.8.0)\n",
      "Requirement already satisfied: pickleshare in /Users/tbernard/anaconda3/lib/python3.8/site-packages (from ipython>=5.0.0->ipykernel->otter-grader) (0.7.5)\n",
      "Requirement already satisfied: typing-extensions>=3.7.4.3 in /Users/tbernard/anaconda3/lib/python3.8/site-packages (from pydantic->python-on-whales->otter-grader) (3.10.0.2)\n",
      "Requirement already satisfied: click<9.0.0,>=7.1.1 in /Users/tbernard/anaconda3/lib/python3.8/site-packages (from typer->python-on-whales->otter-grader) (7.1.2)\n",
      "Requirement already satisfied: oauthlib>=3.0.0 in /Users/tbernard/anaconda3/lib/python3.8/site-packages (from requests-oauthlib>=0.7.0->google-auth-oauthlib->otter-grader) (3.1.1)\n",
      "Requirement already satisfied: googleapis-common-protos<2.0dev,>=1.6.0 in /Users/tbernard/anaconda3/lib/python3.8/site-packages (from google-api-core<3.0.0dev,>=1.21.0->google-api-python-client->otter-grader) (1.53.0)\n",
      "Requirement already satisfied: protobuf>=3.12.0 in /Users/tbernard/anaconda3/lib/python3.8/site-packages (from google-api-core<3.0.0dev,>=1.21.0->google-api-python-client->otter-grader) (3.17.3)\n",
      "Requirement already satisfied: pyasn1<0.5.0,>=0.4.6 in /Users/tbernard/anaconda3/lib/python3.8/site-packages (from pyasn1-modules>=0.2.1->google-auth>=1.12.0->gspread->otter-grader) (0.4.8)\n",
      "Requirement already satisfied: parso<0.8.0,>=0.7.0 in /Users/tbernard/anaconda3/lib/python3.8/site-packages (from jedi>=0.10->ipython>=5.0.0->ipykernel->otter-grader) (0.7.0)\n",
      "Requirement already satisfied: wcwidth in /Users/tbernard/anaconda3/lib/python3.8/site-packages (from prompt-toolkit!=3.0.0,!=3.0.1,<3.1.0,>=2.0.0->ipython>=5.0.0->ipykernel->otter-grader) (0.2.5)\n",
      "Requirement already satisfied: ptyprocess>=0.5 in /Users/tbernard/anaconda3/lib/python3.8/site-packages (from pexpect; sys_platform != \"win32\"->ipython>=5.0.0->ipykernel->otter-grader) (0.6.0)\n",
      "Requirement already satisfied: datascience in /Users/tbernard/anaconda3/lib/python3.8/site-packages (0.15.10)\n",
      "Requirement already satisfied: folium>=0.9.1 in /Users/tbernard/anaconda3/lib/python3.8/site-packages (from datascience) (0.11.0)\n",
      "Requirement already satisfied: ipython in /Users/tbernard/anaconda3/lib/python3.8/site-packages (from datascience) (7.16.1)\n",
      "Requirement already satisfied: pytest in /Users/tbernard/anaconda3/lib/python3.8/site-packages (from datascience) (5.4.3)\n",
      "Requirement already satisfied: numpy in /Users/tbernard/anaconda3/lib/python3.8/site-packages (from datascience) (1.18.5)\n",
      "Requirement already satisfied: bokeh in /Users/tbernard/anaconda3/lib/python3.8/site-packages (from datascience) (2.1.1)\n",
      "Requirement already satisfied: coveralls in /Users/tbernard/anaconda3/lib/python3.8/site-packages (from datascience) (2.1.2)\n",
      "Requirement already satisfied: matplotlib>=3.0.0 in /Users/tbernard/anaconda3/lib/python3.8/site-packages (from datascience) (3.2.2)\n",
      "Requirement already satisfied: pandas in /Users/tbernard/anaconda3/lib/python3.8/site-packages (from datascience) (1.0.5)\n",
      "Requirement already satisfied: setuptools in /Users/tbernard/anaconda3/lib/python3.8/site-packages (from datascience) (49.2.0.post20200714)\n",
      "Requirement already satisfied: sphinx in /Users/tbernard/anaconda3/lib/python3.8/site-packages (from datascience) (3.1.2)\n",
      "Requirement already satisfied: coverage in /Users/tbernard/anaconda3/lib/python3.8/site-packages (from datascience) (4.4)\n",
      "Requirement already satisfied: scipy in /Users/tbernard/anaconda3/lib/python3.8/site-packages (from datascience) (1.5.0)\n",
      "Requirement already satisfied: requests in /Users/tbernard/anaconda3/lib/python3.8/site-packages (from folium>=0.9.1->datascience) (2.22.0)\n",
      "Requirement already satisfied: branca>=0.3.0 in /Users/tbernard/anaconda3/lib/python3.8/site-packages (from folium>=0.9.1->datascience) (0.4.1)\n",
      "Requirement already satisfied: jinja2>=2.9 in /Users/tbernard/anaconda3/lib/python3.8/site-packages (from folium>=0.9.1->datascience) (2.11.2)\n",
      "Requirement already satisfied: pickleshare in /Users/tbernard/anaconda3/lib/python3.8/site-packages (from ipython->datascience) (0.7.5)\n",
      "Requirement already satisfied: decorator in /Users/tbernard/anaconda3/lib/python3.8/site-packages (from ipython->datascience) (4.4.2)\n",
      "Requirement already satisfied: pexpect; sys_platform != \"win32\" in /Users/tbernard/anaconda3/lib/python3.8/site-packages (from ipython->datascience) (4.8.0)\n",
      "Requirement already satisfied: traitlets>=4.2 in /Users/tbernard/anaconda3/lib/python3.8/site-packages (from ipython->datascience) (4.3.3)\n",
      "Requirement already satisfied: pygments in /Users/tbernard/anaconda3/lib/python3.8/site-packages (from ipython->datascience) (2.6.1)\n",
      "Requirement already satisfied: backcall in /Users/tbernard/anaconda3/lib/python3.8/site-packages (from ipython->datascience) (0.2.0)\n",
      "Requirement already satisfied: prompt-toolkit!=3.0.0,!=3.0.1,<3.1.0,>=2.0.0 in /Users/tbernard/anaconda3/lib/python3.8/site-packages (from ipython->datascience) (3.0.5)\n",
      "Requirement already satisfied: appnope; sys_platform == \"darwin\" in /Users/tbernard/anaconda3/lib/python3.8/site-packages (from ipython->datascience) (0.1.0)\n",
      "Requirement already satisfied: jedi>=0.10 in /Users/tbernard/anaconda3/lib/python3.8/site-packages (from ipython->datascience) (0.17.1)\n",
      "Requirement already satisfied: py>=1.5.0 in /Users/tbernard/anaconda3/lib/python3.8/site-packages (from pytest->datascience) (1.9.0)\n",
      "Requirement already satisfied: packaging in /Users/tbernard/anaconda3/lib/python3.8/site-packages (from pytest->datascience) (20.4)\n",
      "Requirement already satisfied: attrs>=17.4.0 in /Users/tbernard/anaconda3/lib/python3.8/site-packages (from pytest->datascience) (19.3.0)\n",
      "Requirement already satisfied: more-itertools>=4.0.0 in /Users/tbernard/anaconda3/lib/python3.8/site-packages (from pytest->datascience) (8.4.0)\n",
      "Requirement already satisfied: pluggy<1.0,>=0.12 in /Users/tbernard/anaconda3/lib/python3.8/site-packages (from pytest->datascience) (0.13.1)\n",
      "Requirement already satisfied: wcwidth in /Users/tbernard/anaconda3/lib/python3.8/site-packages (from pytest->datascience) (0.2.5)\n",
      "Requirement already satisfied: typing-extensions>=3.7.4 in /Users/tbernard/anaconda3/lib/python3.8/site-packages (from bokeh->datascience) (3.10.0.2)\n",
      "Requirement already satisfied: pillow>=4.0 in /Users/tbernard/anaconda3/lib/python3.8/site-packages (from bokeh->datascience) (7.2.0)\n",
      "Requirement already satisfied: python-dateutil>=2.1 in /Users/tbernard/anaconda3/lib/python3.8/site-packages (from bokeh->datascience) (2.8.1)\n",
      "Requirement already satisfied: PyYAML>=3.10 in /Users/tbernard/anaconda3/lib/python3.8/site-packages (from bokeh->datascience) (5.3.1)\n",
      "Requirement already satisfied: tornado>=5.1 in /Users/tbernard/anaconda3/lib/python3.8/site-packages (from bokeh->datascience) (6.0.4)\n",
      "Requirement already satisfied: docopt>=0.6.1 in /Users/tbernard/anaconda3/lib/python3.8/site-packages (from coveralls->datascience) (0.6.2)\n",
      "Requirement already satisfied: cycler>=0.10 in /Users/tbernard/anaconda3/lib/python3.8/site-packages (from matplotlib>=3.0.0->datascience) (0.10.0)\n",
      "Requirement already satisfied: kiwisolver>=1.0.1 in /Users/tbernard/anaconda3/lib/python3.8/site-packages (from matplotlib>=3.0.0->datascience) (1.2.0)\n",
      "Requirement already satisfied: pyparsing!=2.0.4,!=2.1.2,!=2.1.6,>=2.0.1 in /Users/tbernard/anaconda3/lib/python3.8/site-packages (from matplotlib>=3.0.0->datascience) (2.4.7)\n",
      "Requirement already satisfied: pytz>=2017.2 in /Users/tbernard/anaconda3/lib/python3.8/site-packages (from pandas->datascience) (2020.1)\n",
      "Requirement already satisfied: sphinxcontrib-applehelp in /Users/tbernard/anaconda3/lib/python3.8/site-packages (from sphinx->datascience) (1.0.2)\n",
      "Requirement already satisfied: sphinxcontrib-jsmath in /Users/tbernard/anaconda3/lib/python3.8/site-packages (from sphinx->datascience) (1.0.1)\n",
      "Requirement already satisfied: snowballstemmer>=1.1 in /Users/tbernard/anaconda3/lib/python3.8/site-packages (from sphinx->datascience) (2.0.0)\n",
      "Requirement already satisfied: alabaster<0.8,>=0.7 in /Users/tbernard/anaconda3/lib/python3.8/site-packages (from sphinx->datascience) (0.7.12)\n",
      "Requirement already satisfied: docutils>=0.12 in /Users/tbernard/anaconda3/lib/python3.8/site-packages (from sphinx->datascience) (0.16)\n",
      "Requirement already satisfied: sphinxcontrib-devhelp in /Users/tbernard/anaconda3/lib/python3.8/site-packages (from sphinx->datascience) (1.0.2)\n",
      "Requirement already satisfied: sphinxcontrib-qthelp in /Users/tbernard/anaconda3/lib/python3.8/site-packages (from sphinx->datascience) (1.0.3)\n",
      "Requirement already satisfied: sphinxcontrib-serializinghtml in /Users/tbernard/anaconda3/lib/python3.8/site-packages (from sphinx->datascience) (1.1.4)\n",
      "Requirement already satisfied: babel>=1.3 in /Users/tbernard/anaconda3/lib/python3.8/site-packages (from sphinx->datascience) (2.8.0)\n",
      "Requirement already satisfied: imagesize in /Users/tbernard/anaconda3/lib/python3.8/site-packages (from sphinx->datascience) (1.2.0)\n",
      "Requirement already satisfied: sphinxcontrib-htmlhelp in /Users/tbernard/anaconda3/lib/python3.8/site-packages (from sphinx->datascience) (1.0.3)\n",
      "Requirement already satisfied: urllib3!=1.25.0,!=1.25.1,<1.26,>=1.21.1 in /Users/tbernard/anaconda3/lib/python3.8/site-packages (from requests->folium>=0.9.1->datascience) (1.25.7)\n"
     ]
    },
    {
     "name": "stdout",
     "output_type": "stream",
     "text": [
      "Requirement already satisfied: certifi>=2017.4.17 in /Users/tbernard/anaconda3/lib/python3.8/site-packages (from requests->folium>=0.9.1->datascience) (2019.11.28)\r\n",
      "Requirement already satisfied: chardet<3.1.0,>=3.0.2 in /Users/tbernard/anaconda3/lib/python3.8/site-packages (from requests->folium>=0.9.1->datascience) (3.0.4)\r\n",
      "Requirement already satisfied: idna<2.9,>=2.5 in /Users/tbernard/anaconda3/lib/python3.8/site-packages (from requests->folium>=0.9.1->datascience) (2.8)\r\n",
      "Requirement already satisfied: MarkupSafe>=0.23 in /Users/tbernard/anaconda3/lib/python3.8/site-packages (from jinja2>=2.9->folium>=0.9.1->datascience) (1.1.1)\r\n",
      "Requirement already satisfied: ptyprocess>=0.5 in /Users/tbernard/anaconda3/lib/python3.8/site-packages (from pexpect; sys_platform != \"win32\"->ipython->datascience) (0.6.0)\r\n",
      "Requirement already satisfied: ipython-genutils in /Users/tbernard/anaconda3/lib/python3.8/site-packages (from traitlets>=4.2->ipython->datascience) (0.2.0)\r\n",
      "Requirement already satisfied: six in /Users/tbernard/anaconda3/lib/python3.8/site-packages (from traitlets>=4.2->ipython->datascience) (1.15.0)\r\n",
      "Requirement already satisfied: parso<0.8.0,>=0.7.0 in /Users/tbernard/anaconda3/lib/python3.8/site-packages (from jedi>=0.10->ipython->datascience) (0.7.0)\r\n"
     ]
    }
   ],
   "source": [
    "!pip install otter-grader\n",
    "!pip install datascience"
   ]
  },
  {
   "cell_type": "code",
   "execution_count": 2,
   "metadata": {},
   "outputs": [],
   "source": [
    "import otter\n",
    "import numpy as np\n",
    "from datascience import *\n",
    "grader = otter.Notebook()\n",
    "\n",
    "# These lines do some fancy plotting magic.\\n\",\n",
    "import matplotlib\n",
    "%matplotlib inline\n",
    "import matplotlib.pyplot as plots\n",
    "plots.style.use('fivethirtyeight')"
   ]
  },
  {
   "cell_type": "markdown",
   "metadata": {},
   "source": [
    "## 1. Differences between Universities, Part II\n"
   ]
  },
  {
   "cell_type": "markdown",
   "metadata": {},
   "source": [
    "**Question 1.1** Suppose you're choosing a university to attend, and you'd like to *quantify* how *dissimilar* any two universities are.  You rate each university you're considering on several numerical traits.  You decide on a very detailed list of 1000 traits, and you measure all of them!  Some examples:\n",
    "\n",
    "* The cost to attend (per year)\n",
    "* The average Yelp review of nearby Thai restaurants\n",
    "* The USA Today ranking of the Medical school\n",
    "* The USA Today ranking of the Engineering school\n",
    "\n",
    "You decide that the dissimilarity between two universities is the *total* of the differences in their traits.  That is, the dissimilarity is:\n",
    "\n",
    "* the **sum** of\n",
    "* the absolute values of\n",
    "* the 1000 differences in their trait values.\n",
    "\n",
    "In the next cell, we've loaded arrays containing the 1000 trait values for UMass and Harvard.  Compute the dissimilarity (according to the above method) between UMass and Harvard.  Call your answer `dissimilarity`.  Use a single line of code to compute the answer.\n",
    "\n",
    "*Note:* The data we're using aren't real -- we made them up for this exercise, except for the cost-of-attendance numbers. "
   ]
  },
  {
   "cell_type": "code",
   "execution_count": 2,
   "metadata": {
    "tags": []
   },
   "outputs": [],
   "source": [
    "UMass = ...\n",
    "Harvard = ...\n",
    "\n",
    "dissimilarity = ...\n",
    "dissimilarity"
   ]
  },
  {
   "cell_type": "code",
   "execution_count": null,
   "metadata": {
    "deletable": false,
    "editable": false
   },
   "outputs": [],
   "source": [
    "grader.check(\"q1.1\")"
   ]
  },
  {
   "cell_type": "markdown",
   "metadata": {},
   "source": [
    "**Question 1.2** Why do we sum up the absolute values of the differences in trait values, rather than just summing up the differences?"
   ]
  },
  {
   "cell_type": "markdown",
   "metadata": {},
   "source": [
    "_Type your answer here, replacing this text._"
   ]
  },
  {
   "cell_type": "markdown",
   "metadata": {
    "tags": []
   },
   "source": [
    "<!-- END QUESTION -->\n",
    "\n",
    "##### Weighing the traits\n",
    "After computing dissimilarities between several schools, you notice a problem with your method: the scale of the traits matters a lot.\n",
    "\n",
    "Since schools cost tens of thousands of dollars to attend, the cost-to-attend trait is always a much bigger *number* than most other traits.  That makes it affect the dissimilarity a lot more than other traits.  Two schools that differ in cost-to-attend by \\$900, but are otherwise identical, get a dissimilarity of 900.  But two schools that differ in graduation rate by .9 (a huge difference!), but are otherwise identical, get a dissimilarity of only .9.\n",
    "\n",
    "One way to fix this problem is to assign different \"weights\" to different traits.  For example, we could fix the problem above by multiplying the difference in the cost-to-attend traits by .001, so that a difference of 900 in cost-to-attend results in a dissimilarity of $900 \\times .001$, or $.9$.\n",
    "\n",
    "Here's a revised method that does that for every trait:\n",
    "\n",
    "1. For each trait, subtract the two schools' trait values.\n",
    "2. Then take the absolute value of that difference.\n",
    "3. *Now multiply that absolute value by a trait-specific number, like .001 or 2.*\n",
    "4. Now sum the 1000 resulting numbers.\n",
    "\n",
    "**Question 1.3** Suppose you've already decided on a weight for each trait.  These are loaded into an array called `weights` in the cell below.  `weights.item(0)` is the weight for the first trait, `weights.item(1)` is the weight for the second trait, and so on.  Use the revised method to compute a revised dissimilarity between UMass and Harvard.\n",
    "\n",
    "*Hint:* Using array arithmetic, your answer should be almost as short as in question 1."
   ]
  },
  {
   "cell_type": "code",
   "execution_count": null,
   "metadata": {
    "tags": []
   },
   "outputs": [],
   "source": [
    "weights = Table.read_table(\"weights.csv\").column(\"Weight\")\n",
    "\n",
    "revised_dissimilarity = ...\n",
    "revised_dissimilarity"
   ]
  },
  {
   "cell_type": "code",
   "execution_count": null,
   "metadata": {
    "deletable": false,
    "editable": false
   },
   "outputs": [],
   "source": [
    "grader.check(\"q1.3\")"
   ]
  },
  {
   "cell_type": "markdown",
   "metadata": {},
   "source": [
    "## 2. Unemployment\n"
   ]
  },
  {
   "cell_type": "markdown",
   "metadata": {},
   "source": [
    "The Federal Reserve Bank of St. Louis publishes data about jobs in the US.  Below we've loaded data on unemployment in the United States.  There are many ways of defining unemployment, and our dataset includes two notions of the unemployment rate:\n",
    "\n",
    "1. Among people who are able to work and are looking for a full-time job, the percentage who can't find a job.  This is called the Non-Employment Index, or NEI.\n",
    "2. Among people who are able to work and are looking for a full-time job, the percentage who can't find any job *or* are only working at a part-time job.  The latter group is called \"Part-Time for Economic Reasons\", so the acronym for this index is NEI-PTER.  (Economists are great at marketing.)\n",
    "\n",
    "The source of the data is [here](https://fred.stlouisfed.org/categories/33509)."
   ]
  },
  {
   "cell_type": "markdown",
   "metadata": {},
   "source": [
    "**Question 2.1** The data are in a CSV file called `unemployment.csv`.  Load that file into a table called `unemployment`."
   ]
  },
  {
   "cell_type": "code",
   "execution_count": null,
   "metadata": {
    "tags": []
   },
   "outputs": [],
   "source": [
    "unemployment = ...\n",
    "unemployment"
   ]
  },
  {
   "cell_type": "code",
   "execution_count": null,
   "metadata": {
    "deletable": false,
    "editable": false
   },
   "outputs": [],
   "source": [
    "grader.check(\"q2.1\")"
   ]
  },
  {
   "cell_type": "markdown",
   "metadata": {},
   "source": [
    "**Question 2.2** Sort the data in decreasing order by NEI, naming the sorted table `by_nei`.  Create another table called `by_nei_pter` that's sorted in decreasing order by NEI-PTER instead."
   ]
  },
  {
   "cell_type": "code",
   "execution_count": null,
   "metadata": {
    "tags": []
   },
   "outputs": [],
   "source": [
    "by_nei = ...\n",
    "by_nei_pter = ..."
   ]
  },
  {
   "cell_type": "code",
   "execution_count": null,
   "metadata": {
    "deletable": false,
    "editable": false
   },
   "outputs": [],
   "source": [
    "grader.check(\"q2.2\")"
   ]
  },
  {
   "cell_type": "markdown",
   "metadata": {},
   "source": [
    "**Question 2.3** Use `.take` to make a table containing the data for the 10 quarters when NEI was greatest.  Call that table `greatest_nei`."
   ]
  },
  {
   "cell_type": "code",
   "execution_count": null,
   "metadata": {
    "tags": []
   },
   "outputs": [],
   "source": [
    "greatest_nei = ...\n",
    "greatest_nei"
   ]
  },
  {
   "cell_type": "code",
   "execution_count": null,
   "metadata": {
    "deletable": false,
    "editable": false
   },
   "outputs": [],
   "source": [
    "grader.check(\"q2.3\")"
   ]
  },
  {
   "cell_type": "markdown",
   "metadata": {},
   "source": [
    "**Question 2.4** It's believed that many people became PTER (recall: \"Part-Time for Economic Reasons\") in the \"Great Recession\" of 2008-2009.  NEI-PTER is the percentage of people who are unemployed (and counted in the NEI) plus the percentage of people who are PTER.  Compute an array containing the percentage of people who were PTER in each quarter.  (The first element of the array should correspond to the first row of `unemployment`, and so on.)\n",
    "\n",
    "*Note:* Use the original `unemployment` table for this."
   ]
  },
  {
   "cell_type": "code",
   "execution_count": null,
   "metadata": {
    "tags": []
   },
   "outputs": [],
   "source": [
    "pter = ...\n",
    "pter"
   ]
  },
  {
   "cell_type": "code",
   "execution_count": null,
   "metadata": {
    "deletable": false,
    "editable": false
   },
   "outputs": [],
   "source": [
    "grader.check(\"q2.4\")"
   ]
  },
  {
   "cell_type": "markdown",
   "metadata": {},
   "source": [
    "**Question 2.5** Add `pter` as a column to `unemployment` (named \"PTER\") and sort the resulting table by that column in decreasing order.  Call the table `by_pter`.\n",
    "\n",
    "Try to do this with a single line of code, if you can."
   ]
  },
  {
   "cell_type": "code",
   "execution_count": null,
   "metadata": {
    "tags": []
   },
   "outputs": [],
   "source": [
    "by_pter = ...\n",
    "by_pter"
   ]
  },
  {
   "cell_type": "code",
   "execution_count": null,
   "metadata": {
    "deletable": false,
    "editable": false
   },
   "outputs": [],
   "source": [
    "grader.check(\"q2.5\")"
   ]
  },
  {
   "cell_type": "markdown",
   "metadata": {},
   "source": [
    "**Question 2.6** Create a line plot of the PTER over time. To do this, first add the `year` array and the `pter` array to the `unemployment` table; label these columns \"Year\" and \"PTER\", respectively. Then, generate a line plot using one of the table methods you've learned in class.\n",
    "\n",
    "_Hint_: Remember that the unemployment table contains data collected quaterly (four times per year). So the year column should contain quarters of a year to plot the information correctly: 1994, 1994.25, 1994.5, 1994.75, 1995, ...."
   ]
  },
  {
   "cell_type": "code",
   "execution_count": null,
   "metadata": {
    "tags": []
   },
   "outputs": [],
   "source": [
    "year = ...\n",
    "unemployment = ...\n",
    "unemployment.plot(\"Year\", \"PTER\")"
   ]
  },
  {
   "cell_type": "code",
   "execution_count": null,
   "metadata": {
    "deletable": false,
    "editable": false
   },
   "outputs": [],
   "source": [
    "grader.check(\"q2.6\")"
   ]
  },
  {
   "cell_type": "markdown",
   "metadata": {},
   "source": [
    "**Question 2.7** Were PTER rates high during or directly after the Great Recession (that is to say, were PTER rates particularly high in the years 2008 through 2011 or so)? Assign highPTER to `True` if you think PTER rates were high in this period, and `False` if you think they weren't. "
   ]
  },
  {
   "cell_type": "code",
   "execution_count": null,
   "metadata": {
    "tags": []
   },
   "outputs": [],
   "source": [
    "highPTER = ..."
   ]
  },
  {
   "cell_type": "code",
   "execution_count": null,
   "metadata": {
    "deletable": false,
    "editable": false
   },
   "outputs": [],
   "source": [
    "grader.check(\"q2.7\")"
   ]
  },
  {
   "cell_type": "markdown",
   "metadata": {},
   "source": [
    "## 3. Birth Rates\n"
   ]
  },
  {
   "cell_type": "markdown",
   "metadata": {},
   "source": [
    "The following table gives census-based population estimates for each state on July 1, 2015 and July 1, 2016. The last four columns describe the components of the estimated change in population during this time interval. *For all questions below, assume that the word \"states\" refers to all 52 rows including Puerto Rico & the District of Columbia.*"
   ]
  },
  {
   "cell_type": "code",
   "execution_count": 9,
   "metadata": {},
   "outputs": [],
   "source": [
    "# Don't change this cell; just run it.\n",
    "# From http://www2.census.gov/programs-surveys/popest/datasets/2010-2016/national/totals/nst-est2016-alldata.csv\n",
    "# See http://www2.census.gov/programs-surveys/popest/datasets/2010-2015/national/totals/nst-est2015-alldata.pdf\n",
    "#     for column descriptions. (As of Feb 2017, no descriptions were posted for 2010-2016.)\n",
    "pop = Table.read_table('nst-est2016-alldata.csv').where('SUMLEV', 40).select([1, 4, 12, 13, 27, 34, 62, 69])\n",
    "pop = pop.relabeled(2, '2015').relabeled(3, '2016')\n",
    "pop = pop.relabeled(4, 'BIRTHS').relabeled(5, 'DEATHS')\n",
    "pop = pop.relabeled(6, 'MIGRATION').relabeled(7, 'OTHER')\n",
    "pop.set_format([2, 3, 4, 5, 6, 7], NumberFormatter(decimals=0)).show(5)"
   ]
  },
  {
   "cell_type": "markdown",
   "metadata": {},
   "source": [
    "**Question 3.1** Assign `us_birth_rate` to the total US annual birth rate during this time interval. The annual birth rate for a year-long period is the number of births in that period as a proportion of the population at the start of the period."
   ]
  },
  {
   "cell_type": "code",
   "execution_count": 10,
   "metadata": {
    "tags": []
   },
   "outputs": [],
   "source": [
    "us_birth_rate = ...\n",
    "us_birth_rate"
   ]
  },
  {
   "cell_type": "code",
   "execution_count": null,
   "metadata": {
    "deletable": false,
    "editable": false
   },
   "outputs": [],
   "source": [
    "grader.check(\"q3.1\")"
   ]
  },
  {
   "cell_type": "markdown",
   "metadata": {},
   "source": [
    "**Question 3.2** Assign `fastest_growth` to an array of the names of the five states with the fastest population growth rates in *descending order of growth rate*. First, create a new version of the `pop` table, called `growth_rates`, which includes a column with the growth rate of each state. Making intermediate tables can improve the readability of the code and make it easier to follow when revisting at a later time."
   ]
  },
  {
   "cell_type": "code",
   "execution_count": 13,
   "metadata": {
    "tags": []
   },
   "outputs": [],
   "source": [
    "growth_rates = ...\n",
    "fastest_growth = ...\n",
    "fastest_growth"
   ]
  },
  {
   "cell_type": "code",
   "execution_count": null,
   "metadata": {
    "deletable": false,
    "editable": false
   },
   "outputs": [],
   "source": [
    "grader.check(\"q3.2\")"
   ]
  },
  {
   "cell_type": "markdown",
   "metadata": {},
   "source": [
    "**Question 3.3** Assign `movers` to the number of states for which the absolute annual rate of migration was higher than 1%. The annual rate of migration for a year-long period is the net number of migrations (in and out) as a proportion of the population at the start of the period. The `MIGRATION` column contains estimated annual net migration counts by state."
   ]
  },
  {
   "cell_type": "code",
   "execution_count": null,
   "metadata": {
    "tags": []
   },
   "outputs": [],
   "source": [
    "#This may take more lines of code than just the prompt\n",
    "movers = ...\n",
    "movers"
   ]
  },
  {
   "cell_type": "code",
   "execution_count": null,
   "metadata": {
    "deletable": false,
    "editable": false
   },
   "outputs": [],
   "source": [
    "grader.check(\"q3.3\")"
   ]
  },
  {
   "cell_type": "markdown",
   "metadata": {},
   "source": [
    "**Question 3.4** Assign `west_births` to the total number of births that occurred in region 4 (the Western US). *Hint:* Make sure you double check the type of the values in the region column."
   ]
  },
  {
   "cell_type": "code",
   "execution_count": null,
   "metadata": {
    "tags": []
   },
   "outputs": [],
   "source": [
    "west_births = ...\n",
    "west_births"
   ]
  },
  {
   "cell_type": "code",
   "execution_count": null,
   "metadata": {
    "deletable": false,
    "editable": false
   },
   "outputs": [],
   "source": [
    "grader.check(\"q3.4\")"
   ]
  },
  {
   "cell_type": "markdown",
   "metadata": {},
   "source": [
    "**Question 3.5** Assign `less_than_west_births` to the number of states that had a total population in 2016 that was smaller than the *number of babies born in region 4 (the Western US)* during this time interval."
   ]
  },
  {
   "cell_type": "code",
   "execution_count": null,
   "metadata": {
    "tags": []
   },
   "outputs": [],
   "source": [
    "less_than_west_births = ...\n",
    "less_than_west_births"
   ]
  },
  {
   "cell_type": "code",
   "execution_count": null,
   "metadata": {
    "deletable": false,
    "editable": false
   },
   "outputs": [],
   "source": [
    "grader.check(\"q3.5\")"
   ]
  },
  {
   "cell_type": "markdown",
   "metadata": {},
   "source": [
    "**Question 3.6**  In the code cell below, create a visualization that will show if there is an association between birth rate and death rate during this time interval. It may be helpful to create an intermediate table here."
   ]
  },
  {
   "cell_type": "markdown",
   "metadata": {},
   "source": [
    "<!-- BEGIN QUESTION -->\n",
    "\n"
   ]
  },
  {
   "cell_type": "code",
   "execution_count": null,
   "metadata": {
    "manual_problem_id": "birth_death_rates_graph",
    "tags": []
   },
   "outputs": [],
   "source": [
    "# Generate your chart in this cell\n",
    "us_birth_rate = ...\n",
    "us_death_rate = ...\n",
    "association_table = ...\n",
    "association_table.plot(\"US_BIRTH_RATE\",\"US_DEATH_RATE\")"
   ]
  },
  {
   "cell_type": "markdown",
   "metadata": {},
   "source": [
    "<!-- END QUESTION -->\n",
    "\n",
    "**Question 3.7** `True` or `False`: There is an association between birth rate and death rate during this time interval. \n",
    "\n",
    "Assign your answer to `assoc` in the cell below. "
   ]
  },
  {
   "cell_type": "code",
   "execution_count": null,
   "metadata": {
    "tags": []
   },
   "outputs": [],
   "source": [
    "assoc = ..."
   ]
  },
  {
   "cell_type": "code",
   "execution_count": null,
   "metadata": {
    "deletable": false,
    "editable": false
   },
   "outputs": [],
   "source": [
    "grader.check(\"q3.7\")"
   ]
  },
  {
   "cell_type": "markdown",
   "metadata": {},
   "source": [
    "## 4. Marginal Histograms\n"
   ]
  },
  {
   "cell_type": "markdown",
   "metadata": {},
   "source": [
    "Consider the following scatter plot: ![](scatter.png)\n",
    "\n",
    "The axes of the plot represent values of two variables: $x$ and $y$. "
   ]
  },
  {
   "cell_type": "markdown",
   "metadata": {},
   "source": [
    "Suppose we have a table called `t` that has two columns in it:\n",
    "\n",
    "- `x`: a column containing the x-values of the points in the scatter plot\n",
    "- `y`: a column containing the y-values of the points in the scatter plot"
   ]
  },
  {
   "cell_type": "markdown",
   "metadata": {},
   "source": [
    "**Question 4.1** Match each of the following histograms to the code that produced them."
   ]
  },
  {
   "cell_type": "markdown",
   "metadata": {},
   "source": [
    "**Histogram A:** \n",
    "![](var1.png)"
   ]
  },
  {
   "cell_type": "markdown",
   "metadata": {},
   "source": [
    "-------------------------------------------------------------------------- "
   ]
  },
  {
   "cell_type": "markdown",
   "metadata": {},
   "source": [
    "**Histogram B:** \n",
    "![](var2.png)"
   ]
  },
  {
   "cell_type": "markdown",
   "metadata": {},
   "source": [
    "Given the scatter plot above, which histogram would this line of code create: `t.hist('x')`\n",
    "\n",
    "Answer either 'A' or 'B' exactly"
   ]
  },
  {
   "cell_type": "code",
   "execution_count": null,
   "metadata": {
    "tags": []
   },
   "outputs": [],
   "source": [
    "xHist = ..."
   ]
  },
  {
   "cell_type": "code",
   "execution_count": null,
   "metadata": {
    "deletable": false,
    "editable": false
   },
   "outputs": [],
   "source": [
    "grader.check(\"q4.1.1\")"
   ]
  },
  {
   "cell_type": "markdown",
   "metadata": {},
   "source": [
    "Given the scatter plot above, which histogram would this line of code create: `t.hist('y')`\n",
    "\n",
    "Answer either 'A' or 'B' exactly"
   ]
  },
  {
   "cell_type": "code",
   "execution_count": null,
   "metadata": {
    "tags": []
   },
   "outputs": [],
   "source": [
    "yHist = ..."
   ]
  },
  {
   "cell_type": "code",
   "execution_count": null,
   "metadata": {
    "deletable": false,
    "editable": false
   },
   "outputs": [],
   "source": [
    "grader.check(\"q4.1.2\")"
   ]
  },
  {
   "cell_type": "markdown",
   "metadata": {
    "tags": []
   },
   "source": [
    "## 5. Submission\n"
   ]
  },
  {
   "cell_type": "markdown",
   "metadata": {},
   "source": [
    "Homework 3 complete!  Be sure to run the notebook tests and verify that they all pass, **your homework will need to pass more tests in gradescope**. Choose **Save and Checkpoint** from the **File** menu, then upload the .ipynb to gradescope to submit your work.  You may submit to gradescope as many times as you want until the deadline."
   ]
  },
  {
   "cell_type": "markdown",
   "metadata": {
    "deletable": false,
    "editable": false
   },
   "source": [
    "---\n",
    "\n",
    "To double-check your work, the cell below will rerun all of the autograder tests."
   ]
  },
  {
   "cell_type": "code",
   "execution_count": null,
   "metadata": {
    "deletable": false,
    "editable": false
   },
   "outputs": [],
   "source": [
    "grader.check_all()"
   ]
  }
 ],
 "metadata": {
  "kernelspec": {
   "display_name": "Python 3",
   "language": "python",
   "name": "python3"
  },
  "language_info": {
   "codemirror_mode": {
    "name": "ipython",
    "version": 3
   },
   "file_extension": ".py",
   "mimetype": "text/x-python",
   "name": "python",
   "nbconvert_exporter": "python",
   "pygments_lexer": "ipython3",
   "version": "3.8.3"
  },
  "otter": {
   "tests": {
    "q1.1": {
     "name": "q1.1",
     "points": 1,
     "suites": [
      {
       "cases": [
        {
         "code": ">>> assert dissimilarity > 0\n",
         "failure_message": "Remember to read the Trait value column. Also remember absolute value!",
         "hidden": false,
         "locked": false
        }
       ],
       "scored": true,
       "setup": "",
       "teardown": "",
       "type": "doctest"
      }
     ]
    },
    "q1.3": {
     "name": "q1.3",
     "points": 1,
     "suites": [
      {
       "cases": [
        {
         "code": ">>> assert revised_dissimilarity > 0\n",
         "failure_message": "Remember to read the Trait value column. Also remember absolute value!",
         "hidden": false,
         "locked": false
        }
       ],
       "scored": true,
       "setup": "",
       "teardown": "",
       "type": "doctest"
      }
     ]
    },
    "q2.1": {
     "name": "q2.1",
     "points": 1,
     "suites": [
      {
       "cases": [
        {
         "code": ">>> assert unemployment != None\n",
         "failure_message": "Are you using Table.read_table()?",
         "hidden": false,
         "locked": false
        }
       ],
       "scored": true,
       "setup": "",
       "teardown": "",
       "type": "doctest"
      }
     ]
    },
    "q2.2": {
     "name": "q2.2",
     "points": 1,
     "suites": [
      {
       "cases": [
        {
         "code": ">>> assert by_nei != None\n>>> assert by_nei_pter != None\n",
         "failure_message": "Use .sort()",
         "hidden": false,
         "locked": false
        }
       ],
       "scored": true,
       "setup": "",
       "teardown": "",
       "type": "doctest"
      }
     ]
    },
    "q2.3": {
     "name": "q2.3",
     "points": 1,
     "suites": [
      {
       "cases": [
        {
         "code": ">>> assert greatest_nei != None\n",
         "failure_message": "Remember to take elements 1-10 by passing an array of indecies 1-10",
         "hidden": false,
         "locked": false
        }
       ],
       "scored": true,
       "setup": "",
       "teardown": "",
       "type": "doctest"
      }
     ]
    },
    "q2.4": {
     "name": "q2.4",
     "points": 1,
     "suites": [
      {
       "cases": [
        {
         "code": ">>> assert type(pter).__module__ == np.__name__\n>>> assert pter.shape[0] == 90\n",
         "failure_message": "Did you compare two columns from the unemployment table?",
         "hidden": false,
         "locked": false
        }
       ],
       "scored": true,
       "setup": "",
       "teardown": "",
       "type": "doctest"
      }
     ]
    },
    "q2.5": {
     "name": "q2.5",
     "points": 1,
     "suites": [
      {
       "cases": [
        {
         "code": ">>> by_pter_t = unemployment.with_column(\"PTER\", pter).sort(\"PTER\", descending = True).to_df()\n>>> assert by_pter_t.shape == by_pter.to_df().shape\n",
         "failure_message": "Here you should be adding a column to unemployment by using .with_column and then using .sort on that new column",
         "hidden": false,
         "locked": false
        }
       ],
       "scored": true,
       "setup": "",
       "teardown": "",
       "type": "doctest"
      }
     ]
    },
    "q2.6": {
     "name": "q2.6",
     "points": 1,
     "suites": [
      {
       "cases": [
        {
         "code": ">>> year_t = 1994 + np.arange(by_pter.num_rows)/4\n>>> pter_t = unemployment.column(\"NEI-PTER\") - unemployment.column(\"NEI\")\n>>> assert np.array_equal(year_t, unemployment.column(\"Year\"))\n>>> assert np.array_equal(pter_t, unemployment.column(\"PTER\"))\n",
         "failure_message": "Did you add the new columns correctly? Did you name them correctly? Did you generate the correct year increments?",
         "hidden": false,
         "locked": false
        }
       ],
       "scored": true,
       "setup": "",
       "teardown": "",
       "type": "doctest"
      }
     ]
    },
    "q2.7": {
     "name": "q2.7",
     "points": 1,
     "suites": [
      {
       "cases": [
        {
         "code": ">>> assert isinstance(highPTER, bool)\n",
         "failure_message": "This shoudl either be true or false",
         "hidden": false,
         "locked": false
        }
       ],
       "scored": true,
       "setup": "",
       "teardown": "",
       "type": "doctest"
      }
     ]
    },
    "q3.1": {
     "name": "q3.1",
     "points": 1,
     "suites": [
      {
       "cases": [
        {
         "code": ">>> assert isinstance(float(us_birth_rate), float)\n>>> assert float(us_birth_rate) != (sum(pop.column(\"BIRTHS\")) / sum(pop.column(\"2016\")))\n",
         "failure_message": "Population at the START of the period. Also this should be a single number.",
         "hidden": false,
         "locked": false
        }
       ],
       "scored": true,
       "setup": "",
       "teardown": "",
       "type": "doctest"
      }
     ]
    },
    "q3.2": {
     "name": "q3.2",
     "points": 1,
     "suites": [
      {
       "cases": [
        {
         "code": ">>> assert fastest_growth.shape[0] == 5\n",
         "failure_message": "Do not change the pop table! Did you .take from the sorted table you created?",
         "hidden": false,
         "locked": false
        }
       ],
       "scored": true,
       "setup": "",
       "teardown": "",
       "type": "doctest"
      }
     ]
    },
    "q3.3": {
     "name": "q3.3",
     "points": 1,
     "suites": [
      {
       "cases": [
        {
         "code": ">>> #The cast to type int is incase they end up with np.int type or any other various type\n>>> assert isinstance(int(movers), int)\n",
         "failure_message": "Your answer should be an integer",
         "hidden": false,
         "locked": false
        }
       ],
       "scored": true,
       "setup": "",
       "teardown": "",
       "type": "doctest"
      }
     ]
    },
    "q3.4": {
     "name": "q3.4",
     "points": 1,
     "suites": [
      {
       "cases": [
        {
         "code": ">>> #The cast to type int is incase they end up with np.int type or any other various type\n>>> assert isinstance(int(west_births), int)\n>>> assert 900000<int(west_births)<1000000\n",
         "failure_message": "Your answer should be an integer. Make sure you calculated the total number of births in region 4",
         "hidden": false,
         "locked": false
        }
       ],
       "scored": true,
       "setup": "",
       "teardown": "",
       "type": "doctest"
      }
     ]
    },
    "q3.5": {
     "name": "q3.5",
     "points": 1,
     "suites": [
      {
       "cases": [
        {
         "code": ">>> #The cast to type int is incase they end up with np.int type or any other various type\n>>> assert isinstance(int(less_than_west_births), int)\n>>> assert 0<int(less_than_west_births)<10\n",
         "failure_message": "Your answer should be an integer. Make sure you calculated the number of states that had a total population in 2016 that was less than west_births",
         "hidden": false,
         "locked": false
        }
       ],
       "scored": true,
       "setup": "",
       "teardown": "",
       "type": "doctest"
      }
     ]
    },
    "q3.7": {
     "name": "q3.7",
     "points": 1,
     "suites": [
      {
       "cases": [
        {
         "code": ">>> assert isinstance(assoc, bool)\n",
         "failure_message": "Your answer must be True or False",
         "hidden": false,
         "locked": false
        }
       ],
       "scored": true,
       "setup": "",
       "teardown": "",
       "type": "doctest"
      }
     ]
    },
    "q4.1.1": {
     "name": "q4.1.1",
     "points": 0.5,
     "suites": [
      {
       "cases": [
        {
         "code": ">>> assert xHist == 'A' or 'B'\n",
         "failure_message": "Your answer must be 'A' or 'B'",
         "hidden": false,
         "locked": false
        }
       ],
       "scored": true,
       "setup": "",
       "teardown": "",
       "type": "doctest"
      }
     ]
    },
    "q4.1.2": {
     "name": "q4.1.2",
     "points": 0.5,
     "suites": [
      {
       "cases": [
        {
         "code": ">>> #The cast to type int is incase they end up with np.int type or any other various type\n>>> assert yHist == 'A' or 'B'\n",
         "failure_message": "Your answer must be 'A' or 'B'",
         "hidden": false,
         "locked": false
        }
       ],
       "scored": true,
       "setup": "",
       "teardown": "",
       "type": "doctest"
      }
     ]
    }
   }
  }
 },
 "nbformat": 4,
 "nbformat_minor": 5
}
