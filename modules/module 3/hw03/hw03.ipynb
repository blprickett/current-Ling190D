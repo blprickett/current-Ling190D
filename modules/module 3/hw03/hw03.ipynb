{
 "cells": [
  {
   "cell_type": "markdown",
   "id": "6b20ca1b",
   "metadata": {},
   "source": [
    "# Homework 3: Table Manipulation and Visualization"
   ]
  },
  {
   "cell_type": "markdown",
   "id": "328738d4",
   "metadata": {},
   "source": [
    "**Reading**: Textbook chapter [7](https://umass-data-science.github.io/190fwebsite/textbook/07/visualization/)."
   ]
  },
  {
   "cell_type": "markdown",
   "id": "9c149214",
   "metadata": {},
   "source": [
    "Please complete this notebook by filling in the cells provided. Before you begin, execute the following cell to load the provided tests. Each time you start your server, you will need to execute this cell again to load the tests.\n",
    "\n",
    "Homework 3 is due Wedesday. Start early so that you can come to office hours if you're stuck. Check the website for the office hours schedule. Late work will not be accepted as per the [policies](https://umass-data-science.github.io/190fwebsite/policy/) of this course. \n",
    "\n",
    "Throughout this homework and all future ones, please be sure to not re-assign variables throughout the notebook! For example, if you use `max_temperature` in your answer to one question, do not reassign it later on. Moreover, please be sure to only put your written answers in the provided cells. "
   ]
  },
  {
   "cell_type": "code",
   "execution_count": null,
   "id": "9b25e600",
   "metadata": {},
   "outputs": [],
   "source": [
    "!pip install otter-grader\n",
    "!pip install datascience"
   ]
  },
  {
   "cell_type": "code",
   "execution_count": null,
   "id": "18ea6e52",
   "metadata": {},
   "outputs": [],
   "source": [
    "import otter\n",
    "import numpy as np\n",
    "from datascience import *\n",
    "grader = otter.Notebook()\n",
    "\n",
    "# These lines do some fancy plotting magic.\\n\",\n",
    "import matplotlib\n",
    "%matplotlib inline\n",
    "import matplotlib.pyplot as plots\n",
    "plots.style.use('fivethirtyeight')"
   ]
  },
  {
   "cell_type": "markdown",
   "id": "0814313c",
   "metadata": {},
   "source": [
    "## 1. Differences between Universities, Part II\n"
   ]
  },
  {
   "cell_type": "markdown",
   "id": "3db621e6",
   "metadata": {},
   "source": [
    "**Question 1.1** Suppose you're choosing a university to attend, and you'd like to *quantify* how *dissimilar* any two universities are.  You rate each university you're considering on several numerical traits.  You decide on a very detailed list of 1000 traits, and you measure all of them!  Some examples:\n",
    "\n",
    "* The cost to attend (per year)\n",
    "* The average Yelp review of nearby Thai restaurants\n",
    "* The USA Today ranking of the Medical school\n",
    "* The USA Today ranking of the Engineering school\n",
    "\n",
    "You decide that the dissimilarity between two universities is the *total* of the differences in their traits.  That is, the dissimilarity is:\n",
    "\n",
    "* the **sum** of\n",
    "* the absolute values of\n",
    "* the 1000 differences in their trait values.\n",
    "\n",
    "In the next cell, we've loaded arrays containing the 1000 trait values for UMass and Harvard.  Compute the dissimilarity (according to the above method) between UMass and Harvard.  Call your answer `dissimilarity`.  Use a single line of code to compute the answer.\n",
    "\n",
    "*Note:* The data we're using aren't real -- we made them up for this exercise, except for the cost-of-attendance numbers. "
   ]
  },
  {
   "cell_type": "code",
   "execution_count": null,
   "id": "33438a70",
   "metadata": {
    "tags": []
   },
   "outputs": [],
   "source": [
    "UMass = Table.read_table(\"UMass.csv\").column(\"Trait value\")\n",
    "Harvard = Table.read_table(\"Harvard.csv\").column(\"Trait value\")\n",
    "\n",
    "dissimilarity = ...\n",
    "dissimilarity"
   ]
  },
  {
   "cell_type": "code",
   "execution_count": null,
   "id": "f4a527ec",
   "metadata": {
    "deletable": false,
    "editable": false
   },
   "outputs": [],
   "source": [
    "grader.check(\"q1.1\")"
   ]
  },
  {
   "cell_type": "markdown",
   "id": "abd0f5c8",
   "metadata": {},
   "source": [
    "**Question 1.2** Why do we sum up the absolute values of the differences in trait values, rather than just summing up the differences?"
   ]
  },
  {
   "cell_type": "markdown",
   "id": "e22e3156",
   "metadata": {},
   "source": [
    "_Type your answer here, replacing this text._"
   ]
  },
  {
   "cell_type": "markdown",
   "id": "0c878f24",
   "metadata": {
    "tags": []
   },
   "source": [
    "<!-- END QUESTION -->\n",
    "\n",
    "##### Weighing the traits\n",
    "After computing dissimilarities between several schools, you notice a problem with your method: the scale of the traits matters a lot.\n",
    "\n",
    "Since schools cost tens of thousands of dollars to attend, the cost-to-attend trait is always a much bigger *number* than most other traits.  That makes it affect the dissimilarity a lot more than other traits.  Two schools that differ in cost-to-attend by \\$900, but are otherwise identical, get a dissimilarity of 900.  But two schools that differ in graduation rate by .9 (a huge difference!), but are otherwise identical, get a dissimilarity of only .9.\n",
    "\n",
    "One way to fix this problem is to assign different \"weights\" to different traits.  For example, we could fix the problem above by multiplying the difference in the cost-to-attend traits by .001, so that a difference of 900 in cost-to-attend results in a dissimilarity of $900 \\times .001$, or $.9$.\n",
    "\n",
    "Here's a revised method that does that for every trait:\n",
    "\n",
    "1. For each trait, subtract the two schools' trait values.\n",
    "2. Then take the absolute value of that difference.\n",
    "3. *Now multiply that absolute value by a trait-specific number, like .001 or 2.*\n",
    "4. Now sum the 1000 resulting numbers.\n",
    "\n",
    "**Question 1.3** Suppose you've already decided on a weight for each trait.  These are loaded into an array called `weights` in the cell below.  `weights.item(0)` is the weight for the first trait, `weights.item(1)` is the weight for the second trait, and so on.  Use the revised method to compute a revised dissimilarity between UMass and Harvard.\n",
    "\n",
    "*Hint:* Using array arithmetic, your answer should be almost as short as in question 1."
   ]
  },
  {
   "cell_type": "code",
   "execution_count": null,
   "id": "01dd9d70",
   "metadata": {
    "tags": []
   },
   "outputs": [],
   "source": [
    "weights = Table.read_table(\"weights.csv\").column(\"Weight\")\n",
    "\n",
    "revised_dissimilarity = ...\n",
    "revised_dissimilarity"
   ]
  },
  {
   "cell_type": "code",
   "execution_count": null,
   "id": "d3631cd4",
   "metadata": {
    "deletable": false,
    "editable": false
   },
   "outputs": [],
   "source": [
    "grader.check(\"q1.3\")"
   ]
  },
  {
   "cell_type": "markdown",
   "id": "7dc8c3ee",
   "metadata": {},
   "source": [
    "## 2. Unemployment\n"
   ]
  },
  {
   "cell_type": "markdown",
   "id": "c9885840",
   "metadata": {},
   "source": [
    "The Federal Reserve Bank of St. Louis publishes data about jobs in the US.  Below we've loaded data on unemployment in the United States.  There are many ways of defining unemployment, and our dataset includes two notions of the unemployment rate:\n",
    "\n",
    "1. Among people who are able to work and are looking for a full-time job, the percentage who can't find a job.  This is called the Non-Employment Index, or NEI.\n",
    "2. Among people who are able to work and are looking for a full-time job, the percentage who can't find any job *or* are only working at a part-time job.  The latter group is called \"Part-Time for Economic Reasons\", so the acronym for this index is NEI-PTER.  (Economists are great at marketing.)\n",
    "\n",
    "The source of the data is [here](https://fred.stlouisfed.org/categories/33509)."
   ]
  },
  {
   "cell_type": "markdown",
   "id": "510c67a6",
   "metadata": {},
   "source": [
    "**Question 2.1** The data are in a CSV file called `unemployment.csv`.  Load that file into a table called `unemployment`."
   ]
  },
  {
   "cell_type": "code",
   "execution_count": null,
   "id": "338b59c0",
   "metadata": {
    "tags": []
   },
   "outputs": [],
   "source": [
    "unemployment = ...\n",
    "unemployment"
   ]
  },
  {
   "cell_type": "code",
   "execution_count": null,
   "id": "fe9f3df5",
   "metadata": {
    "deletable": false,
    "editable": false
   },
   "outputs": [],
   "source": [
    "grader.check(\"q2.1\")"
   ]
  },
  {
   "cell_type": "markdown",
   "id": "21da7d96",
   "metadata": {},
   "source": [
    "**Question 2.2** Sort the data in decreasing order by NEI, naming the sorted table `by_nei`.  Create another table called `by_nei_pter` that's sorted in decreasing order by NEI-PTER instead."
   ]
  },
  {
   "cell_type": "code",
   "execution_count": null,
   "id": "52f14b5f",
   "metadata": {
    "tags": []
   },
   "outputs": [],
   "source": [
    "by_nei = ...\n",
    "by_nei_pter = ..."
   ]
  },
  {
   "cell_type": "code",
   "execution_count": null,
   "id": "45e8b710",
   "metadata": {
    "deletable": false,
    "editable": false
   },
   "outputs": [],
   "source": [
    "grader.check(\"q2.2\")"
   ]
  },
  {
   "cell_type": "markdown",
   "id": "a00d9744",
   "metadata": {},
   "source": [
    "**Question 2.3** Use `.take` to make a table containing the data for the 10 quarters when NEI was greatest.  Call that table `greatest_nei`."
   ]
  },
  {
   "cell_type": "code",
   "execution_count": null,
   "id": "b0eedc42",
   "metadata": {
    "tags": []
   },
   "outputs": [],
   "source": [
    "greatest_nei = ...\n",
    "greatest_nei"
   ]
  },
  {
   "cell_type": "code",
   "execution_count": null,
   "id": "246f3d2f",
   "metadata": {
    "deletable": false,
    "editable": false
   },
   "outputs": [],
   "source": [
    "grader.check(\"q2.3\")"
   ]
  },
  {
   "cell_type": "markdown",
   "id": "9133a29f",
   "metadata": {},
   "source": [
    "**Question 2.4** It's believed that many people became PTER (recall: \"Part-Time for Economic Reasons\") in the \"Great Recession\" of 2008-2009.  NEI-PTER is the percentage of people who are unemployed (and counted in the NEI) plus the percentage of people who are PTER.  Compute an array containing the percentage of people who were PTER in each quarter.  (The first element of the array should correspond to the first row of `unemployment`, and so on.)\n",
    "\n",
    "*Note:* Use the original `unemployment` table for this."
   ]
  },
  {
   "cell_type": "code",
   "execution_count": null,
   "id": "8336f2ec",
   "metadata": {
    "tags": []
   },
   "outputs": [],
   "source": [
    "pter = ...\n",
    "pter"
   ]
  },
  {
   "cell_type": "code",
   "execution_count": null,
   "id": "2d4a34de",
   "metadata": {
    "deletable": false,
    "editable": false
   },
   "outputs": [],
   "source": [
    "grader.check(\"q2.4\")"
   ]
  },
  {
   "cell_type": "markdown",
   "id": "da1964ca",
   "metadata": {},
   "source": [
    "**Question 2.5** Add `pter` as a column to `unemployment` (named \"PTER\") and sort the resulting table by that column in decreasing order.  Call the table `by_pter`.\n",
    "\n",
    "Try to do this with a single line of code, if you can."
   ]
  },
  {
   "cell_type": "code",
   "execution_count": null,
   "id": "6f874e42",
   "metadata": {
    "tags": []
   },
   "outputs": [],
   "source": [
    "by_pter = ...\n",
    "by_pter"
   ]
  },
  {
   "cell_type": "code",
   "execution_count": null,
   "id": "26eb791d",
   "metadata": {
    "deletable": false,
    "editable": false
   },
   "outputs": [],
   "source": [
    "grader.check(\"q2.5\")"
   ]
  },
  {
   "cell_type": "markdown",
   "id": "66639ddd",
   "metadata": {},
   "source": [
    "**Question 2.6** Create a line plot of the PTER over time. To do this, first add the `year` array and the `pter` array to the `unemployment` table; label these columns \"Year\" and \"PTER\", respectively. Then, generate a line plot using one of the table methods you've learned in class.\n",
    "\n",
    "_Hint_: Remember that the unemployment table contains data collected quaterly (four times per year). So the year column should contain quarters of a year to plot the information correctly: 1994, 1994.25, 1994.5, 1994.75, 1995, ...."
   ]
  },
  {
   "cell_type": "code",
   "execution_count": null,
   "id": "35cb6c8f",
   "metadata": {
    "tags": []
   },
   "outputs": [],
   "source": [
    "year = ...\n",
    "unemployment = ...\n",
    "unemployment.plot(\"Year\", \"PTER\")"
   ]
  },
  {
   "cell_type": "code",
   "execution_count": null,
   "id": "2de54ca9",
   "metadata": {
    "deletable": false,
    "editable": false
   },
   "outputs": [],
   "source": [
    "grader.check(\"q2.6\")"
   ]
  },
  {
   "cell_type": "markdown",
   "id": "ea7c2ee1",
   "metadata": {},
   "source": [
    "**Question 2.7** Were PTER rates high during or directly after the Great Recession (that is to say, were PTER rates particularly high in the years 2008 through 2011 or so)? Assign highPTER to `True` if you think PTER rates were high in this period, and `False` if you think they weren't. "
   ]
  },
  {
   "cell_type": "code",
   "execution_count": null,
   "id": "24d30846",
   "metadata": {
    "tags": []
   },
   "outputs": [],
   "source": [
    "highPTER = ..."
   ]
  },
  {
   "cell_type": "code",
   "execution_count": null,
   "id": "7aab848e",
   "metadata": {
    "deletable": false,
    "editable": false
   },
   "outputs": [],
   "source": [
    "grader.check(\"q2.7\")"
   ]
  },
  {
   "cell_type": "markdown",
   "id": "676f597a",
   "metadata": {},
   "source": [
    "## 3. Birth Rates\n"
   ]
  },
  {
   "cell_type": "markdown",
   "id": "17254378",
   "metadata": {},
   "source": [
    "The following table gives census-based population estimates for each state on July 1, 2015 and July 1, 2016. The last four columns describe the components of the estimated change in population during this time interval. *For all questions below, assume that the word \"states\" refers to all 52 rows including Puerto Rico & the District of Columbia.*"
   ]
  },
  {
   "cell_type": "code",
   "execution_count": null,
   "id": "129ba7ad",
   "metadata": {},
   "outputs": [],
   "source": [
    "# Don't change this cell; just run it.\n",
    "# From http://www2.census.gov/programs-surveys/popest/datasets/2010-2016/national/totals/nst-est2016-alldata.csv\n",
    "# See http://www2.census.gov/programs-surveys/popest/datasets/2010-2015/national/totals/nst-est2015-alldata.pdf\n",
    "#     for column descriptions. (As of Feb 2017, no descriptions were posted for 2010-2016.)\n",
    "pop = Table.read_table('nst-est2016-alldata.csv').where('SUMLEV', 40).select([1, 4, 12, 13, 27, 34, 62, 69])\n",
    "pop = pop.relabeled(2, '2015').relabeled(3, '2016')\n",
    "pop = pop.relabeled(4, 'BIRTHS').relabeled(5, 'DEATHS')\n",
    "pop = pop.relabeled(6, 'MIGRATION').relabeled(7, 'OTHER')\n",
    "pop.set_format([2, 3, 4, 5, 6, 7], NumberFormatter(decimals=0)).show(5)"
   ]
  },
  {
   "cell_type": "markdown",
   "id": "94f12111",
   "metadata": {},
   "source": [
    "**Question 3.1** Assign `us_birth_rate` to the total US annual birth rate during this time interval. The annual birth rate for a year-long period is the number of births in that period as a proportion of the population at the start of the period."
   ]
  },
  {
   "cell_type": "code",
   "execution_count": null,
   "id": "1c656a16",
   "metadata": {
    "tags": []
   },
   "outputs": [],
   "source": [
    "us_birth_rate = ...\n",
    "us_birth_rate"
   ]
  },
  {
   "cell_type": "code",
   "execution_count": null,
   "id": "1a47f8be",
   "metadata": {
    "deletable": false,
    "editable": false
   },
   "outputs": [],
   "source": [
    "grader.check(\"q3.1\")"
   ]
  },
  {
   "cell_type": "markdown",
   "id": "af1d7bd4",
   "metadata": {},
   "source": [
    "**Question 3.2** Assign `fastest_growth` to an array of the names of the five states with the fastest population growth rates in *descending order of growth rate*. First, create a new version of the `pop` table, called `growth_rates`, which includes a column with the growth rate of each state. Making intermediate tables can improve the readability of the code and make it easier to follow when revisting at a later time."
   ]
  },
  {
   "cell_type": "code",
   "execution_count": null,
   "id": "49de5a57",
   "metadata": {
    "tags": []
   },
   "outputs": [],
   "source": [
    "growth_rates = ...\n",
    "fastest_growth = ...\n",
    "fastest_growth"
   ]
  },
  {
   "cell_type": "code",
   "execution_count": null,
   "id": "1f48c666",
   "metadata": {
    "deletable": false,
    "editable": false
   },
   "outputs": [],
   "source": [
    "grader.check(\"q3.2\")"
   ]
  },
  {
   "cell_type": "markdown",
   "id": "3057717f",
   "metadata": {},
   "source": [
    "**Question 3.3** Assign `movers` to the number of states for which the absolute annual rate of migration was higher than 1%. The annual rate of migration for a year-long period is the net number of migrations (in and out) as a proportion of the population at the start of the period. The `MIGRATION` column contains estimated annual net migration counts by state."
   ]
  },
  {
   "cell_type": "code",
   "execution_count": null,
   "id": "8f686cbe",
   "metadata": {
    "tags": []
   },
   "outputs": [],
   "source": [
    "#This may take more lines of code than just the prompt\n",
    "movers = ...\n",
    "movers"
   ]
  },
  {
   "cell_type": "code",
   "execution_count": null,
   "id": "a68ba75e",
   "metadata": {
    "deletable": false,
    "editable": false
   },
   "outputs": [],
   "source": [
    "grader.check(\"q3.3\")"
   ]
  },
  {
   "cell_type": "markdown",
   "id": "cfbc0561",
   "metadata": {},
   "source": [
    "**Question 3.4** Assign `west_births` to the total number of births that occurred in region 4 (the Western US). *Hint:* Make sure you double check the type of the values in the region column."
   ]
  },
  {
   "cell_type": "code",
   "execution_count": null,
   "id": "7520542d",
   "metadata": {
    "tags": []
   },
   "outputs": [],
   "source": [
    "west_births = ...\n",
    "west_births"
   ]
  },
  {
   "cell_type": "code",
   "execution_count": null,
   "id": "de3a917f",
   "metadata": {
    "deletable": false,
    "editable": false
   },
   "outputs": [],
   "source": [
    "grader.check(\"q3.4\")"
   ]
  },
  {
   "cell_type": "markdown",
   "id": "f254e7f4",
   "metadata": {},
   "source": [
    "**Question 3.5** Assign `less_than_west_births` to the number of states that had a total population in 2016 that was smaller than the *number of babies born in region 4 (the Western US)* during this time interval."
   ]
  },
  {
   "cell_type": "code",
   "execution_count": null,
   "id": "a1217c0d",
   "metadata": {
    "tags": []
   },
   "outputs": [],
   "source": [
    "less_than_west_births = ...\n",
    "less_than_west_births"
   ]
  },
  {
   "cell_type": "code",
   "execution_count": null,
   "id": "52aa98ee",
   "metadata": {
    "deletable": false,
    "editable": false
   },
   "outputs": [],
   "source": [
    "grader.check(\"q3.5\")"
   ]
  },
  {
   "cell_type": "markdown",
   "id": "56d12b61",
   "metadata": {},
   "source": [
    "**Question 3.6**  In the code cell below, create a visualization that will show if there is an association between birth rate and death rate during this time interval. It may be helpful to create an intermediate table here."
   ]
  },
  {
   "cell_type": "markdown",
   "id": "107a88dd",
   "metadata": {},
   "source": [
    "<!-- BEGIN QUESTION -->\n",
    "\n"
   ]
  },
  {
   "cell_type": "code",
   "execution_count": null,
   "id": "329d3134",
   "metadata": {
    "manual_problem_id": "birth_death_rates_graph",
    "tags": []
   },
   "outputs": [],
   "source": [
    "# Generate your chart in this cell\n",
    "birth_rate = ...\n",
    "death_rate = ...\n",
    "association_table = ...\n",
    "association_table.plot(\"BIRTH_RATE\",\"DEATH_RATE\")"
   ]
  },
  {
   "cell_type": "markdown",
   "id": "9d08fa62",
   "metadata": {},
   "source": [
    "<!-- END QUESTION -->\n",
    "\n",
    "**Question 3.7** `True` or `False`: There is an association between birth rate and death rate during this time interval. \n",
    "\n",
    "Assign your answer to `assoc` in the cell below. "
   ]
  },
  {
   "cell_type": "code",
   "execution_count": null,
   "id": "e8b8a6e4",
   "metadata": {
    "tags": []
   },
   "outputs": [],
   "source": [
    "assoc = ..."
   ]
  },
  {
   "cell_type": "code",
   "execution_count": null,
   "id": "10d60687",
   "metadata": {
    "deletable": false,
    "editable": false
   },
   "outputs": [],
   "source": [
    "grader.check(\"q3.7\")"
   ]
  },
  {
   "cell_type": "markdown",
   "id": "897765bd",
   "metadata": {},
   "source": [
    "## 4. Marginal Histograms\n"
   ]
  },
  {
   "cell_type": "markdown",
   "id": "d3f98c36",
   "metadata": {},
   "source": [
    "Consider the following scatter plot: ![](scatter.png)\n",
    "\n",
    "The axes of the plot represent values of two variables: $x$ and $y$. "
   ]
  },
  {
   "cell_type": "markdown",
   "id": "02235262",
   "metadata": {},
   "source": [
    "Suppose we have a table called `t` that has two columns in it:\n",
    "\n",
    "- `x`: a column containing the x-values of the points in the scatter plot\n",
    "- `y`: a column containing the y-values of the points in the scatter plot"
   ]
  },
  {
   "cell_type": "markdown",
   "id": "d33f7f53",
   "metadata": {},
   "source": [
    "**Question 4.1** Match each of the following histograms to the code that produced them."
   ]
  },
  {
   "cell_type": "markdown",
   "id": "9f1a43fc",
   "metadata": {},
   "source": [
    "**Histogram A:** \n",
    "![](var1.png)"
   ]
  },
  {
   "cell_type": "markdown",
   "id": "98ba50f7",
   "metadata": {},
   "source": [
    "-------------------------------------------------------------------------- "
   ]
  },
  {
   "cell_type": "markdown",
   "id": "abea8365",
   "metadata": {},
   "source": [
    "**Histogram B:** \n",
    "![](var2.png)"
   ]
  },
  {
   "cell_type": "markdown",
   "id": "35fe39d5",
   "metadata": {},
   "source": [
    "Given the scatter plot above, which histogram would this line of code create: `t.hist('x')`\n",
    "\n",
    "Answer either 'A' or 'B' exactly"
   ]
  },
  {
   "cell_type": "code",
   "execution_count": null,
   "id": "b29ff2dd",
   "metadata": {
    "tags": []
   },
   "outputs": [],
   "source": [
    "xHist = ..."
   ]
  },
  {
   "cell_type": "code",
   "execution_count": null,
   "id": "dedb31b2",
   "metadata": {
    "deletable": false,
    "editable": false
   },
   "outputs": [],
   "source": [
    "grader.check(\"q4.1.1\")"
   ]
  },
  {
   "cell_type": "markdown",
   "id": "c8f345f0",
   "metadata": {},
   "source": [
    "Given the scatter plot above, which histogram would this line of code create: `t.hist('y')`\n",
    "\n",
    "Answer either 'A' or 'B' exactly"
   ]
  },
  {
   "cell_type": "code",
   "execution_count": null,
   "id": "ecda5048",
   "metadata": {
    "tags": []
   },
   "outputs": [],
   "source": [
    "yHist = ..."
   ]
  },
  {
   "cell_type": "code",
   "execution_count": null,
   "id": "d90f8728",
   "metadata": {
    "deletable": false,
    "editable": false
   },
   "outputs": [],
   "source": [
    "grader.check(\"q4.1.2\")"
   ]
  },
  {
   "cell_type": "markdown",
   "id": "b0159a38",
   "metadata": {
    "tags": []
   },
   "source": [
    "## 5. Submission\n"
   ]
  },
  {
   "cell_type": "markdown",
   "id": "0705e1a1",
   "metadata": {},
   "source": [
    "Homework 3 complete!  Be sure to run the notebook tests and verify that they all pass, **your homework will need to pass more tests in gradescope**. Choose **Save and Checkpoint** from the **File** menu, then upload the .ipynb to gradescope to submit your work.  You may submit to gradescope as many times as you want until the deadline."
   ]
  },
  {
   "cell_type": "markdown",
   "id": "e59c7745",
   "metadata": {
    "deletable": false,
    "editable": false
   },
   "source": [
    "---\n",
    "\n",
    "To double-check your work, the cell below will rerun all of the autograder tests."
   ]
  },
  {
   "cell_type": "code",
   "execution_count": null,
   "id": "576da2f9",
   "metadata": {
    "deletable": false,
    "editable": false
   },
   "outputs": [],
   "source": [
    "grader.check_all()"
   ]
  }
 ],
 "metadata": {
  "kernelspec": {
   "display_name": "Python 3 (ipykernel)",
   "language": "python",
   "name": "python3"
  },
  "language_info": {
   "codemirror_mode": {
    "name": "ipython",
    "version": 3
   },
   "file_extension": ".py",
   "mimetype": "text/x-python",
   "name": "python",
   "nbconvert_exporter": "python",
   "pygments_lexer": "ipython3",
   "version": "3.9.6"
  },
  "otter": {
   "tests": {
    "q1.1": {
     "name": "q1.1",
     "points": 1,
     "suites": [
      {
       "cases": [
        {
         "code": ">>> assert dissimilarity > 0\n",
         "failure_message": "Remember to read the Trait value column. Also remember absolute value!",
         "hidden": false,
         "locked": false
        }
       ],
       "scored": true,
       "setup": "",
       "teardown": "",
       "type": "doctest"
      }
     ]
    },
    "q1.3": {
     "name": "q1.3",
     "points": 1,
     "suites": [
      {
       "cases": [
        {
         "code": ">>> assert revised_dissimilarity > 0\n",
         "failure_message": "Remember to read the Trait value column. Also remember absolute value!",
         "hidden": false,
         "locked": false
        }
       ],
       "scored": true,
       "setup": "",
       "teardown": "",
       "type": "doctest"
      }
     ]
    },
    "q2.1": {
     "name": "q2.1",
     "points": 1,
     "suites": [
      {
       "cases": [
        {
         "code": ">>> assert unemployment != None\n",
         "failure_message": "Are you using Table.read_table()?",
         "hidden": false,
         "locked": false
        }
       ],
       "scored": true,
       "setup": "",
       "teardown": "",
       "type": "doctest"
      }
     ]
    },
    "q2.2": {
     "name": "q2.2",
     "points": 1,
     "suites": [
      {
       "cases": [
        {
         "code": ">>> assert by_nei != None\n>>> assert by_nei_pter != None\n",
         "failure_message": "Use .sort()",
         "hidden": false,
         "locked": false
        }
       ],
       "scored": true,
       "setup": "",
       "teardown": "",
       "type": "doctest"
      }
     ]
    },
    "q2.3": {
     "name": "q2.3",
     "points": 1,
     "suites": [
      {
       "cases": [
        {
         "code": ">>> assert greatest_nei != None\n",
         "failure_message": "Remember to take elements 1-10 by passing an array of indecies 1-10",
         "hidden": false,
         "locked": false
        }
       ],
       "scored": true,
       "setup": "",
       "teardown": "",
       "type": "doctest"
      }
     ]
    },
    "q2.4": {
     "name": "q2.4",
     "points": 1,
     "suites": [
      {
       "cases": [
        {
         "code": ">>> assert type(pter).__module__ == np.__name__\n>>> assert pter.shape[0] == 90\n",
         "failure_message": "Did you compare two columns from the unemployment table?",
         "hidden": false,
         "locked": false
        }
       ],
       "scored": true,
       "setup": "",
       "teardown": "",
       "type": "doctest"
      }
     ]
    },
    "q2.5": {
     "name": "q2.5",
     "points": 1,
     "suites": [
      {
       "cases": [
        {
         "code": ">>> by_pter_t = unemployment.with_column(\"PTER\", pter).sort(\"PTER\", descending = True).to_df()\n>>> assert by_pter_t.shape == by_pter.to_df().shape\n",
         "failure_message": "Here you should be adding a column to unemployment by using .with_column and then using .sort on that new column",
         "hidden": false,
         "locked": false
        }
       ],
       "scored": true,
       "setup": "",
       "teardown": "",
       "type": "doctest"
      }
     ]
    },
    "q2.6": {
     "name": "q2.6",
     "points": 1,
     "suites": [
      {
       "cases": [
        {
         "code": ">>> year_t = 1994 + np.arange(by_pter.num_rows)/4\n>>> pter_t = unemployment.column(\"NEI-PTER\") - unemployment.column(\"NEI\")\n>>> assert np.array_equal(year_t, unemployment.column(\"Year\"))\n>>> assert np.array_equal(pter_t, unemployment.column(\"PTER\"))\n",
         "failure_message": "Did you add the new columns correctly? Did you name them correctly? Did you generate the correct year increments?",
         "hidden": false,
         "locked": false
        }
       ],
       "scored": true,
       "setup": "",
       "teardown": "",
       "type": "doctest"
      }
     ]
    },
    "q2.7": {
     "name": "q2.7",
     "points": 1,
     "suites": [
      {
       "cases": [
        {
         "code": ">>> assert isinstance(highPTER, bool)\n",
         "failure_message": "This shoudl either be true or false",
         "hidden": false,
         "locked": false
        }
       ],
       "scored": true,
       "setup": "",
       "teardown": "",
       "type": "doctest"
      }
     ]
    },
    "q3.1": {
     "name": "q3.1",
     "points": 1,
     "suites": [
      {
       "cases": [
        {
         "code": ">>> assert isinstance(float(us_birth_rate), float)\n>>> assert float(us_birth_rate) != (sum(pop.column(\"BIRTHS\")) / sum(pop.column(\"2016\")))\n",
         "failure_message": "Population at the START of the period. Also this should be a single number.",
         "hidden": false,
         "locked": false
        }
       ],
       "scored": true,
       "setup": "",
       "teardown": "",
       "type": "doctest"
      }
     ]
    },
    "q3.2": {
     "name": "q3.2",
     "points": 1,
     "suites": [
      {
       "cases": [
        {
         "code": ">>> assert fastest_growth.shape[0] == 5\n",
         "failure_message": "Do not change the pop table! Did you .take from the sorted table you created?",
         "hidden": false,
         "locked": false
        }
       ],
       "scored": true,
       "setup": "",
       "teardown": "",
       "type": "doctest"
      }
     ]
    },
    "q3.3": {
     "name": "q3.3",
     "points": 1,
     "suites": [
      {
       "cases": [
        {
         "code": ">>> #The cast to type int is incase they end up with np.int type or any other various type\n>>> assert isinstance(int(movers), int)\n",
         "failure_message": "Your answer should be an integer",
         "hidden": false,
         "locked": false
        }
       ],
       "scored": true,
       "setup": "",
       "teardown": "",
       "type": "doctest"
      }
     ]
    },
    "q3.4": {
     "name": "q3.4",
     "points": 1,
     "suites": [
      {
       "cases": [
        {
         "code": ">>> #The cast to type int is incase they end up with np.int type or any other various type\n>>> assert isinstance(int(west_births), int)\n>>> assert 900000<int(west_births)<1000000\n",
         "failure_message": "Your answer should be an integer. Make sure you calculated the total number of births in region 4",
         "hidden": false,
         "locked": false
        }
       ],
       "scored": true,
       "setup": "",
       "teardown": "",
       "type": "doctest"
      }
     ]
    },
    "q3.5": {
     "name": "q3.5",
     "points": 1,
     "suites": [
      {
       "cases": [
        {
         "code": ">>> #The cast to type int is incase they end up with np.int type or any other various type\n>>> assert isinstance(int(less_than_west_births), int)\n>>> assert 0<int(less_than_west_births)<10\n",
         "failure_message": "Your answer should be an integer. Make sure you calculated the number of states that had a total population in 2016 that was less than west_births",
         "hidden": false,
         "locked": false
        }
       ],
       "scored": true,
       "setup": "",
       "teardown": "",
       "type": "doctest"
      }
     ]
    },
    "q3.7": {
     "name": "q3.7",
     "points": 1,
     "suites": [
      {
       "cases": [
        {
         "code": ">>> assert isinstance(assoc, bool)\n",
         "failure_message": "Your answer must be True or False",
         "hidden": false,
         "locked": false
        }
       ],
       "scored": true,
       "setup": "",
       "teardown": "",
       "type": "doctest"
      }
     ]
    },
    "q4.1.1": {
     "name": "q4.1.1",
     "points": 0.5,
     "suites": [
      {
       "cases": [
        {
         "code": ">>> assert xHist == 'A' or 'B'\n",
         "failure_message": "Your answer must be 'A' or 'B'",
         "hidden": false,
         "locked": false
        }
       ],
       "scored": true,
       "setup": "",
       "teardown": "",
       "type": "doctest"
      }
     ]
    },
    "q4.1.2": {
     "name": "q4.1.2",
     "points": 0.5,
     "suites": [
      {
       "cases": [
        {
         "code": ">>> #The cast to type int is incase they end up with np.int type or any other various type\n>>> assert yHist == 'A' or 'B'\n",
         "failure_message": "Your answer must be 'A' or 'B'",
         "hidden": false,
         "locked": false
        }
       ],
       "scored": true,
       "setup": "",
       "teardown": "",
       "type": "doctest"
      }
     ]
    }
   }
  }
 },
 "nbformat": 4,
 "nbformat_minor": 5
}
