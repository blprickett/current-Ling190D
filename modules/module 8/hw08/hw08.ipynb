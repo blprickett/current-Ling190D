{
 "cells": [
  {
   "cell_type": "raw",
   "metadata": {},
   "source": [
    "# ASSIGNMENT CONFIG\n",
    "requirements: requirements.txt\n",
    "files:\n",
    "    - restaurant_inspection_scores.csv\n",
    "    - united_summer2015.csv\n",
    "solutions_pdf: false\n",
    "init_cell: false\n",
    "export_cell: false\n",
    "generate: \n",
    "    pdf: false\n",
    "    filtering: true\n",
    "    pagebreaks: true\n",
    "    zips: false"
   ]
  },
  {
   "cell_type": "markdown",
   "metadata": {},
   "source": [
    "# Homework 8: Central Limit Theorem"
   ]
  },
  {
   "cell_type": "markdown",
   "metadata": {},
   "source": [
    "**Reading**: Textbook chapter [14](https://umass-data-science.github.io/190fwebsite/textbook/14/why-the-mean-matters/)."
   ]
  },
  {
   "cell_type": "markdown",
   "metadata": {},
   "source": [
    "Please complete this notebook by filling in the cells provided. Before you begin, execute the following cell to load the provided tests. Each time you start your server, you will need to execute this cell again to load the tests.\n",
    "\n",
    "Homework 8 is due **Monday, 11/15 at 2:30pm**. Start early so that you can come to office hours if you're stuck.\n",
    "\n",
    "Directly sharing answers is not okay, but discussing problems with the course staff or with other students is encouraged. Refer to the policies page to learn more about how to learn cooperatively.\n",
    "\n",
    "For all problems that you must write our explanations and sentences for, you **must** provide your answer in the designated space. Moreover, throughout this homework and all future ones, please be sure to not re-assign variables throughout the notebook! For example, if you use `max_temperature` in your answer to one question, do not reassign it later on."
   ]
  },
  {
   "cell_type": "code",
   "execution_count": 2,
   "metadata": {},
   "outputs": [
    {
     "name": "stdout",
     "output_type": "stream",
     "text": [
      "Requirement already satisfied: otter-grader in /Users/kamranzolfonoon/anaconda3/lib/python3.7/site-packages (3.1.2)\n",
      "Requirement already satisfied: PyYAML in /Users/kamranzolfonoon/anaconda3/lib/python3.7/site-packages (from otter-grader) (5.1.1)\n",
      "Requirement already satisfied: nbformat in /Users/kamranzolfonoon/anaconda3/lib/python3.7/site-packages (from otter-grader) (4.4.0)\n",
      "Requirement already satisfied: PyPDF2 in /Users/kamranzolfonoon/anaconda3/lib/python3.7/site-packages (from otter-grader) (1.26.0)\n",
      "Requirement already satisfied: six in /Users/kamranzolfonoon/anaconda3/lib/python3.7/site-packages (from otter-grader) (1.12.0)\n",
      "Requirement already satisfied: jinja2 in /Users/kamranzolfonoon/anaconda3/lib/python3.7/site-packages (from otter-grader) (2.10.1)\n",
      "Requirement already satisfied: dill in /Users/kamranzolfonoon/anaconda3/lib/python3.7/site-packages (from otter-grader) (0.3.4)\n",
      "Requirement already satisfied: ipykernel in /Users/kamranzolfonoon/anaconda3/lib/python3.7/site-packages (from otter-grader) (5.1.1)\n",
      "Requirement already satisfied: requests in /Users/kamranzolfonoon/anaconda3/lib/python3.7/site-packages (from otter-grader) (2.22.0)\n",
      "Requirement already satisfied: nbconvert in /Users/kamranzolfonoon/anaconda3/lib/python3.7/site-packages (from otter-grader) (5.5.0)\n",
      "Requirement already satisfied: google-auth-oauthlib in /Users/kamranzolfonoon/anaconda3/lib/python3.7/site-packages (from otter-grader) (0.4.6)\n",
      "Requirement already satisfied: google-api-python-client in /Users/kamranzolfonoon/anaconda3/lib/python3.7/site-packages (from otter-grader) (2.20.0)\n",
      "Requirement already satisfied: pdfkit in /Users/kamranzolfonoon/anaconda3/lib/python3.7/site-packages (from otter-grader) (0.6.1)\n",
      "Requirement already satisfied: pandas in /Users/kamranzolfonoon/anaconda3/lib/python3.7/site-packages (from otter-grader) (0.24.2)\n",
      "Requirement already satisfied: python-on-whales in /Users/kamranzolfonoon/anaconda3/lib/python3.7/site-packages (from otter-grader) (0.26.0)\n",
      "Requirement already satisfied: matplotlib in /Users/kamranzolfonoon/anaconda3/lib/python3.7/site-packages (from otter-grader) (3.1.0)\n",
      "Requirement already satisfied: jupyter-client in /Users/kamranzolfonoon/anaconda3/lib/python3.7/site-packages (from otter-grader) (5.3.1)\n",
      "Requirement already satisfied: gspread in /Users/kamranzolfonoon/anaconda3/lib/python3.7/site-packages (from otter-grader) (4.0.1)\n",
      "Requirement already satisfied: traitlets>=4.1 in /Users/kamranzolfonoon/anaconda3/lib/python3.7/site-packages (from nbformat->otter-grader) (4.3.2)\n",
      "Requirement already satisfied: ipython-genutils in /Users/kamranzolfonoon/anaconda3/lib/python3.7/site-packages (from nbformat->otter-grader) (0.2.0)\n",
      "Requirement already satisfied: jupyter-core in /Users/kamranzolfonoon/anaconda3/lib/python3.7/site-packages (from nbformat->otter-grader) (4.5.0)\n",
      "Requirement already satisfied: jsonschema!=2.5.0,>=2.4 in /Users/kamranzolfonoon/anaconda3/lib/python3.7/site-packages (from nbformat->otter-grader) (3.0.1)\n",
      "Requirement already satisfied: MarkupSafe>=0.23 in /Users/kamranzolfonoon/anaconda3/lib/python3.7/site-packages (from jinja2->otter-grader) (1.1.1)\n",
      "Requirement already satisfied: ipython>=5.0.0 in /Users/kamranzolfonoon/anaconda3/lib/python3.7/site-packages (from ipykernel->otter-grader) (7.6.1)\n",
      "Requirement already satisfied: tornado>=4.2 in /Users/kamranzolfonoon/anaconda3/lib/python3.7/site-packages (from ipykernel->otter-grader) (6.0.3)\n",
      "Requirement already satisfied: chardet<3.1.0,>=3.0.2 in /Users/kamranzolfonoon/anaconda3/lib/python3.7/site-packages (from requests->otter-grader) (3.0.4)\n",
      "Requirement already satisfied: certifi>=2017.4.17 in /Users/kamranzolfonoon/anaconda3/lib/python3.7/site-packages (from requests->otter-grader) (2019.6.16)\n",
      "Requirement already satisfied: urllib3!=1.25.0,!=1.25.1,<1.26,>=1.21.1 in /Users/kamranzolfonoon/anaconda3/lib/python3.7/site-packages (from requests->otter-grader) (1.24.2)\n",
      "Requirement already satisfied: idna<2.9,>=2.5 in /Users/kamranzolfonoon/anaconda3/lib/python3.7/site-packages (from requests->otter-grader) (2.8)\n",
      "Requirement already satisfied: bleach in /Users/kamranzolfonoon/anaconda3/lib/python3.7/site-packages (from nbconvert->otter-grader) (3.1.0)\n",
      "Requirement already satisfied: mistune>=0.8.1 in /Users/kamranzolfonoon/anaconda3/lib/python3.7/site-packages (from nbconvert->otter-grader) (0.8.4)\n",
      "Requirement already satisfied: defusedxml in /Users/kamranzolfonoon/anaconda3/lib/python3.7/site-packages (from nbconvert->otter-grader) (0.6.0)\n",
      "Requirement already satisfied: pygments in /Users/kamranzolfonoon/anaconda3/lib/python3.7/site-packages (from nbconvert->otter-grader) (2.4.2)\n",
      "Requirement already satisfied: entrypoints>=0.2.2 in /Users/kamranzolfonoon/anaconda3/lib/python3.7/site-packages (from nbconvert->otter-grader) (0.3)\n",
      "Requirement already satisfied: pandocfilters>=1.4.1 in /Users/kamranzolfonoon/anaconda3/lib/python3.7/site-packages (from nbconvert->otter-grader) (1.4.2)\n",
      "Requirement already satisfied: testpath in /Users/kamranzolfonoon/anaconda3/lib/python3.7/site-packages (from nbconvert->otter-grader) (0.4.2)\n",
      "Requirement already satisfied: requests-oauthlib>=0.7.0 in /Users/kamranzolfonoon/anaconda3/lib/python3.7/site-packages (from google-auth-oauthlib->otter-grader) (1.3.0)\n",
      "Requirement already satisfied: google-auth>=1.0.0 in /Users/kamranzolfonoon/anaconda3/lib/python3.7/site-packages (from google-auth-oauthlib->otter-grader) (2.0.2)\n",
      "Requirement already satisfied: uritemplate<4dev,>=3.0.0 in /Users/kamranzolfonoon/anaconda3/lib/python3.7/site-packages (from google-api-python-client->otter-grader) (3.0.1)\n",
      "Requirement already satisfied: httplib2<1dev,>=0.15.0 in /Users/kamranzolfonoon/anaconda3/lib/python3.7/site-packages (from google-api-python-client->otter-grader) (0.19.1)\n",
      "Requirement already satisfied: google-auth-httplib2>=0.1.0 in /Users/kamranzolfonoon/anaconda3/lib/python3.7/site-packages (from google-api-python-client->otter-grader) (0.1.0)\n",
      "Requirement already satisfied: google-api-core<3.0.0dev,>=1.21.0 in /Users/kamranzolfonoon/anaconda3/lib/python3.7/site-packages (from google-api-python-client->otter-grader) (2.0.1)\n",
      "Requirement already satisfied: numpy>=1.12.0 in /Users/kamranzolfonoon/anaconda3/lib/python3.7/site-packages (from pandas->otter-grader) (1.16.4)\n",
      "Requirement already satisfied: python-dateutil>=2.5.0 in /Users/kamranzolfonoon/anaconda3/lib/python3.7/site-packages (from pandas->otter-grader) (2.8.0)\n",
      "Requirement already satisfied: pytz>=2011k in /Users/kamranzolfonoon/anaconda3/lib/python3.7/site-packages (from pandas->otter-grader) (2019.1)\n",
      "Requirement already satisfied: tqdm in /Users/kamranzolfonoon/anaconda3/lib/python3.7/site-packages (from python-on-whales->otter-grader) (4.32.1)\n",
      "Requirement already satisfied: typer in /Users/kamranzolfonoon/anaconda3/lib/python3.7/site-packages (from python-on-whales->otter-grader) (0.4.0)\n",
      "Requirement already satisfied: pydantic in /Users/kamranzolfonoon/anaconda3/lib/python3.7/site-packages (from python-on-whales->otter-grader) (1.8.2)\n",
      "Requirement already satisfied: cycler>=0.10 in /Users/kamranzolfonoon/anaconda3/lib/python3.7/site-packages (from matplotlib->otter-grader) (0.10.0)\n",
      "Requirement already satisfied: kiwisolver>=1.0.1 in /Users/kamranzolfonoon/anaconda3/lib/python3.7/site-packages (from matplotlib->otter-grader) (1.1.0)\n",
      "Requirement already satisfied: pyparsing!=2.0.4,!=2.1.2,!=2.1.6,>=2.0.1 in /Users/kamranzolfonoon/anaconda3/lib/python3.7/site-packages (from matplotlib->otter-grader) (2.4.0)\n",
      "Requirement already satisfied: pyzmq>=13 in /Users/kamranzolfonoon/anaconda3/lib/python3.7/site-packages (from jupyter-client->otter-grader) (18.0.0)\n",
      "Requirement already satisfied: decorator in /Users/kamranzolfonoon/anaconda3/lib/python3.7/site-packages (from traitlets>=4.1->nbformat->otter-grader) (4.4.0)\n",
      "Requirement already satisfied: attrs>=17.4.0 in /Users/kamranzolfonoon/anaconda3/lib/python3.7/site-packages (from jsonschema!=2.5.0,>=2.4->nbformat->otter-grader) (19.1.0)\n",
      "Requirement already satisfied: pyrsistent>=0.14.0 in /Users/kamranzolfonoon/anaconda3/lib/python3.7/site-packages (from jsonschema!=2.5.0,>=2.4->nbformat->otter-grader) (0.14.11)\n",
      "Requirement already satisfied: setuptools in /Users/kamranzolfonoon/anaconda3/lib/python3.7/site-packages (from jsonschema!=2.5.0,>=2.4->nbformat->otter-grader) (41.0.1)\n",
      "Requirement already satisfied: appnope; sys_platform == \"darwin\" in /Users/kamranzolfonoon/anaconda3/lib/python3.7/site-packages (from ipython>=5.0.0->ipykernel->otter-grader) (0.1.0)\n",
      "Requirement already satisfied: backcall in /Users/kamranzolfonoon/anaconda3/lib/python3.7/site-packages (from ipython>=5.0.0->ipykernel->otter-grader) (0.1.0)\n",
      "Requirement already satisfied: pexpect; sys_platform != \"win32\" in /Users/kamranzolfonoon/anaconda3/lib/python3.7/site-packages (from ipython>=5.0.0->ipykernel->otter-grader) (4.7.0)\n",
      "Requirement already satisfied: jedi>=0.10 in /Users/kamranzolfonoon/anaconda3/lib/python3.7/site-packages (from ipython>=5.0.0->ipykernel->otter-grader) (0.13.3)\n",
      "Requirement already satisfied: prompt-toolkit<2.1.0,>=2.0.0 in /Users/kamranzolfonoon/anaconda3/lib/python3.7/site-packages (from ipython>=5.0.0->ipykernel->otter-grader) (2.0.9)\n",
      "Requirement already satisfied: pickleshare in /Users/kamranzolfonoon/anaconda3/lib/python3.7/site-packages (from ipython>=5.0.0->ipykernel->otter-grader) (0.7.5)\n",
      "Requirement already satisfied: webencodings in /Users/kamranzolfonoon/anaconda3/lib/python3.7/site-packages (from bleach->nbconvert->otter-grader) (0.5.1)\n",
      "Requirement already satisfied: oauthlib>=3.0.0 in /Users/kamranzolfonoon/anaconda3/lib/python3.7/site-packages (from requests-oauthlib>=0.7.0->google-auth-oauthlib->otter-grader) (3.1.1)\n",
      "Requirement already satisfied: rsa<5,>=3.1.4 in /Users/kamranzolfonoon/anaconda3/lib/python3.7/site-packages (from google-auth>=1.0.0->google-auth-oauthlib->otter-grader) (4.7.2)\n",
      "Requirement already satisfied: pyasn1-modules>=0.2.1 in /Users/kamranzolfonoon/anaconda3/lib/python3.7/site-packages (from google-auth>=1.0.0->google-auth-oauthlib->otter-grader) (0.2.8)\n",
      "Requirement already satisfied: cachetools<5.0,>=2.0.0 in /Users/kamranzolfonoon/anaconda3/lib/python3.7/site-packages (from google-auth>=1.0.0->google-auth-oauthlib->otter-grader) (4.2.2)\n",
      "Requirement already satisfied: protobuf>=3.12.0 in /Users/kamranzolfonoon/anaconda3/lib/python3.7/site-packages (from google-api-core<3.0.0dev,>=1.21.0->google-api-python-client->otter-grader) (3.17.3)\n",
      "Requirement already satisfied: googleapis-common-protos<2.0dev,>=1.6.0 in /Users/kamranzolfonoon/anaconda3/lib/python3.7/site-packages (from google-api-core<3.0.0dev,>=1.21.0->google-api-python-client->otter-grader) (1.53.0)\n",
      "Requirement already satisfied: click<9.0.0,>=7.1.1 in /Users/kamranzolfonoon/anaconda3/lib/python3.7/site-packages (from typer->python-on-whales->otter-grader) (8.0.1)\n",
      "Requirement already satisfied: typing-extensions>=3.7.4.3 in /Users/kamranzolfonoon/anaconda3/lib/python3.7/site-packages (from pydantic->python-on-whales->otter-grader) (3.10.0.2)\n",
      "Requirement already satisfied: ptyprocess>=0.5 in /Users/kamranzolfonoon/anaconda3/lib/python3.7/site-packages (from pexpect; sys_platform != \"win32\"->ipython>=5.0.0->ipykernel->otter-grader) (0.6.0)\n",
      "Requirement already satisfied: parso>=0.3.0 in /Users/kamranzolfonoon/anaconda3/lib/python3.7/site-packages (from jedi>=0.10->ipython>=5.0.0->ipykernel->otter-grader) (0.5.0)\n",
      "Requirement already satisfied: wcwidth in /Users/kamranzolfonoon/anaconda3/lib/python3.7/site-packages (from prompt-toolkit<2.1.0,>=2.0.0->ipython>=5.0.0->ipykernel->otter-grader) (0.1.7)\n",
      "Requirement already satisfied: pyasn1>=0.1.3 in /Users/kamranzolfonoon/anaconda3/lib/python3.7/site-packages (from rsa<5,>=3.1.4->google-auth>=1.0.0->google-auth-oauthlib->otter-grader) (0.4.8)\n",
      "Requirement already satisfied: importlib-metadata; python_version < \"3.8\" in /Users/kamranzolfonoon/anaconda3/lib/python3.7/site-packages (from click<9.0.0,>=7.1.1->typer->python-on-whales->otter-grader) (0.17)\n",
      "Requirement already satisfied: zipp>=0.5 in /Users/kamranzolfonoon/anaconda3/lib/python3.7/site-packages (from importlib-metadata; python_version < \"3.8\"->click<9.0.0,>=7.1.1->typer->python-on-whales->otter-grader) (0.5.1)\n",
      "Requirement already satisfied: datascience in /Users/kamranzolfonoon/anaconda3/lib/python3.7/site-packages (0.17.0)\n",
      "Requirement already satisfied: branca in /Users/kamranzolfonoon/anaconda3/lib/python3.7/site-packages (from datascience) (0.4.2)\n",
      "Requirement already satisfied: matplotlib>=3.0.0 in /Users/kamranzolfonoon/anaconda3/lib/python3.7/site-packages (from datascience) (3.1.0)\n",
      "Requirement already satisfied: pytest in /Users/kamranzolfonoon/anaconda3/lib/python3.7/site-packages (from datascience) (5.0.1)\n",
      "Requirement already satisfied: coveralls in /Users/kamranzolfonoon/anaconda3/lib/python3.7/site-packages (from datascience) (3.2.0)\n",
      "Requirement already satisfied: bokeh in /Users/kamranzolfonoon/anaconda3/lib/python3.7/site-packages (from datascience) (1.2.0)\n",
      "Requirement already satisfied: numpy in /Users/kamranzolfonoon/anaconda3/lib/python3.7/site-packages (from datascience) (1.16.4)\n",
      "Requirement already satisfied: nbsphinx in /Users/kamranzolfonoon/anaconda3/lib/python3.7/site-packages (from datascience) (0.8.7)\n",
      "Requirement already satisfied: scipy in /Users/kamranzolfonoon/anaconda3/lib/python3.7/site-packages (from datascience) (1.3.0)\n",
      "Requirement already satisfied: folium>=0.9.1 in /Users/kamranzolfonoon/anaconda3/lib/python3.7/site-packages (from datascience) (0.12.1)\n",
      "Requirement already satisfied: ipython in /Users/kamranzolfonoon/anaconda3/lib/python3.7/site-packages (from datascience) (7.6.1)\n",
      "Requirement already satisfied: setuptools in /Users/kamranzolfonoon/anaconda3/lib/python3.7/site-packages (from datascience) (41.0.1)\n",
      "Requirement already satisfied: coverage in /Users/kamranzolfonoon/anaconda3/lib/python3.7/site-packages (from datascience) (5.5)\n",
      "Requirement already satisfied: pandas in /Users/kamranzolfonoon/anaconda3/lib/python3.7/site-packages (from datascience) (0.24.2)\n",
      "Requirement already satisfied: plotly in /Users/kamranzolfonoon/anaconda3/lib/python3.7/site-packages (from datascience) (5.3.1)\n",
      "Requirement already satisfied: sphinx in /Users/kamranzolfonoon/anaconda3/lib/python3.7/site-packages (from datascience) (2.1.2)\n",
      "Requirement already satisfied: jinja2 in /Users/kamranzolfonoon/anaconda3/lib/python3.7/site-packages (from branca->datascience) (2.10.1)\n",
      "Requirement already satisfied: cycler>=0.10 in /Users/kamranzolfonoon/anaconda3/lib/python3.7/site-packages (from matplotlib>=3.0.0->datascience) (0.10.0)\n",
      "Requirement already satisfied: kiwisolver>=1.0.1 in /Users/kamranzolfonoon/anaconda3/lib/python3.7/site-packages (from matplotlib>=3.0.0->datascience) (1.1.0)\n",
      "Requirement already satisfied: pyparsing!=2.0.4,!=2.1.2,!=2.1.6,>=2.0.1 in /Users/kamranzolfonoon/anaconda3/lib/python3.7/site-packages (from matplotlib>=3.0.0->datascience) (2.4.0)\n",
      "Requirement already satisfied: python-dateutil>=2.1 in /Users/kamranzolfonoon/anaconda3/lib/python3.7/site-packages (from matplotlib>=3.0.0->datascience) (2.8.0)\n",
      "Requirement already satisfied: py>=1.5.0 in /Users/kamranzolfonoon/anaconda3/lib/python3.7/site-packages (from pytest->datascience) (1.8.0)\n",
      "Requirement already satisfied: packaging in /Users/kamranzolfonoon/anaconda3/lib/python3.7/site-packages (from pytest->datascience) (19.0)\n",
      "Requirement already satisfied: attrs>=17.4.0 in /Users/kamranzolfonoon/anaconda3/lib/python3.7/site-packages (from pytest->datascience) (19.1.0)\n",
      "Requirement already satisfied: more-itertools>=4.0.0 in /Users/kamranzolfonoon/anaconda3/lib/python3.7/site-packages (from pytest->datascience) (7.0.0)\n",
      "Requirement already satisfied: atomicwrites>=1.0 in /Users/kamranzolfonoon/anaconda3/lib/python3.7/site-packages (from pytest->datascience) (1.3.0)\n",
      "Requirement already satisfied: pluggy<1.0,>=0.12 in /Users/kamranzolfonoon/anaconda3/lib/python3.7/site-packages (from pytest->datascience) (0.12.0)\n",
      "Requirement already satisfied: importlib-metadata>=0.12 in /Users/kamranzolfonoon/anaconda3/lib/python3.7/site-packages (from pytest->datascience) (0.17)\n",
      "Requirement already satisfied: wcwidth in /Users/kamranzolfonoon/anaconda3/lib/python3.7/site-packages (from pytest->datascience) (0.1.7)\n",
      "Requirement already satisfied: docopt>=0.6.1 in /Users/kamranzolfonoon/anaconda3/lib/python3.7/site-packages (from coveralls->datascience) (0.6.2)\n",
      "Requirement already satisfied: requests>=1.0.0 in /Users/kamranzolfonoon/anaconda3/lib/python3.7/site-packages (from coveralls->datascience) (2.22.0)\n",
      "Requirement already satisfied: six>=1.5.2 in /Users/kamranzolfonoon/anaconda3/lib/python3.7/site-packages (from bokeh->datascience) (1.12.0)\n",
      "Requirement already satisfied: PyYAML>=3.10 in /Users/kamranzolfonoon/anaconda3/lib/python3.7/site-packages (from bokeh->datascience) (5.1.1)\n",
      "Requirement already satisfied: tornado>=4.3 in /Users/kamranzolfonoon/anaconda3/lib/python3.7/site-packages (from bokeh->datascience) (6.0.3)\n",
      "Requirement already satisfied: pillow>=4.0 in /Users/kamranzolfonoon/anaconda3/lib/python3.7/site-packages (from bokeh->datascience) (6.1.0)\n",
      "Requirement already satisfied: traitlets in /Users/kamranzolfonoon/anaconda3/lib/python3.7/site-packages (from nbsphinx->datascience) (4.3.2)\n",
      "Requirement already satisfied: docutils in /Users/kamranzolfonoon/anaconda3/lib/python3.7/site-packages (from nbsphinx->datascience) (0.14)\n",
      "Requirement already satisfied: nbformat in /Users/kamranzolfonoon/anaconda3/lib/python3.7/site-packages (from nbsphinx->datascience) (4.4.0)\n",
      "Requirement already satisfied: nbconvert!=5.4 in /Users/kamranzolfonoon/anaconda3/lib/python3.7/site-packages (from nbsphinx->datascience) (5.5.0)\n",
      "Requirement already satisfied: decorator in /Users/kamranzolfonoon/anaconda3/lib/python3.7/site-packages (from ipython->datascience) (4.4.0)\n",
      "Requirement already satisfied: prompt-toolkit<2.1.0,>=2.0.0 in /Users/kamranzolfonoon/anaconda3/lib/python3.7/site-packages (from ipython->datascience) (2.0.9)\n",
      "Requirement already satisfied: appnope; sys_platform == \"darwin\" in /Users/kamranzolfonoon/anaconda3/lib/python3.7/site-packages (from ipython->datascience) (0.1.0)\n",
      "Requirement already satisfied: pexpect; sys_platform != \"win32\" in /Users/kamranzolfonoon/anaconda3/lib/python3.7/site-packages (from ipython->datascience) (4.7.0)\n",
      "Requirement already satisfied: backcall in /Users/kamranzolfonoon/anaconda3/lib/python3.7/site-packages (from ipython->datascience) (0.1.0)\n",
      "Requirement already satisfied: pygments in /Users/kamranzolfonoon/anaconda3/lib/python3.7/site-packages (from ipython->datascience) (2.4.2)\n",
      "Requirement already satisfied: jedi>=0.10 in /Users/kamranzolfonoon/anaconda3/lib/python3.7/site-packages (from ipython->datascience) (0.13.3)\n",
      "Requirement already satisfied: pickleshare in /Users/kamranzolfonoon/anaconda3/lib/python3.7/site-packages (from ipython->datascience) (0.7.5)\n",
      "Requirement already satisfied: pytz>=2011k in /Users/kamranzolfonoon/anaconda3/lib/python3.7/site-packages (from pandas->datascience) (2019.1)\n",
      "Requirement already satisfied: tenacity>=6.2.0 in /Users/kamranzolfonoon/anaconda3/lib/python3.7/site-packages (from plotly->datascience) (8.0.1)\n",
      "Requirement already satisfied: imagesize in /Users/kamranzolfonoon/anaconda3/lib/python3.7/site-packages (from sphinx->datascience) (1.1.0)\n",
      "Requirement already satisfied: alabaster<0.8,>=0.7 in /Users/kamranzolfonoon/anaconda3/lib/python3.7/site-packages (from sphinx->datascience) (0.7.12)\n",
      "Requirement already satisfied: sphinxcontrib-applehelp in /Users/kamranzolfonoon/anaconda3/lib/python3.7/site-packages (from sphinx->datascience) (1.0.1)\n",
      "Requirement already satisfied: snowballstemmer>=1.1 in /Users/kamranzolfonoon/anaconda3/lib/python3.7/site-packages (from sphinx->datascience) (1.9.0)\n",
      "Requirement already satisfied: babel!=2.0,>=1.3 in /Users/kamranzolfonoon/anaconda3/lib/python3.7/site-packages (from sphinx->datascience) (2.7.0)\n",
      "Requirement already satisfied: sphinxcontrib-serializinghtml in /Users/kamranzolfonoon/anaconda3/lib/python3.7/site-packages (from sphinx->datascience) (1.1.3)\n",
      "Requirement already satisfied: sphinxcontrib-jsmath in /Users/kamranzolfonoon/anaconda3/lib/python3.7/site-packages (from sphinx->datascience) (1.0.1)\n",
      "Requirement already satisfied: sphinxcontrib-devhelp in /Users/kamranzolfonoon/anaconda3/lib/python3.7/site-packages (from sphinx->datascience) (1.0.1)\n",
      "Requirement already satisfied: sphinxcontrib-htmlhelp in /Users/kamranzolfonoon/anaconda3/lib/python3.7/site-packages (from sphinx->datascience) (1.0.2)\n",
      "Requirement already satisfied: sphinxcontrib-qthelp in /Users/kamranzolfonoon/anaconda3/lib/python3.7/site-packages (from sphinx->datascience) (1.0.2)\n",
      "Requirement already satisfied: MarkupSafe>=0.23 in /Users/kamranzolfonoon/anaconda3/lib/python3.7/site-packages (from jinja2->branca->datascience) (1.1.1)\n",
      "Requirement already satisfied: zipp>=0.5 in /Users/kamranzolfonoon/anaconda3/lib/python3.7/site-packages (from importlib-metadata>=0.12->pytest->datascience) (0.5.1)\n",
      "Requirement already satisfied: certifi>=2017.4.17 in /Users/kamranzolfonoon/anaconda3/lib/python3.7/site-packages (from requests>=1.0.0->coveralls->datascience) (2019.6.16)\n",
      "Requirement already satisfied: idna<2.9,>=2.5 in /Users/kamranzolfonoon/anaconda3/lib/python3.7/site-packages (from requests>=1.0.0->coveralls->datascience) (2.8)\n",
      "Requirement already satisfied: urllib3!=1.25.0,!=1.25.1,<1.26,>=1.21.1 in /Users/kamranzolfonoon/anaconda3/lib/python3.7/site-packages (from requests>=1.0.0->coveralls->datascience) (1.24.2)\n",
      "Requirement already satisfied: chardet<3.1.0,>=3.0.2 in /Users/kamranzolfonoon/anaconda3/lib/python3.7/site-packages (from requests>=1.0.0->coveralls->datascience) (3.0.4)\n",
      "Requirement already satisfied: ipython-genutils in /Users/kamranzolfonoon/anaconda3/lib/python3.7/site-packages (from traitlets->nbsphinx->datascience) (0.2.0)\n",
      "Requirement already satisfied: jsonschema!=2.5.0,>=2.4 in /Users/kamranzolfonoon/anaconda3/lib/python3.7/site-packages (from nbformat->nbsphinx->datascience) (3.0.1)\n",
      "Requirement already satisfied: jupyter-core in /Users/kamranzolfonoon/anaconda3/lib/python3.7/site-packages (from nbformat->nbsphinx->datascience) (4.5.0)\n",
      "Requirement already satisfied: pandocfilters>=1.4.1 in /Users/kamranzolfonoon/anaconda3/lib/python3.7/site-packages (from nbconvert!=5.4->nbsphinx->datascience) (1.4.2)\n",
      "Requirement already satisfied: entrypoints>=0.2.2 in /Users/kamranzolfonoon/anaconda3/lib/python3.7/site-packages (from nbconvert!=5.4->nbsphinx->datascience) (0.3)\n",
      "Requirement already satisfied: bleach in /Users/kamranzolfonoon/anaconda3/lib/python3.7/site-packages (from nbconvert!=5.4->nbsphinx->datascience) (3.1.0)\n",
      "Requirement already satisfied: mistune>=0.8.1 in /Users/kamranzolfonoon/anaconda3/lib/python3.7/site-packages (from nbconvert!=5.4->nbsphinx->datascience) (0.8.4)\n",
      "Requirement already satisfied: defusedxml in /Users/kamranzolfonoon/anaconda3/lib/python3.7/site-packages (from nbconvert!=5.4->nbsphinx->datascience) (0.6.0)\n",
      "Requirement already satisfied: testpath in /Users/kamranzolfonoon/anaconda3/lib/python3.7/site-packages (from nbconvert!=5.4->nbsphinx->datascience) (0.4.2)\n",
      "Requirement already satisfied: ptyprocess>=0.5 in /Users/kamranzolfonoon/anaconda3/lib/python3.7/site-packages (from pexpect; sys_platform != \"win32\"->ipython->datascience) (0.6.0)\n",
      "Requirement already satisfied: parso>=0.3.0 in /Users/kamranzolfonoon/anaconda3/lib/python3.7/site-packages (from jedi>=0.10->ipython->datascience) (0.5.0)\n",
      "Requirement already satisfied: pyrsistent>=0.14.0 in /Users/kamranzolfonoon/anaconda3/lib/python3.7/site-packages (from jsonschema!=2.5.0,>=2.4->nbformat->nbsphinx->datascience) (0.14.11)\n",
      "Requirement already satisfied: webencodings in /Users/kamranzolfonoon/anaconda3/lib/python3.7/site-packages (from bleach->nbconvert!=5.4->nbsphinx->datascience) (0.5.1)\n"
     ]
    }
   ],
   "source": [
    "!pip install otter-grader\n",
    "!pip install datascience"
   ]
  },
  {
   "cell_type": "code",
   "execution_count": 3,
   "metadata": {},
   "outputs": [],
   "source": [
    "import numpy as np\n",
    "from datascience import *\n",
    "\n",
    "# These lines do some fancy plotting magic.\n",
    "import matplotlib\n",
    "%matplotlib inline\n",
    "import matplotlib.pyplot as plt\n",
    "plt.style.use('fivethirtyeight')\n",
    "import warnings\n",
    "warnings.simplefilter('ignore', FutureWarning)\n",
    "\n",
    "import otter\n",
    "grader = otter.Notebook()"
   ]
  },
  {
   "cell_type": "markdown",
   "metadata": {},
   "source": [
    "## 1. The Bootstrap and The Normal Curve\n"
   ]
  },
  {
   "cell_type": "markdown",
   "metadata": {},
   "source": [
    "In this exercise, we will explore a dataset that includes the safety inspection scores for restauraunts in the city of Austin, Texas.  We will be interested in determining the average restaurant score (out of 100) for the city from a random sample of the scores.  We'll compare two methods for computing a confidence interval for that quantity: the bootstrap resampling method, and an approximation based on the Central Limit Theorem."
   ]
  },
  {
   "cell_type": "code",
   "execution_count": 4,
   "metadata": {},
   "outputs": [
    {
     "data": {
      "text/html": [
       "<table border=\"1\" class=\"dataframe\">\n",
       "    <thead>\n",
       "        <tr>\n",
       "            <th>Restaurant Name</th> <th>Zip Code</th> <th>Inspection Date</th> <th>Score</th> <th>Address</th>\n",
       "        </tr>\n",
       "    </thead>\n",
       "    <tbody>\n",
       "        <tr>\n",
       "            <td>6M Grocery     </td> <td>78652   </td> <td>01/17/2014     </td> <td>90   </td> <td>805 W FM 1626 RD\n",
       "AUSTIN, TX 78652\n",
       "     </td>\n",
       "        </tr>\n",
       "        <tr>\n",
       "            <td>6M Grocery     </td> <td>78652   </td> <td>04/27/2015     </td> <td>93   </td> <td>805 W FM 1626 RD\n",
       "AUSTIN, TX 78652\n",
       "     </td>\n",
       "        </tr>\n",
       "        <tr>\n",
       "            <td>6M Grocery     </td> <td>78652   </td> <td>05/02/2016     </td> <td>88   </td> <td>805 W FM 1626 RD\n",
       "AUSTIN, TX 78652\n",
       "     </td>\n",
       "        </tr>\n",
       "        <tr>\n",
       "            <td>6M Grocery     </td> <td>78652   </td> <td>07/25/2014     </td> <td>100  </td> <td>805 W FM 1626 RD\n",
       "AUSTIN, TX 78652\n",
       "     </td>\n",
       "        </tr>\n",
       "        <tr>\n",
       "            <td>6M Grocery     </td> <td>78652   </td> <td>10/21/2015     </td> <td>87   </td> <td>805 W FM 1626 RD\n",
       "AUSTIN, TX 78652\n",
       "     </td>\n",
       "        </tr>\n",
       "        <tr>\n",
       "            <td>6M Grocery     </td> <td>78652   </td> <td>12/15/2014     </td> <td>93   </td> <td>805 W FM 1626 RD\n",
       "AUSTIN, TX 78652\n",
       "     </td>\n",
       "        </tr>\n",
       "        <tr>\n",
       "            <td>7 Eleven #36575</td> <td>78660   </td> <td>01/25/2016     </td> <td>92   </td> <td>15829 N IH 35 SVRD NB\n",
       "AUSTIN, TX 78660\n",
       "</td>\n",
       "        </tr>\n",
       "        <tr>\n",
       "            <td>7 Eleven #36575</td> <td>78660   </td> <td>03/05/2015     </td> <td>86   </td> <td>15829 N IH 35 SVRD NB\n",
       "AUSTIN, TX 78660\n",
       "</td>\n",
       "        </tr>\n",
       "        <tr>\n",
       "            <td>7 Eleven #36575</td> <td>78660   </td> <td>03/14/2014     </td> <td>93   </td> <td>15829 N IH 35 SVRD NB\n",
       "AUSTIN, TX 78660\n",
       "</td>\n",
       "        </tr>\n",
       "        <tr>\n",
       "            <td>7 Eleven #36575</td> <td>78660   </td> <td>07/27/2015     </td> <td>97   </td> <td>15829 N IH 35 SVRD NB\n",
       "AUSTIN, TX 78660\n",
       "</td>\n",
       "        </tr>\n",
       "    </tbody>\n",
       "</table>\n",
       "<p>... (24357 rows omitted)</p>"
      ],
      "text/plain": [
       "Restaurant Name | Zip Code | Inspection Date | Score | Address\n",
       "6M Grocery      | 78652    | 01/17/2014      | 90    | 805 W FM 1626 RD\n",
       "AUSTIN, TX 78652\n",
       "6M Grocery      | 78652    | 04/27/2015      | 93    | 805 W FM 1626 RD\n",
       "AUSTIN, TX 78652\n",
       "6M Grocery      | 78652    | 05/02/2016      | 88    | 805 W FM 1626 RD\n",
       "AUSTIN, TX 78652\n",
       "6M Grocery      | 78652    | 07/25/2014      | 100   | 805 W FM 1626 RD\n",
       "AUSTIN, TX 78652\n",
       "6M Grocery      | 78652    | 10/21/2015      | 87    | 805 W FM 1626 RD\n",
       "AUSTIN, TX 78652\n",
       "6M Grocery      | 78652    | 12/15/2014      | 93    | 805 W FM 1626 RD\n",
       "AUSTIN, TX 78652\n",
       "7 Eleven #36575 | 78660    | 01/25/2016      | 92    | 15829 N IH 35 SVRD NB\n",
       "AUSTIN, TX 78660\n",
       "7 Eleven #36575 | 78660    | 03/05/2015      | 86    | 15829 N IH 35 SVRD NB\n",
       "AUSTIN, TX 78660\n",
       "7 Eleven #36575 | 78660    | 03/14/2014      | 93    | 15829 N IH 35 SVRD NB\n",
       "AUSTIN, TX 78660\n",
       "7 Eleven #36575 | 78660    | 07/27/2015      | 97    | 15829 N IH 35 SVRD NB\n",
       "AUSTIN, TX 78660\n",
       "... (24357 rows omitted)"
      ]
     },
     "execution_count": 4,
     "metadata": {},
     "output_type": "execute_result"
    }
   ],
   "source": [
    "# Just run this cell.\n",
    "pop_restaurants = Table.read_table('restaurant_inspection_scores.csv').drop(5,6)\n",
    "pop_restaurants"
   ]
  },
  {
   "cell_type": "markdown",
   "metadata": {},
   "source": [
    "**Question 1** (Ungraded):\n",
    "Plot a histogram of the scores."
   ]
  },
  {
   "cell_type": "raw",
   "metadata": {},
   "source": [
    "# BEGIN QUESTION\n",
    "name: q1.1\n",
    "manual: true"
   ]
  },
  {
   "cell_type": "raw",
   "metadata": {},
   "source": [
    "# BEGIN SOLUTION"
   ]
  },
  {
   "cell_type": "code",
   "execution_count": 5,
   "metadata": {},
   "outputs": [
    {
     "data": {
      "image/png": "[encoded data removed]",
      "text/plain": [
       "<Figure size 432x288 with 1 Axes>"
      ]
     },
     "metadata": {},
     "output_type": "display_data"
    }
   ],
   "source": [
    "pop_restaurants.hist('Score') # SOLUTION"
   ]
  },
  {
   "cell_type": "raw",
   "metadata": {},
   "source": [
    "# END SOLUTION"
   ]
  },
  {
   "cell_type": "raw",
   "metadata": {},
   "source": [
    "# END QUESTION"
   ]
  },
  {
   "cell_type": "markdown",
   "metadata": {},
   "source": [
    "This is the population mean:"
   ]
  },
  {
   "cell_type": "code",
   "execution_count": 6,
   "metadata": {},
   "outputs": [
    {
     "data": {
      "text/plain": [
       "91.40706693478886"
      ]
     },
     "execution_count": 6,
     "metadata": {},
     "output_type": "execute_result"
    }
   ],
   "source": [
    "pop_mean = np.mean(pop_restaurants.column(3))\n",
    "pop_mean"
   ]
  },
  {
   "cell_type": "markdown",
   "metadata": {},
   "source": [
    "Often it is impossible to find complete datasets like this.  Imagine we instead had access only to a random sample of 100 restaurant inspections, called `restaurant_sample`.  That table is created below. We are interested in using this sample to estimate the population mean."
   ]
  },
  {
   "cell_type": "code",
   "execution_count": 7,
   "metadata": {},
   "outputs": [
    {
     "data": {
      "text/html": [
       "<table border=\"1\" class=\"dataframe\">\n",
       "    <thead>\n",
       "        <tr>\n",
       "            <th>Restaurant Name</th> <th>Zip Code</th> <th>Inspection Date</th> <th>Score</th> <th>Address</th>\n",
       "        </tr>\n",
       "    </thead>\n",
       "    <tbody>\n",
       "        <tr>\n",
       "            <td>Dream Dinners              </td> <td>78750   </td> <td>09/25/2015     </td> <td>93   </td> <td>12129 N FM 620 RD\n",
       "AUSTIN, TX 78750\n",
       "(30.4544, -97.8267)      </td>\n",
       "        </tr>\n",
       "        <tr>\n",
       "            <td>Casis Elementary           </td> <td>78703   </td> <td>11/06/2013     </td> <td>97   </td> <td>2710 EXPOSITION BLVD\n",
       "AUSTIN, TX 78703\n",
       "(30.303357, -97.76435)</td>\n",
       "        </tr>\n",
       "        <tr>\n",
       "            <td>Juiceland Shady Hollow, LLC</td> <td>78748   </td> <td>04/17/2015     </td> <td>93   </td> <td>9901 BRODIE LN Unit 110\n",
       "AUSTIN, TX 78748\n",
       "(30.185651, -97 ...</td>\n",
       "        </tr>\n",
       "        <tr>\n",
       "            <td>Stassney Food Mart         </td> <td>78744   </td> <td>05/13/2015     </td> <td>90   </td> <td>5717 S IH 35 SVRD NB Bldg D\n",
       "AUSTIN, TX 78744\n",
       "(30.197695, ...</td>\n",
       "        </tr>\n",
       "        <tr>\n",
       "            <td>Poco Loco Supermercado     </td> <td>78745   </td> <td>05/28/2015     </td> <td>61   </td> <td>611 W BEN WHITE BLVD EB\n",
       "AUSTIN, TX 78745\n",
       "(30.226978, -97 ...</td>\n",
       "        </tr>\n",
       "        <tr>\n",
       "            <td>Conoco                     </td> <td>78741   </td> <td>11/06/2014     </td> <td>97   </td> <td>6214 E RIVERSIDE DR\n",
       "AUSTIN, TX 78741\n",
       "(30.225194, -97.703922)</td>\n",
       "        </tr>\n",
       "        <tr>\n",
       "            <td>Patsy's                    </td> <td>78744   </td> <td>07/17/2014     </td> <td>79   </td> <td>5001 E BEN WHITE BLVD EB\n",
       "AUSTIN, TX 78744\n",
       "(30.213856, -9 ...</td>\n",
       "        </tr>\n",
       "        <tr>\n",
       "            <td>Fresh Cup Frozen Yogurt    </td> <td>78753   </td> <td>05/13/2014     </td> <td>93   </td> <td>13000 N IH 35 SVRD SB Bunit 116\n",
       "AUSTIN, TX 78753\n",
       "(30.408 ...</td>\n",
       "        </tr>\n",
       "        <tr>\n",
       "            <td>Pizza Hut                  </td> <td>78749   </td> <td>05/19/2014     </td> <td>88   </td> <td>8400 BRODIE LN Unit 108\n",
       "AUSTIN, TX 78749\n",
       "(30.199823, -97 ...</td>\n",
       "        </tr>\n",
       "        <tr>\n",
       "            <td>WL-Subway                  </td> <td>78746   </td> <td>07/18/2014     </td> <td>85   </td> <td>3736 BEE CAVES RD\n",
       "WEST LAKE HILLS, TX 78746\n",
       "(30.280195,  ...</td>\n",
       "        </tr>\n",
       "    </tbody>\n",
       "</table>\n",
       "<p>... (90 rows omitted)</p>"
      ],
      "text/plain": [
       "Restaurant Name             | Zip Code | Inspection Date | Score | Address\n",
       "Dream Dinners               | 78750    | 09/25/2015      | 93    | 12129 N FM 620 RD\n",
       "AUSTIN, TX 78750\n",
       "(30.4544, -97.8267)\n",
       "Casis Elementary            | 78703    | 11/06/2013      | 97    | 2710 EXPOSITION BLVD\n",
       "AUSTIN, TX 78703\n",
       "(30.303357, -97.76435)\n",
       "Juiceland Shady Hollow, LLC | 78748    | 04/17/2015      | 93    | 9901 BRODIE LN Unit 110\n",
       "AUSTIN, TX 78748\n",
       "(30.185651, -97 ...\n",
       "Stassney Food Mart          | 78744    | 05/13/2015      | 90    | 5717 S IH 35 SVRD NB Bldg D\n",
       "AUSTIN, TX 78744\n",
       "(30.197695, ...\n",
       "Poco Loco Supermercado      | 78745    | 05/28/2015      | 61    | 611 W BEN WHITE BLVD EB\n",
       "AUSTIN, TX 78745\n",
       "(30.226978, -97 ...\n",
       "Conoco                      | 78741    | 11/06/2014      | 97    | 6214 E RIVERSIDE DR\n",
       "AUSTIN, TX 78741\n",
       "(30.225194, -97.703922)\n",
       "Patsy's                     | 78744    | 07/17/2014      | 79    | 5001 E BEN WHITE BLVD EB\n",
       "AUSTIN, TX 78744\n",
       "(30.213856, -9 ...\n",
       "Fresh Cup Frozen Yogurt     | 78753    | 05/13/2014      | 93    | 13000 N IH 35 SVRD SB Bunit 116\n",
       "AUSTIN, TX 78753\n",
       "(30.408 ...\n",
       "Pizza Hut                   | 78749    | 05/19/2014      | 88    | 8400 BRODIE LN Unit 108\n",
       "AUSTIN, TX 78749\n",
       "(30.199823, -97 ...\n",
       "WL-Subway                   | 78746    | 07/18/2014      | 85    | 3736 BEE CAVES RD\n",
       "WEST LAKE HILLS, TX 78746\n",
       "(30.280195,  ...\n",
       "... (90 rows omitted)"
      ]
     },
     "execution_count": 7,
     "metadata": {},
     "output_type": "execute_result"
    }
   ],
   "source": [
    "np.random.seed(123)\n",
    "\n",
    "restaurant_sample = pop_restaurants.sample(100, with_replacement=False)\n",
    "restaurant_sample"
   ]
  },
  {
   "cell_type": "markdown",
   "metadata": {},
   "source": [
    "**Question 2** (Ungraded): Plot a histogram of the **sample** scores. "
   ]
  },
  {
   "cell_type": "raw",
   "metadata": {},
   "source": [
    "# BEGIN QUESTION\n",
    "name: q1.2\n",
    "manual: true"
   ]
  },
  {
   "cell_type": "raw",
   "metadata": {},
   "source": [
    "# BEGIN SOLUTION"
   ]
  },
  {
   "cell_type": "code",
   "execution_count": 8,
   "metadata": {},
   "outputs": [
    {
     "data": {
      "image/png": "[encoded data removed]",
      "text/plain": [
       "<Figure size 432x288 with 1 Axes>"
      ]
     },
     "metadata": {},
     "output_type": "display_data"
    }
   ],
   "source": [
    "restaurant_sample.hist('Score') # SOLUTION"
   ]
  },
  {
   "cell_type": "raw",
   "metadata": {},
   "source": [
    "# END SOLUTION"
   ]
  },
  {
   "cell_type": "raw",
   "metadata": {},
   "source": [
    "# END QUESTION"
   ]
  },
  {
   "cell_type": "markdown",
   "metadata": {},
   "source": [
    "This is the **sample mean**:"
   ]
  },
  {
   "cell_type": "code",
   "execution_count": 9,
   "metadata": {},
   "outputs": [
    {
     "data": {
      "text/plain": [
       "90.5"
      ]
     },
     "execution_count": 9,
     "metadata": {},
     "output_type": "execute_result"
    }
   ],
   "source": [
    "sample_mean = np.mean(restaurant_sample.column(3))\n",
    "sample_mean"
   ]
  },
  {
   "cell_type": "markdown",
   "metadata": {},
   "source": [
    "**Question 3**: Complete the function `bootstrap_scores` below. It should take no arguments. It should simulate drawing 5000 resamples from `restaurant_sample` and computing the mean restaurant score in each resample.  It should return an array of those 5000 resample means."
   ]
  },
  {
   "cell_type": "raw",
   "metadata": {},
   "source": [
    "# BEGIN QUESTION\n",
    "name: q1.3\n",
    "points: 1"
   ]
  },
  {
   "cell_type": "raw",
   "metadata": {},
   "source": [
    "# BEGIN SOLUTION"
   ]
  },
  {
   "cell_type": "code",
   "execution_count": 10,
   "metadata": {},
   "outputs": [
    {
     "data": {
      "text/plain": [
       "array([90.6 , 90.64, 89.46, ..., 89.3 , 90.34, 91.32])"
      ]
     },
     "execution_count": 10,
     "metadata": {},
     "output_type": "execute_result"
    }
   ],
   "source": [
    "#Resample from resampled mean 5000 times\n",
    "np.random.seed(123)\n",
    "\n",
    "def bootstrap_scores(restaurant_sample):\n",
    "    resampled_means = make_array() # SOLUTION\n",
    "    for i in range(5000):\n",
    "        resampled_mean = np.mean(restaurant_sample.sample().column(\"Score\")) # SOLUTION\n",
    "        resampled_means = np.append(resampled_means, resampled_mean) # SOLUTION\n",
    "    return resampled_means\n",
    "\n",
    "resampled_means = bootstrap_scores(restaurant_sample)\n",
    "resampled_means"
   ]
  },
  {
   "cell_type": "raw",
   "metadata": {},
   "source": [
    "# END SOLUTION"
   ]
  },
  {
   "cell_type": "raw",
   "metadata": {},
   "source": [
    "# BEGIN TESTS"
   ]
  },
  {
   "cell_type": "code",
   "execution_count": 11,
   "metadata": {},
   "outputs": [],
   "source": [
    "\"\"\" # BEGIN TEST CONFIG\n",
    "failure_message: \"resampled means must be an array of resample means that is 5000 elements long\"\n",
    "\"\"\" # END TEST CONFIG\n",
    "assert len(resampled_means) == 5000"
   ]
  },
  {
   "cell_type": "code",
   "execution_count": 12,
   "metadata": {},
   "outputs": [],
   "source": [
    "\"\"\" # BEGIN TEST CONFIG\n",
    "failure_message: \"if this test fails your resample_mean values seem to be way off\"\n",
    "\"\"\" # END TEST CONFIG\n",
    "assert 80.0 <= np.mean(resampled_means) <= 99.0"
   ]
  },
  {
   "cell_type": "raw",
   "metadata": {},
   "source": [
    "# END TESTS"
   ]
  },
  {
   "cell_type": "raw",
   "metadata": {},
   "source": [
    "# END QUESTION"
   ]
  },
  {
   "cell_type": "markdown",
   "metadata": {},
   "source": [
    "Take a look at the histogram of the **resampled means**."
   ]
  },
  {
   "cell_type": "code",
   "execution_count": 13,
   "metadata": {},
   "outputs": [
    {
     "data": {
      "image/png": "[encoded data removed]",
      "text/plain": [
       "<Figure size 432x288 with 1 Axes>"
      ]
     },
     "metadata": {},
     "output_type": "display_data"
    }
   ],
   "source": [
    "Table().with_column('Resampled Means', resampled_means).hist()"
   ]
  },
  {
   "cell_type": "markdown",
   "metadata": {},
   "source": [
    "**Question 4**: Compute a 95 percent confidence interval for the average restaurant score using the array `resampled_means`."
   ]
  },
  {
   "cell_type": "raw",
   "metadata": {},
   "source": [
    "# BEGIN QUESTION\n",
    "name: q1.4\n",
    "points: 1"
   ]
  },
  {
   "cell_type": "raw",
   "metadata": {},
   "source": [
    "# BEGIN SOLUTION"
   ]
  },
  {
   "cell_type": "code",
   "execution_count": 14,
   "metadata": {
    "manual_problem_id": "bootstrap_4"
   },
   "outputs": [
    {
     "name": "stdout",
     "output_type": "stream",
     "text": [
      "95% confidence interval for the average restaurant score, computed by bootstrapping:\n",
      "( 88.79 , 92.13 )\n"
     ]
    }
   ],
   "source": [
    "lower_bound = percentile(2.5, resampled_means) # SOLUTION\n",
    "upper_bound = percentile(97.5, resampled_means) # SOLUTION\n",
    "print(\"95% confidence interval for the average restaurant score, computed by bootstrapping:\\n(\",lower_bound, \",\", upper_bound, \")\")"
   ]
  },
  {
   "cell_type": "raw",
   "metadata": {},
   "source": [
    "# END SOLUTION"
   ]
  },
  {
   "cell_type": "raw",
   "metadata": {},
   "source": [
    "# BEGIN TESTS"
   ]
  },
  {
   "cell_type": "code",
   "execution_count": 15,
   "metadata": {},
   "outputs": [],
   "source": [
    "\"\"\" # BEGIN TEST CONFIG\n",
    "failure_message: \"Your values are way off. Are you calculating confidence interval correctly?\"\n",
    "\"\"\" # END TEST CONFIG\n",
    "assert 80.0 <= lower_bound <= upper_bound <= 99.0"
   ]
  },
  {
   "cell_type": "raw",
   "metadata": {},
   "source": [
    "# END TESTS"
   ]
  },
  {
   "cell_type": "raw",
   "metadata": {},
   "source": [
    "# END QUESTION"
   ]
  },
  {
   "cell_type": "markdown",
   "metadata": {},
   "source": [
    "**Question 5**: Does the distribution of the resampled mean scores look normally distributed? State \"yes\" or \"no\" and describe in one sentence why you should expect this result."
   ]
  },
  {
   "cell_type": "raw",
   "metadata": {},
   "source": [
    "# BEGIN QUESTION\n",
    "name: q1.5\n",
    "manual: true"
   ]
  },
  {
   "cell_type": "raw",
   "metadata": {},
   "source": [
    "# BEGIN SOLUTION"
   ]
  },
  {
   "cell_type": "markdown",
   "metadata": {
    "manual_problem_id": "bootstrap_6"
   },
   "source": [
    "Yes"
   ]
  },
  {
   "cell_type": "raw",
   "metadata": {},
   "source": [
    "# END SOLUTION"
   ]
  },
  {
   "cell_type": "raw",
   "metadata": {},
   "source": [
    "# END QUESTION"
   ]
  },
  {
   "cell_type": "markdown",
   "metadata": {},
   "source": [
    "**Question 6:** Does the distribution of the **sample scores** (notice we're no longer talking about the resampled means) look normally distributed? State \"yes\" or \"no\" and describe in one sentence why you should expect this result."
   ]
  },
  {
   "cell_type": "raw",
   "metadata": {},
   "source": [
    "# BEGIN QUESTION\n",
    "name: q1.6\n",
    "manual: true"
   ]
  },
  {
   "cell_type": "raw",
   "metadata": {},
   "source": [
    "# BEGIN SOLUTION"
   ]
  },
  {
   "cell_type": "markdown",
   "metadata": {
    "manual_problem_id": "bootstrap_5"
   },
   "source": [
    "No"
   ]
  },
  {
   "cell_type": "raw",
   "metadata": {},
   "source": [
    "# END SOLUTION"
   ]
  },
  {
   "cell_type": "raw",
   "metadata": {},
   "source": [
    "# END QUESTION"
   ]
  },
  {
   "cell_type": "markdown",
   "metadata": {},
   "source": [
    "For the last question, you'll need to recall two facts.\n",
    "1. If a group of numbers has a normal distribution, around 95% of them lie within 2 standard deviations of their mean.\n",
    "2. The Central Limit Theorem tells us the quantitative relationship between\n",
    "    * the standard deviation of an array of numbers and\n",
    "    * the standard deviation of an array of means of samples taken from those numbers."
   ]
  },
  {
   "cell_type": "markdown",
   "metadata": {},
   "source": [
    "**Question 7:** Without referencing the array `resampled_means` or performing any new simulations, calculate an interval around the `sample_mean` that covers approximately 95% of the numbers in the `resampled_means` array.  **You may use the following values to compute your result, but you should not perform additional resampling** - think about how you can use the CLT to accomplish this."
   ]
  },
  {
   "cell_type": "raw",
   "metadata": {},
   "source": [
    "# BEGIN QUESTION\n",
    "name: q1.7\n",
    "points: 1"
   ]
  },
  {
   "cell_type": "raw",
   "metadata": {},
   "source": [
    "# BEGIN SOLUTION"
   ]
  },
  {
   "cell_type": "code",
   "execution_count": 18,
   "metadata": {
    "for_assignment_type": "student",
    "manual_problem_id": "bootstrap_7"
   },
   "outputs": [
    {
     "name": "stdout",
     "output_type": "stream",
     "text": [
      "95% confidence interval for the average restaurant score, computed by a normal approximation:\n",
      "( 88.82703855394095 , 92.17296144605905 )\n"
     ]
    }
   ],
   "source": [
    "sample_mean = np.mean(restaurant_sample.column(3))\n",
    "sample_sd = np.std(restaurant_sample.column(3))\n",
    "sample_size = restaurant_sample.num_rows\n",
    "\n",
    "lower_bound_normal = sample_mean - 2 * sample_sd / np.sqrt(sample_size) # SOLUTION\n",
    "upper_bound_normal = sample_mean + 2 * sample_sd / np.sqrt(sample_size) # SOLUTION\n",
    "print(\"95% confidence interval for the average restaurant score, computed by a normal approximation:\\n(\",lower_bound_normal, \",\", upper_bound_normal, \")\")"
   ]
  },
  {
   "cell_type": "raw",
   "metadata": {},
   "source": [
    "# END SOLUTION"
   ]
  },
  {
   "cell_type": "raw",
   "metadata": {},
   "source": [
    "# BEGIN TESTS"
   ]
  },
  {
   "cell_type": "code",
   "execution_count": 19,
   "metadata": {},
   "outputs": [],
   "source": [
    "\"\"\" # BEGIN TEST CONFIG\n",
    "failure_message: \"Your values are way off. Are you calculating confidence interval correctly?\"\n",
    "\"\"\" # END TEST CONFIG\n",
    "assert 80.0 <= lower_bound_normal <= upper_bound_normal <= 99.0"
   ]
  },
  {
   "cell_type": "raw",
   "metadata": {},
   "source": [
    "# END TESTS"
   ]
  },
  {
   "cell_type": "raw",
   "metadata": {},
   "source": [
    "# END QUESTION"
   ]
  },
  {
   "cell_type": "markdown",
   "metadata": {},
   "source": [
    "This confidence interval should look very similar to the one you computed in Question 4. If not, try calculating the inner 95 percent using 1.96 standard deviations instead of 2 for a more precise calculation. If they are still very different, there may be an error in your code."
   ]
  },
  {
   "cell_type": "markdown",
   "metadata": {},
   "source": [
    "## 2. Testing the Central Limit Theorem\n"
   ]
  },
  {
   "cell_type": "markdown",
   "metadata": {},
   "source": [
    "The Central Limit Theorem tells us that the probability distribution of the **sum** or **average** of a large random sample drawn with replacement will be roughly normal, *regardless of the distribution of the population from which the sample is drawn*.\n",
    "\n",
    "That's a pretty big claim, but the theorem doesn't stop there. It further states that the standard deviation of this normal distribution is given by \n",
    "\n",
    "$$\\frac{\\texttt{sd of the original distribution}}{\\sqrt{\\texttt{sample size}}}$$ \n",
    "\n",
    "In other words, suppose we start with *any distribution* that has standard deviation $x$, take a sample of size $n$ (where $n$ is a large number) from that distribution with replacement, and compute the **mean** of that sample. If we repeat this procedure many times, then those sample means will have a normal distribution with standard deviation $\\frac{x}{\\sqrt{n}}$.\n",
    "\n",
    "That's an even bigger claim than the first one! The proof of the theorem is beyond the scope of this class, but in this exercise, we will be exploring some data to see the CLT in action."
   ]
  },
  {
   "cell_type": "markdown",
   "metadata": {},
   "source": [
    "**Question 1.** The CLT only applies when sample sizes are \"sufficiently large.\" This isn't a very precise statement. Is 10 large?  How about 50?  The truth is that it depends both on the original population distribution and just how \"normal\" you want the result to look. Let's use a simulation to get a feel for how the distribution of the sample mean changes as sample size goes up.\n",
    "\n",
    "Consider a coin flip. If we say `Heads` is $1$ and `Tails` is $0$, then there's a 50% chance of getting a 1 and a 50% chance of getting a 0, which is definitely not a normal distribution.  The average of several coin tosses, where Heads is 1 and Tails is 0, is equal to the proportion of heads in those coin tosses, so the CLT should apply if we compute the sample proportion of heads many times.\n",
    "\n",
    "Write a function called `simulate_sample_n` that takes in a sample size $n$. It should return an array that contains 5000 sample proportions of heads, each from $n$ coin flips."
   ]
  },
  {
   "cell_type": "raw",
   "metadata": {},
   "source": [
    "# BEGIN QUESTION\n",
    "name: q2.1\n",
    "points: 1"
   ]
  },
  {
   "cell_type": "raw",
   "metadata": {},
   "source": [
    "# BEGIN SOLUTION"
   ]
  },
  {
   "cell_type": "code",
   "execution_count": 20,
   "metadata": {},
   "outputs": [
    {
     "data": {
      "text/plain": [
       "array([0.8, 0.8, 0.6, ..., 0.6, 0.4, 0.2])"
      ]
     },
     "execution_count": 20,
     "metadata": {},
     "output_type": "execute_result"
    }
   ],
   "source": [
    "def sample_size_n(n):\n",
    "    coin_proportions = make_array(.5, .5) # our coin is fair\n",
    "    heads_proportions = make_array()\n",
    "    for i in np.arange(5000):\n",
    "        # BEGIN SOLUTION\n",
    "        simulated_proportions = sample_proportions(n, coin_proportions)\n",
    "        prop_heads = simulated_proportions[0]\n",
    "        heads_proportions = np.append(heads_proportions, prop_heads)\n",
    "        # END SOLUTION\n",
    "    return heads_proportions\n",
    "\n",
    "sample_size_n(5)"
   ]
  },
  {
   "cell_type": "raw",
   "metadata": {},
   "source": [
    "# END SOLUTION"
   ]
  },
  {
   "cell_type": "raw",
   "metadata": {},
   "source": [
    "# BEGIN TESTS"
   ]
  },
  {
   "cell_type": "code",
   "execution_count": 23,
   "metadata": {},
   "outputs": [],
   "source": [
    "\"\"\" # BEGIN TEST CONFIG\n",
    "failure_message: \"sample_size_n should return an array of 5000 proportions\"\n",
    "\"\"\" # END TEST CONFIG\n",
    "assert len(sample_size_n(5)) == 5000\n",
    "assert np.sum(sample_size_n(5) > 1) == 0\n",
    "assert np.sum(sample_size_n(5) < 0) == 0"
   ]
  },
  {
   "cell_type": "raw",
   "metadata": {},
   "source": [
    "# END TESTS"
   ]
  },
  {
   "cell_type": "raw",
   "metadata": {},
   "source": [
    "# END QUESTION"
   ]
  },
  {
   "cell_type": "markdown",
   "metadata": {},
   "source": [
    "This code below will use the function you just defined to plot the empirical distribution of the sample mean for various sample sizes. Change the x value to several different numbers and run the code. The x- and y-scales are kept the same to facilitate comparisons. Notice the shape of the graph as the sample size increases and decreases."
   ]
  },
  {
   "cell_type": "code",
   "execution_count": 30,
   "metadata": {},
   "outputs": [
    {
     "name": "stdout",
     "output_type": "stream",
     "text": [
      "Sample SD: 0.24783550996578357\n"
     ]
    },
    {
     "data": {
      "image/png": "[encoded data removed]",
      "text/plain": [
       "<Figure size 432x288 with 1 Axes>"
      ]
     },
     "metadata": {},
     "output_type": "display_data"
    }
   ],
   "source": [
    "def graph(f, x):\n",
    "    bins = np.arange(-0.01,1.05,0.02)\n",
    "    sample_props = f(x)\n",
    "    Table().with_column('Sample Size: {}'.format(x), sample_props).hist(bins=bins)\n",
    "    plt.ylim(0, 30)\n",
    "    print('Sample SD:', np.std(sample_props))\n",
    "    plt.show()\n",
    "    \n",
    "x = 4   \n",
    "graph(sample_size_n, x)"
   ]
  },
  {
   "cell_type": "markdown",
   "metadata": {},
   "source": [
    "You can see that even the means of samples of 10 items follow a roughly bell-shaped distribution.  A sample of 50 items looks quite bell-shaped."
   ]
  },
  {
   "cell_type": "markdown",
   "metadata": {
    "manual_problem_id": "clt_2"
   },
   "source": [
    "**Question 2:** In the plot for a sample size of 10, why are the bars spaced at intervals of .1, with gaps in between?"
   ]
  },
  {
   "cell_type": "raw",
   "metadata": {},
   "source": [
    "# BEGIN QUESTION\n",
    "name: q2.2\n",
    "manual: true"
   ]
  },
  {
   "cell_type": "raw",
   "metadata": {},
   "source": [
    "# BEGIN SOLUTION"
   ]
  },
  {
   "cell_type": "markdown",
   "metadata": {
    "manual_problem_id": "clt_2"
   },
   "source": [
    "The distance between the bins creates the gaps between the bars."
   ]
  },
  {
   "cell_type": "raw",
   "metadata": {},
   "source": [
    "# END SOLUTION"
   ]
  },
  {
   "cell_type": "raw",
   "metadata": {},
   "source": [
    "# END QUESTION"
   ]
  },
  {
   "cell_type": "markdown",
   "metadata": {},
   "source": [
    "Now we will test the second claim of the CLT: That the SD of the sample mean is the SD of the original distribution, divided by the square root of the sample size.\n",
    "\n",
    "We have imported the flight delay data and computed its standard deviation for you."
   ]
  },
  {
   "cell_type": "code",
   "execution_count": 31,
   "metadata": {},
   "outputs": [
    {
     "data": {
      "text/plain": [
       "39.480199851609314"
      ]
     },
     "execution_count": 31,
     "metadata": {},
     "output_type": "execute_result"
    }
   ],
   "source": [
    "united = Table.read_table('united_summer2015.csv')\n",
    "united_std = np.std(united.column('Delay'))\n",
    "united_std"
   ]
  },
  {
   "cell_type": "markdown",
   "metadata": {},
   "source": [
    "**Question 3:** Write a function called `empirical_sample_mean_sd` that takes a sample size `n` as its argument. The function should simulate 500 samples with replacemnt of size `n` from the flight delays dataset, and it should return the standard deviation of the **means of those 500 samples**.\n",
    "\n",
    "*Hint:* This function will be similar to the `sample_size_n` function you wrote earlier."
   ]
  },
  {
   "cell_type": "raw",
   "metadata": {},
   "source": [
    "# BEGIN QUESTION\n",
    "name: q2.3\n",
    "points: 1"
   ]
  },
  {
   "cell_type": "raw",
   "metadata": {},
   "source": [
    "# BEGIN SOLUTION"
   ]
  },
  {
   "cell_type": "code",
   "execution_count": 39,
   "metadata": {},
   "outputs": [
    {
     "data": {
      "text/plain": [
       "11.982901984077145"
      ]
     },
     "execution_count": 39,
     "metadata": {},
     "output_type": "execute_result"
    }
   ],
   "source": [
    "def empirical_sample_mean_sd(n):\n",
    "    sample_means = make_array()\n",
    "    for i in np.arange(500):\n",
    "        # BEGIN SOLUTION\n",
    "        sample = united.sample(n).column('Delay')\n",
    "        sample_mean = np.mean(sample)\n",
    "        sample_means = np.append(sample_means, sample_mean)\n",
    "        # END SOLUTION\n",
    "        \n",
    "        std = np.std(sample_means) # SOLUTION\n",
    "    return std\n",
    "\n",
    "empirical_sample_mean_sd(10)"
   ]
  },
  {
   "cell_type": "raw",
   "metadata": {},
   "source": [
    "# END SOLUTION"
   ]
  },
  {
   "cell_type": "raw",
   "metadata": {},
   "source": [
    "# BEGIN TESTS"
   ]
  },
  {
   "cell_type": "code",
   "execution_count": 40,
   "metadata": {},
   "outputs": [],
   "source": [
    "\"\"\" # BEGIN TEST CONFIG\n",
    "failure_message: \"Check the logic of your function. This value is way off\"\n",
    "\"\"\" # END TEST CONFIG\n",
    "assert 11 <= empirical_sample_mean_sd(10) <= 15"
   ]
  },
  {
   "cell_type": "raw",
   "metadata": {},
   "source": [
    "# END TESTS"
   ]
  },
  {
   "cell_type": "raw",
   "metadata": {},
   "source": [
    "# END QUESTION"
   ]
  },
  {
   "cell_type": "markdown",
   "metadata": {},
   "source": [
    "**Question 4:** Now, write a function called `predict_sample_mean_sd` to find the predicted value of the standard deviation of means according to the relationship between the standard deviation of the sample mean and sample size that is discussed [here](https://umass-data-science.github.io/190fwebsite/textbook/14/5/variability-of-the-sample-mean/) in the textbook. It takes a sample size `n` (a number) as its argument.  It returns the predicted value of the standard deviation of the mean delay time for samples of size `n` from the flight delays (represented in the table `united`)."
   ]
  },
  {
   "cell_type": "raw",
   "metadata": {},
   "source": [
    "# BEGIN QUESTION\n",
    "name: q2.4\n",
    "points: 1"
   ]
  },
  {
   "cell_type": "raw",
   "metadata": {},
   "source": [
    "# BEGIN SOLUTION"
   ]
  },
  {
   "cell_type": "code",
   "execution_count": 47,
   "metadata": {},
   "outputs": [
    {
     "data": {
      "text/plain": [
       "12.484735400972708"
      ]
     },
     "execution_count": 47,
     "metadata": {},
     "output_type": "execute_result"
    }
   ],
   "source": [
    "#Using the CLT this should be 1 line of code\n",
    "def predict_sample_mean_sd(n):\n",
    "    return united_std / np.sqrt(n) # SOLUTION\n",
    "\n",
    "predict_sample_mean_sd(10)"
   ]
  },
  {
   "cell_type": "raw",
   "metadata": {},
   "source": [
    "# END SOLUTION"
   ]
  },
  {
   "cell_type": "raw",
   "metadata": {},
   "source": [
    "# BEGIN TESTS"
   ]
  },
  {
   "cell_type": "code",
   "execution_count": 48,
   "metadata": {},
   "outputs": [],
   "source": [
    "\"\"\" # BEGIN TEST CONFIG\n",
    "failure_message: \"\"\n",
    "\"\"\" # END TEST CONFIG\n",
    "assert 11 <= predict_sample_mean_sd(10) <= 15"
   ]
  },
  {
   "cell_type": "raw",
   "metadata": {},
   "source": [
    "# END TESTS"
   ]
  },
  {
   "cell_type": "raw",
   "metadata": {},
   "source": [
    "# END QUESTION"
   ]
  },
  {
   "cell_type": "markdown",
   "metadata": {},
   "source": [
    "The cell below will plot the predicted and empirical SDs for the delay data for various sample sizes."
   ]
  },
  {
   "cell_type": "code",
   "execution_count": 49,
   "metadata": {
    "editable": false
   },
   "outputs": [
    {
     "data": {
      "image/png": "[encoded data removed]",
      "text/plain": [
       "<Figure size 360x360 with 1 Axes>"
      ]
     },
     "metadata": {},
     "output_type": "display_data"
    }
   ],
   "source": [
    "sd_table = Table().with_column('Sample Size', np.arange(1,101))\n",
    "predicted = sd_table.apply(predict_sample_mean_sd, 'Sample Size')\n",
    "empirical = sd_table.apply(empirical_sample_mean_sd, 'Sample Size')\n",
    "sd_table = sd_table.with_columns('Predicted SD', predicted, 'Empirical SD', empirical)\n",
    "sd_table.scatter('Sample Size')"
   ]
  },
  {
   "cell_type": "markdown",
   "metadata": {},
   "source": [
    "**Question 5:** Do our predicted and empirical values match? Why is this the case?"
   ]
  },
  {
   "cell_type": "raw",
   "metadata": {},
   "source": [
    "# BEGIN QUESTION\n",
    "name: q2.5\n",
    "manual: true"
   ]
  },
  {
   "cell_type": "raw",
   "metadata": {},
   "source": [
    "# BEGIN SOLUTION"
   ]
  },
  {
   "cell_type": "markdown",
   "metadata": {
    "manual_problem_id": "clt_5"
   },
   "source": [
    "Yes."
   ]
  },
  {
   "cell_type": "raw",
   "metadata": {},
   "source": [
    "# END SOLUTION"
   ]
  },
  {
   "cell_type": "raw",
   "metadata": {},
   "source": [
    "# END QUESTION"
   ]
  }
 ],
 "metadata": {
  "kernelspec": {
   "display_name": "Python 3",
   "language": "python",
   "name": "python3"
  },
  "language_info": {
   "codemirror_mode": {
    "name": "ipython",
    "version": 3
   },
   "file_extension": ".py",
   "mimetype": "text/x-python",
   "name": "python",
   "nbconvert_exporter": "python",
   "pygments_lexer": "ipython3",
   "version": "3.7.3"
  }
 },
 "nbformat": 4,
 "nbformat_minor": 4
}
