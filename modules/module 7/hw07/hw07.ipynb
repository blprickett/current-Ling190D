{
 "cells": [
  {
   "cell_type": "markdown",
   "id": "581c85b8",
   "metadata": {},
   "source": [
    "# Homework 7: Confidence Intervals"
   ]
  },
  {
   "cell_type": "markdown",
   "id": "bbd63aa5",
   "metadata": {},
   "source": [
    "**Reading**: Textbook chapter [13](https://umass-data-science.github.io/190fwebsite/textbook/13/estimation/)."
   ]
  },
  {
   "cell_type": "markdown",
   "id": "b5a3cbf5",
   "metadata": {},
   "source": [
    "Please complete this notebook by filling in the cells provided. Before you begin, execute the following cell to load the provided tests. Each time you start your server, you will need to execute this cell again to load the tests.\n",
    "\n",
    "Homework 8 is due **Monday, 11/08 at 2:30pm**. Start early so that you can come to office hours if you're stuck. Check the website for the office hours schedule. \n",
    "\n",
    "Directly sharing answers is not okay, but discussing problems with the course staff or with other students is encouraged. Refer to the policies page to learn more about how to learn cooperatively.\n",
    "\n",
    "For all problems that you must write out explanations and sentences for, you **must** provide your answer in the designated space. Moreover, throughout this homework and all future ones, please be sure to not re-assign variables throughout the notebook! For example, if you use `max_temperature` in your answer to one question, do not reassign it later on."
   ]
  },
  {
   "cell_type": "code",
   "execution_count": null,
   "id": "1f363228",
   "metadata": {},
   "outputs": [],
   "source": [
    "!pip install otter-grader\n",
    "!pip install datascience"
   ]
  },
  {
   "cell_type": "code",
   "execution_count": 37,
   "id": "c5f322d5",
   "metadata": {},
   "outputs": [],
   "source": [
    "import numpy as np\n",
    "from datascience import *\n",
    "\n",
    "# These lines do some fancy plotting magic.\\n\",\n",
    "import matplotlib\n",
    "%matplotlib inline\n",
    "import matplotlib.pyplot as plots\n",
    "plots.style.use('fivethirtyeight')\n",
    "\n",
    "import warnings\n",
    "warnings.filterwarnings('ignore')\n",
    "\n",
    "import otter\n",
    "grader = otter.Notebook()"
   ]
  },
  {
   "cell_type": "markdown",
   "id": "f2899aae",
   "metadata": {},
   "source": [
    "## 1. Plot the Vote\n"
   ]
  },
  {
   "cell_type": "markdown",
   "id": "1f525a84",
   "metadata": {},
   "source": [
    "Four candidates are running for President of Dataland. A polling company surveys 1000 people selected uniformly at random from among voters in Dataland, and it asks each one who they are planning on voting for. After compiling the results, the polling company releases the following proportions from their sample:\n",
    "\n",
    "|Candidate  | Proportion|\n",
    "|:------------:|:------------:|\n",
    "|Candidate C | 0.47 |\n",
    "|Candidate T | 0.38 |\n",
    "|Candidate J | 0.08 |\n",
    "|Candidate S | 0.03 |\n",
    "|Undecided   | 0.04 |\n",
    "\n",
    "These proportions represent a uniform random sample of the population of Dataland. We will attempt to estimate the corresponding *population parameters* - the proportion of the vote that each candidate received from the entire population.  We will use confidence intervals to compute a range of values that reflects the uncertainty of our estimate.\n",
    "\n",
    "The table `votes` contains the results of the survey. Candidates are represented by their initials. Undecided voters are denoted by `U`."
   ]
  },
  {
   "cell_type": "code",
   "execution_count": 38,
   "id": "ab9bc97a",
   "metadata": {},
   "outputs": [],
   "source": [
    "votes = Table().with_column('vote', np.array(['C']*470 + ['T']*380 + ['J']*80 + ['S']*30 + ['U']*40))\n",
    "num_votes = votes.num_rows\n",
    "votes.sample()"
   ]
  },
  {
   "cell_type": "markdown",
   "id": "1ab5bd72",
   "metadata": {},
   "source": [
    "**Question 1.** Below, complete the given  code that will use 5000 different bootstrapped samples from `votes` to compute estimates of the true proportion of voters who are planning on voting for **Candidate C**. Make sure that you understand what's going on here. It may be helpful to explain `proportions_in_resamples` to a friend or TA.\n",
    "\n",
    "*Hint:* Go back and read this part of chapter 13 https://umass-data-science.github.io/190fwebsite/textbook/13/2/bootstrap/"
   ]
  },
  {
   "cell_type": "code",
   "execution_count": 39,
   "id": "71af38a0",
   "metadata": {
    "for_assignment_type": "student",
    "tags": []
   },
   "outputs": [],
   "source": [
    "def proportions_in_resamples(votes):\n",
    "    prop_c = make_array()\n",
    "    for i in np.arange(5000):\n",
    "        #bootstrap should be an array of 1000 randomly sampled values from votes\n",
    "        bootstrap = ...\n",
    "        bootstrap = bootstrap[\"vote\"]\n",
    "        single_proportion = np.count_nonzero(bootstrap == 'C') / len(bootstrap)\n",
    "        prop_c = np.append(prop_c, single_proportion)\n",
    "    return prop_c\n",
    "\n",
    "proportions_in_resamples(votes)"
   ]
  },
  {
   "cell_type": "code",
   "execution_count": null,
   "id": "358d3a64",
   "metadata": {
    "deletable": false,
    "editable": false
   },
   "outputs": [],
   "source": [
    "grader.check(\"q1.1\")"
   ]
  },
  {
   "cell_type": "markdown",
   "id": "f7321388",
   "metadata": {},
   "source": [
    "In the following cell, we run the function you just defined, `proportions_in_resamples`, and create a histogram of the calculated statistic for the 5,000 bootstraps. Based on what the original polling proportions were, does the graph seem reasonable? Talk to a friend or ask a TA if you are unsure!"
   ]
  },
  {
   "cell_type": "code",
   "execution_count": 42,
   "id": "89474792",
   "metadata": {},
   "outputs": [],
   "source": [
    "sampled_proportions = proportions_in_resamples(votes)\n",
    "Table().with_column('Estimated Proportion', sampled_proportions).hist(bins=np.arange(0.2,0.6,0.01))"
   ]
  },
  {
   "cell_type": "markdown",
   "id": "bf253980",
   "metadata": {},
   "source": [
    "**Question 2.** Using the array `sampled_proportions`, find the values that bound the middle 95% of the values in the data. (Compute the lower and upper ends of the interval, named `c_lower_bound` and `c_upper_bound`, respectively.) *Hint:* Use the percentile function https://umass-data-science.github.io/190fwebsite/resources/"
   ]
  },
  {
   "cell_type": "code",
   "execution_count": 50,
   "id": "fa38616b",
   "metadata": {
    "tags": []
   },
   "outputs": [],
   "source": [
    "c_lower_bound = ...\n",
    "c_upper_bound = ...\n",
    "print(\"Bootstrapped 95% confidence interval for the proportion of C voters in the population: [{:f}, {:f}]\".format(c_lower_bound, c_upper_bound))"
   ]
  },
  {
   "cell_type": "code",
   "execution_count": null,
   "id": "9925f630",
   "metadata": {
    "deletable": false,
    "editable": false
   },
   "outputs": [],
   "source": [
    "grader.check(\"q1.2\")"
   ]
  },
  {
   "cell_type": "markdown",
   "id": "2225b4ea",
   "metadata": {},
   "source": [
    "**Question 3.** What does the interval you have just found represent?"
   ]
  },
  {
   "cell_type": "markdown",
   "id": "c81d2170",
   "metadata": {},
   "source": [
    "_Type your answer here, replacing this text._"
   ]
  },
  {
   "cell_type": "markdown",
   "id": "11ed1b99",
   "metadata": {},
   "source": [
    "<!-- END QUESTION -->\n",
    "\n",
    "**Question 4.** The survey results seem to indicate that Candidate C is beating Candidate T among voters. We would like to use CI's to determine a range of likely values for her true *lead*. Candidate C's lead over Candidate T is:\n",
    "\n",
    "$$\\text{Candidate C's proportion of the vote} - \\text{Candidate T's proportion of the vote}.$$\n",
    "\n",
    "Using the function `proportions_in_resamples` above as a model, use the bootstrap to compute an approximate distribution for Candidate C's lead over Candidate T. Plot a histogram of the the resulting samples."
   ]
  },
  {
   "cell_type": "code",
   "execution_count": 47,
   "id": "210afb7a",
   "metadata": {
    "for_assignment_type": "student",
    "manual_problem_id": "election_4",
    "tags": []
   },
   "outputs": [],
   "source": [
    "bins = np.arange(-0.2,0.2,0.01)\n",
    "\n",
    "def c_lead_in_resamples(votes):\n",
    "    leads = make_array()\n",
    "    for i in np.arange(5000):\n",
    "        ...\n",
    "    return leads\n",
    "\n",
    "sampled_leads = c_lead_in_resamples(votes)\n",
    "Table().with_column('Estimated Lead', sampled_leads).hist(bins=bins)"
   ]
  },
  {
   "cell_type": "code",
   "execution_count": 48,
   "id": "f2b9f311",
   "metadata": {
    "tags": []
   },
   "outputs": [],
   "source": [
    "diff_lower_bound = ...\n",
    "diff_upper_bound = ...\n",
    "print(\"Bootstrapped 95% confidence interval for Candidate C's true lead over Candidate T: [{:f}, {:f}]\".format(diff_lower_bound, diff_upper_bound))"
   ]
  },
  {
   "cell_type": "code",
   "execution_count": null,
   "id": "4ffc18f2",
   "metadata": {
    "deletable": false,
    "editable": false
   },
   "outputs": [],
   "source": [
    "grader.check(\"q1.4\")"
   ]
  },
  {
   "cell_type": "markdown",
   "id": "89ace94e",
   "metadata": {},
   "source": [
    "## 2. Interpreting Confidence Intervals\n"
   ]
  },
  {
   "cell_type": "markdown",
   "id": "ad78208a",
   "metadata": {},
   "source": [
    "The staff computed the following 95% confidence interval for the proportion of Candidate C voters: \n",
    "\n",
    "$$[.439, .5]$$\n",
    "\n",
    "(Your answer might have been different; that doesn't mean it was wrong.)"
   ]
  },
  {
   "cell_type": "markdown",
   "id": "37315562",
   "metadata": {
    "tags": []
   },
   "source": [
    "**Question 1**\n",
    "Can we say that 95% of the population lies in the range $[.439, .5]$? Explain your answer. "
   ]
  },
  {
   "cell_type": "markdown",
   "id": "f6b395b4",
   "metadata": {},
   "source": [
    "_Type your answer here, replacing this text._"
   ]
  },
  {
   "cell_type": "markdown",
   "id": "b122b8ab",
   "metadata": {},
   "source": [
    "<!-- END QUESTION -->\n",
    "\n",
    "**Question 2**\n",
    "Can we say that there is a 95% probability that the interval [.439, .5] contains the true proportion of the population who is voting for Candidate C? Explain your answer."
   ]
  },
  {
   "cell_type": "markdown",
   "id": "6baba89f",
   "metadata": {},
   "source": [
    "_Type your answer here, replacing this text._"
   ]
  },
  {
   "cell_type": "markdown",
   "id": "5f30a432",
   "metadata": {
    "jp-MarkdownHeadingCollapsed": true,
    "tags": []
   },
   "source": [
    "<!-- END QUESTION -->\n",
    "\n",
    "**Question 3**\n",
    "Suppose we produced 10,000 new samples (each one a uniform random sample of 1,000 voters) and created a 95% confidence interval from each one. Roughly how many of those 10,000 intervals do you expect will actually contain the true proportion of the population?"
   ]
  },
  {
   "cell_type": "markdown",
   "id": "5e4d22b3",
   "metadata": {},
   "source": [
    "_Type your answer here, replacing this text._"
   ]
  },
  {
   "cell_type": "markdown",
   "id": "a0238d8c",
   "metadata": {},
   "source": [
    "<!-- END QUESTION -->\n",
    "\n",
    "**Question 4** The staff also created 80%, 90%, and 99% confidence intervals from one sample, but we forgot to label which confidence interval represented which percentages! Match the interval to the percent of confidence the interval represents. (Write the percentage after each interval below.) **Then**, explain your thought process."
   ]
  },
  {
   "cell_type": "markdown",
   "id": "18af5303",
   "metadata": {},
   "source": [
    "<!-- BEGIN QUESTION -->\n",
    "\n",
    "$[.444,.495]$:\n",
    "\n",
    "$[.450,.490]$:\n",
    "\n",
    "$[.430,.511]$:"
   ]
  },
  {
   "cell_type": "markdown",
   "id": "52c8a8cf",
   "metadata": {
    "jp-MarkdownHeadingCollapsed": true,
    "tags": []
   },
   "source": [
    "<!-- END QUESTION -->\n",
    "\n",
    "Recall the second bootstrap confidence interval you created, estimating Candidate C's lead over Candidate T. Among voters in the sample, her lead was .09. The staff's 95% confidence interval for her true lead (in the population of all voters) was\n",
    "\n",
    "$$[.032,.15].$$\n",
    "\n",
    "Suppose we are interested in testing a simple yes-or-no question:\n",
    "\n",
    "> \"Are the candidates tied?\"\n",
    "\n",
    "Our null hypothesis is that the proportions are equal, or, equivalently, that Candidate C's lead is exactly 0. Our alternative hypothesis is that her lead is not equal to 0.  In the questions below, don't compute any confidence interval yourself - use only the staff's 95% confidence interval.\n",
    "\n",
    "\n",
    "****Question 5** :** Say we use a 5% P-value cutoff.  Do we reject the null, fail to reject the null, or are we unable to tell using our staff confidence interval?\n",
    "\n",
    "*Hint:* If you're confused, take a look at [this chapter](https://umass-data-science.github.io/190fwebsite/textbook/13/4/using-confidence-intervals/) of the textbook."
   ]
  },
  {
   "cell_type": "markdown",
   "id": "0739ed9c",
   "metadata": {},
   "source": [
    "_Type your answer here, replacing this text._"
   ]
  },
  {
   "cell_type": "markdown",
   "id": "16079fef",
   "metadata": {
    "jp-MarkdownHeadingCollapsed": true,
    "tags": []
   },
   "source": [
    "<!-- END QUESTION -->\n",
    "\n",
    "**Question 6** What if, instead, we use a P-value cutoff of 1%? Do we reject the null, fail to reject the null, or are we unable to tell using our staff confidence interval?"
   ]
  },
  {
   "cell_type": "markdown",
   "id": "968faef7",
   "metadata": {},
   "source": [
    "_Type your answer here, replacing this text._"
   ]
  },
  {
   "cell_type": "markdown",
   "id": "3af59261",
   "metadata": {},
   "source": [
    "<!-- END QUESTION -->\n",
    "\n",
    "**Question 7** What if we use a P-value cutoff of 10%? Do we reject, fail to reject, or are we unable to tell using our confidence interval?"
   ]
  },
  {
   "cell_type": "markdown",
   "id": "311642e0",
   "metadata": {},
   "source": [
    "_Type your answer here, replacing this text._"
   ]
  },
  {
   "cell_type": "markdown",
   "id": "a11fe445",
   "metadata": {},
   "source": [
    "<!-- END QUESTION -->\n",
    "\n"
   ]
  },
  {
   "cell_type": "markdown",
   "id": "45d2e69c",
   "metadata": {
    "deletable": false,
    "editable": false
   },
   "source": [
    "---\n",
    "\n",
    "To double-check your work, the cell below will rerun all of the autograder tests."
   ]
  },
  {
   "cell_type": "code",
   "execution_count": null,
   "id": "c32814ff",
   "metadata": {
    "deletable": false,
    "editable": false
   },
   "outputs": [],
   "source": [
    "grader.check_all()"
   ]
  }
 ],
 "metadata": {
  "kernelspec": {
   "display_name": "Python 3.9.6 64-bit ('190F_autograder': conda)",
   "language": "python",
   "name": "python39664bit190fautogradercondaef5a7a72d113474e81ccd751d5d8fdfb"
  },
  "language_info": {
   "codemirror_mode": {
    "name": "ipython",
    "version": 3
   },
   "file_extension": ".py",
   "mimetype": "text/x-python",
   "name": "python",
   "nbconvert_exporter": "python",
   "pygments_lexer": "ipython3",
   "version": "3.9.6"
  },
  "otter": {
   "tests": {
    "q1.1": {
     "name": "q1.1",
     "points": 1,
     "suites": [
      {
       "cases": [
        {
         "code": ">>> assert max(proportions_in_resamples(votes)) <= 1\n>>> assert min(proportions_in_resamples(votes)) >= 0\n",
         "failure_message": "proportions_in_resamples should return an array of 5000 proportions",
         "hidden": false,
         "locked": false
        }
       ],
       "scored": true,
       "setup": "",
       "teardown": "",
       "type": "doctest"
      }
     ]
    },
    "q1.2": {
     "name": "q1.2",
     "points": 1,
     "suites": [
      {
       "cases": [
        {
         "code": ">>> assert 0.35 <= c_lower_bound <= c_upper_bound <= 0.60\n",
         "failure_message": "If this check fails make sure you are checking the confidence interval correctly and that your proportions_in_resamples() function works as intended ",
         "hidden": false,
         "locked": false
        }
       ],
       "scored": true,
       "setup": "",
       "teardown": "",
       "type": "doctest"
      }
     ]
    },
    "q1.4": {
     "name": "q1.4",
     "points": 1,
     "suites": [
      {
       "cases": [
        {
         "code": ">>> assert max(sampled_leads) <= 1\n>>> assert min(sampled_leads) >= -1\n>>> assert -1 <= diff_lower_bound <= diff_upper_bound <= 1\n",
         "failure_message": "If this check fails make sure you are checking the confidence interval correctly and that your c_lead_in_resamples() function works as intended ",
         "hidden": false,
         "locked": false
        }
       ],
       "scored": true,
       "setup": "",
       "teardown": "",
       "type": "doctest"
      }
     ]
    }
   }
  }
 },
 "nbformat": 4,
 "nbformat_minor": 5
}
