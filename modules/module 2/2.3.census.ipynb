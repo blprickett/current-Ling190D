{
 "cells": [
  {
   "cell_type": "code",
   "execution_count": 2,
   "metadata": {},
   "outputs": [],
   "source": [
    "from datascience import *\n",
    "import numpy as np\n",
    "\n",
    "%matplotlib inline\n",
    "import matplotlib.pyplot as plots\n",
    "plots.style.use('fivethirtyeight')"
   ]
  },
  {
   "cell_type": "markdown",
   "metadata": {},
   "source": [
    "## Lecture 4, Part 2: Census ##"
   ]
  },
  {
   "cell_type": "code",
   "execution_count": 4,
   "metadata": {},
   "outputs": [
    {
     "data": {
      "text/html": [
       "<table border=\"1\" class=\"dataframe\">\n",
       "    <thead>\n",
       "        <tr>\n",
       "            <th>SEX</th> <th>AGE</th> <th>CENSUS2010POP</th> <th>ESTIMATESBASE2010</th> <th>POPESTIMATE2010</th> <th>POPESTIMATE2011</th> <th>POPESTIMATE2012</th> <th>POPESTIMATE2013</th> <th>POPESTIMATE2014</th>\n",
       "        </tr>\n",
       "    </thead>\n",
       "    <tbody>\n",
       "        <tr>\n",
       "            <td>0   </td> <td>0   </td> <td>3944153      </td> <td>3944160          </td> <td>3951330        </td> <td>3963071        </td> <td>3926665        </td> <td>3945610        </td> <td>3948350        </td>\n",
       "        </tr>\n",
       "        <tr>\n",
       "            <td>0   </td> <td>1   </td> <td>3978070      </td> <td>3978090          </td> <td>3957888        </td> <td>3966510        </td> <td>3978006        </td> <td>3943077        </td> <td>3962123        </td>\n",
       "        </tr>\n",
       "        <tr>\n",
       "            <td>0   </td> <td>2   </td> <td>4096929      </td> <td>4096939          </td> <td>4090862        </td> <td>3971573        </td> <td>3979952        </td> <td>3992690        </td> <td>3957772        </td>\n",
       "        </tr>\n",
       "        <tr>\n",
       "            <td>0   </td> <td>3   </td> <td>4119040      </td> <td>4119051          </td> <td>4111920        </td> <td>4102501        </td> <td>3983049        </td> <td>3992425        </td> <td>4005190        </td>\n",
       "        </tr>\n",
       "        <tr>\n",
       "            <td>0   </td> <td>4   </td> <td>4063170      </td> <td>4063186          </td> <td>4077552        </td> <td>4122303        </td> <td>4112638        </td> <td>3994047        </td> <td>4003448        </td>\n",
       "        </tr>\n",
       "        <tr>\n",
       "            <td>0   </td> <td>5   </td> <td>4056858      </td> <td>4056872          </td> <td>4064653        </td> <td>4087713        </td> <td>4132210        </td> <td>4123408        </td> <td>4004858        </td>\n",
       "        </tr>\n",
       "        <tr>\n",
       "            <td>0   </td> <td>6   </td> <td>4066381      </td> <td>4066412          </td> <td>4073013        </td> <td>4074979        </td> <td>4097780        </td> <td>4143094        </td> <td>4134352        </td>\n",
       "        </tr>\n",
       "        <tr>\n",
       "            <td>0   </td> <td>7   </td> <td>4030579      </td> <td>4030594          </td> <td>4043047        </td> <td>4083240        </td> <td>4084964        </td> <td>4108615        </td> <td>4154000        </td>\n",
       "        </tr>\n",
       "        <tr>\n",
       "            <td>0   </td> <td>8   </td> <td>4046486      </td> <td>4046497          </td> <td>4025604        </td> <td>4053206        </td> <td>4093213        </td> <td>4095827        </td> <td>4119524        </td>\n",
       "        </tr>\n",
       "        <tr>\n",
       "            <td>0   </td> <td>9   </td> <td>4148353      </td> <td>4148369          </td> <td>4125415        </td> <td>4035769        </td> <td>4063193        </td> <td>4104133        </td> <td>4106832        </td>\n",
       "        </tr>\n",
       "    </tbody>\n",
       "</table>\n",
       "<p>... (296 rows omitted)</p>"
      ],
      "text/plain": [
       "SEX  | AGE  | CENSUS2010POP | ESTIMATESBASE2010 | POPESTIMATE2010 | POPESTIMATE2011 | POPESTIMATE2012 | POPESTIMATE2013 | POPESTIMATE2014\n",
       "0    | 0    | 3944153       | 3944160           | 3951330         | 3963071         | 3926665         | 3945610         | 3948350\n",
       "0    | 1    | 3978070       | 3978090           | 3957888         | 3966510         | 3978006         | 3943077         | 3962123\n",
       "0    | 2    | 4096929       | 4096939           | 4090862         | 3971573         | 3979952         | 3992690         | 3957772\n",
       "0    | 3    | 4119040       | 4119051           | 4111920         | 4102501         | 3983049         | 3992425         | 4005190\n",
       "0    | 4    | 4063170       | 4063186           | 4077552         | 4122303         | 4112638         | 3994047         | 4003448\n",
       "0    | 5    | 4056858       | 4056872           | 4064653         | 4087713         | 4132210         | 4123408         | 4004858\n",
       "0    | 6    | 4066381       | 4066412           | 4073013         | 4074979         | 4097780         | 4143094         | 4134352\n",
       "0    | 7    | 4030579       | 4030594           | 4043047         | 4083240         | 4084964         | 4108615         | 4154000\n",
       "0    | 8    | 4046486       | 4046497           | 4025604         | 4053206         | 4093213         | 4095827         | 4119524\n",
       "0    | 9    | 4148353       | 4148369           | 4125415         | 4035769         | 4063193         | 4104133         | 4106832\n",
       "... (296 rows omitted)"
      ]
     },
     "execution_count": 4,
     "metadata": {},
     "output_type": "execute_result"
    }
   ],
   "source": [
    "full = Table.read_table('nc-est2014-agesex-res.csv')\n",
    "full"
   ]
  },
  {
   "cell_type": "code",
   "execution_count": 5,
   "metadata": {},
   "outputs": [
    {
     "data": {
      "text/html": [
       "<table border=\"1\" class=\"dataframe\">\n",
       "    <thead>\n",
       "        <tr>\n",
       "            <th>SEX</th> <th>AGE</th> <th>POPESTIMATE2010</th> <th>POPESTIMATE2014</th>\n",
       "        </tr>\n",
       "    </thead>\n",
       "    <tbody>\n",
       "        <tr>\n",
       "            <td>0   </td> <td>0   </td> <td>3951330        </td> <td>3948350        </td>\n",
       "        </tr>\n",
       "        <tr>\n",
       "            <td>0   </td> <td>1   </td> <td>3957888        </td> <td>3962123        </td>\n",
       "        </tr>\n",
       "        <tr>\n",
       "            <td>0   </td> <td>2   </td> <td>4090862        </td> <td>3957772        </td>\n",
       "        </tr>\n",
       "        <tr>\n",
       "            <td>0   </td> <td>3   </td> <td>4111920        </td> <td>4005190        </td>\n",
       "        </tr>\n",
       "        <tr>\n",
       "            <td>0   </td> <td>4   </td> <td>4077552        </td> <td>4003448        </td>\n",
       "        </tr>\n",
       "        <tr>\n",
       "            <td>0   </td> <td>5   </td> <td>4064653        </td> <td>4004858        </td>\n",
       "        </tr>\n",
       "        <tr>\n",
       "            <td>0   </td> <td>6   </td> <td>4073013        </td> <td>4134352        </td>\n",
       "        </tr>\n",
       "        <tr>\n",
       "            <td>0   </td> <td>7   </td> <td>4043047        </td> <td>4154000        </td>\n",
       "        </tr>\n",
       "        <tr>\n",
       "            <td>0   </td> <td>8   </td> <td>4025604        </td> <td>4119524        </td>\n",
       "        </tr>\n",
       "        <tr>\n",
       "            <td>0   </td> <td>9   </td> <td>4125415        </td> <td>4106832        </td>\n",
       "        </tr>\n",
       "    </tbody>\n",
       "</table>\n",
       "<p>... (296 rows omitted)</p>"
      ],
      "text/plain": [
       "SEX  | AGE  | POPESTIMATE2010 | POPESTIMATE2014\n",
       "0    | 0    | 3951330         | 3948350\n",
       "0    | 1    | 3957888         | 3962123\n",
       "0    | 2    | 4090862         | 3957772\n",
       "0    | 3    | 4111920         | 4005190\n",
       "0    | 4    | 4077552         | 4003448\n",
       "0    | 5    | 4064653         | 4004858\n",
       "0    | 6    | 4073013         | 4134352\n",
       "0    | 7    | 4043047         | 4154000\n",
       "0    | 8    | 4025604         | 4119524\n",
       "0    | 9    | 4125415         | 4106832\n",
       "... (296 rows omitted)"
      ]
     },
     "execution_count": 5,
     "metadata": {},
     "output_type": "execute_result"
    }
   ],
   "source": [
    "partial = full.select('SEX', 'AGE', \"POPESTIMATE2010\", \"POPESTIMATE2014\")\n",
    "partial"
   ]
  },
  {
   "cell_type": "code",
   "execution_count": 6,
   "metadata": {},
   "outputs": [
    {
     "data": {
      "text/html": [
       "<table border=\"1\" class=\"dataframe\">\n",
       "    <thead>\n",
       "        <tr>\n",
       "            <th>SEX</th> <th>AGE</th> <th>2010</th> <th>2014</th>\n",
       "        </tr>\n",
       "    </thead>\n",
       "    <tbody>\n",
       "        <tr>\n",
       "            <td>0   </td> <td>0   </td> <td>3951330</td> <td>3948350</td>\n",
       "        </tr>\n",
       "        <tr>\n",
       "            <td>0   </td> <td>1   </td> <td>3957888</td> <td>3962123</td>\n",
       "        </tr>\n",
       "        <tr>\n",
       "            <td>0   </td> <td>2   </td> <td>4090862</td> <td>3957772</td>\n",
       "        </tr>\n",
       "        <tr>\n",
       "            <td>0   </td> <td>3   </td> <td>4111920</td> <td>4005190</td>\n",
       "        </tr>\n",
       "        <tr>\n",
       "            <td>0   </td> <td>4   </td> <td>4077552</td> <td>4003448</td>\n",
       "        </tr>\n",
       "        <tr>\n",
       "            <td>0   </td> <td>5   </td> <td>4064653</td> <td>4004858</td>\n",
       "        </tr>\n",
       "        <tr>\n",
       "            <td>0   </td> <td>6   </td> <td>4073013</td> <td>4134352</td>\n",
       "        </tr>\n",
       "        <tr>\n",
       "            <td>0   </td> <td>7   </td> <td>4043047</td> <td>4154000</td>\n",
       "        </tr>\n",
       "        <tr>\n",
       "            <td>0   </td> <td>8   </td> <td>4025604</td> <td>4119524</td>\n",
       "        </tr>\n",
       "        <tr>\n",
       "            <td>0   </td> <td>9   </td> <td>4125415</td> <td>4106832</td>\n",
       "        </tr>\n",
       "    </tbody>\n",
       "</table>\n",
       "<p>... (296 rows omitted)</p>"
      ],
      "text/plain": [
       "SEX  | AGE  | 2010    | 2014\n",
       "0    | 0    | 3951330 | 3948350\n",
       "0    | 1    | 3957888 | 3962123\n",
       "0    | 2    | 4090862 | 3957772\n",
       "0    | 3    | 4111920 | 4005190\n",
       "0    | 4    | 4077552 | 4003448\n",
       "0    | 5    | 4064653 | 4004858\n",
       "0    | 6    | 4073013 | 4134352\n",
       "0    | 7    | 4043047 | 4154000\n",
       "0    | 8    | 4025604 | 4119524\n",
       "0    | 9    | 4125415 | 4106832\n",
       "... (296 rows omitted)"
      ]
     },
     "execution_count": 6,
     "metadata": {},
     "output_type": "execute_result"
    }
   ],
   "source": [
    "simple = partial.relabeled('POPESTIMATE2010', '2010').relabeled(3, '2014')\n",
    "simple"
   ]
  },
  {
   "cell_type": "code",
   "execution_count": 7,
   "metadata": {},
   "outputs": [
    {
     "data": {
      "text/html": [
       "<table border=\"1\" class=\"dataframe\">\n",
       "    <thead>\n",
       "        <tr>\n",
       "            <th>SEX</th> <th>AGE</th> <th>2010</th> <th>2014</th>\n",
       "        </tr>\n",
       "    </thead>\n",
       "    <tbody>\n",
       "        <tr>\n",
       "            <td>0   </td> <td>0   </td> <td>3,951,330</td> <td>3,948,350</td>\n",
       "        </tr>\n",
       "        <tr>\n",
       "            <td>0   </td> <td>1   </td> <td>3,957,888</td> <td>3,962,123</td>\n",
       "        </tr>\n",
       "        <tr>\n",
       "            <td>0   </td> <td>2   </td> <td>4,090,862</td> <td>3,957,772</td>\n",
       "        </tr>\n",
       "        <tr>\n",
       "            <td>0   </td> <td>3   </td> <td>4,111,920</td> <td>4,005,190</td>\n",
       "        </tr>\n",
       "        <tr>\n",
       "            <td>0   </td> <td>4   </td> <td>4,077,552</td> <td>4,003,448</td>\n",
       "        </tr>\n",
       "        <tr>\n",
       "            <td>0   </td> <td>5   </td> <td>4,064,653</td> <td>4,004,858</td>\n",
       "        </tr>\n",
       "        <tr>\n",
       "            <td>0   </td> <td>6   </td> <td>4,073,013</td> <td>4,134,352</td>\n",
       "        </tr>\n",
       "        <tr>\n",
       "            <td>0   </td> <td>7   </td> <td>4,043,047</td> <td>4,154,000</td>\n",
       "        </tr>\n",
       "        <tr>\n",
       "            <td>0   </td> <td>8   </td> <td>4,025,604</td> <td>4,119,524</td>\n",
       "        </tr>\n",
       "        <tr>\n",
       "            <td>0   </td> <td>9   </td> <td>4,125,415</td> <td>4,106,832</td>\n",
       "        </tr>\n",
       "    </tbody>\n",
       "</table>\n",
       "<p>... (296 rows omitted)</p>"
      ],
      "text/plain": [
       "SEX  | AGE  | 2010      | 2014\n",
       "0    | 0    | 3,951,330 | 3,948,350\n",
       "0    | 1    | 3,957,888 | 3,962,123\n",
       "0    | 2    | 4,090,862 | 3,957,772\n",
       "0    | 3    | 4,111,920 | 4,005,190\n",
       "0    | 4    | 4,077,552 | 4,003,448\n",
       "0    | 5    | 4,064,653 | 4,004,858\n",
       "0    | 6    | 4,073,013 | 4,134,352\n",
       "0    | 7    | 4,043,047 | 4,154,000\n",
       "0    | 8    | 4,025,604 | 4,119,524\n",
       "0    | 9    | 4,125,415 | 4,106,832\n",
       "... (296 rows omitted)"
      ]
     },
     "execution_count": 7,
     "metadata": {},
     "output_type": "execute_result"
    }
   ],
   "source": [
    "simple.set_format([2, 3], NumberFormatter)"
   ]
  },
  {
   "cell_type": "code",
   "execution_count": 8,
   "metadata": {},
   "outputs": [
    {
     "data": {
      "text/html": [
       "<table border=\"1\" class=\"dataframe\">\n",
       "    <thead>\n",
       "        <tr>\n",
       "            <th>SEX</th> <th>AGE</th> <th>2010</th> <th>2014</th>\n",
       "        </tr>\n",
       "    </thead>\n",
       "    <tbody>\n",
       "        <tr>\n",
       "            <td>2   </td> <td>999 </td> <td>157,257,573</td> <td>161,920,569</td>\n",
       "        </tr>\n",
       "        <tr>\n",
       "            <td>1   </td> <td>999 </td> <td>152,089,484</td> <td>156,936,487</td>\n",
       "        </tr>\n",
       "        <tr>\n",
       "            <td>0   </td> <td>999 </td> <td>309,347,057</td> <td>318,857,056</td>\n",
       "        </tr>\n",
       "        <tr>\n",
       "            <td>2   </td> <td>100 </td> <td>45,058     </td> <td>58,468     </td>\n",
       "        </tr>\n",
       "        <tr>\n",
       "            <td>1   </td> <td>100 </td> <td>9,351      </td> <td>13,729     </td>\n",
       "        </tr>\n",
       "        <tr>\n",
       "            <td>0   </td> <td>100 </td> <td>54,409     </td> <td>72,197     </td>\n",
       "        </tr>\n",
       "        <tr>\n",
       "            <td>2   </td> <td>99  </td> <td>26,074     </td> <td>32,791     </td>\n",
       "        </tr>\n",
       "        <tr>\n",
       "            <td>1   </td> <td>99  </td> <td>6,104      </td> <td>9,037      </td>\n",
       "        </tr>\n",
       "        <tr>\n",
       "            <td>0   </td> <td>99  </td> <td>32,178     </td> <td>41,828     </td>\n",
       "        </tr>\n",
       "        <tr>\n",
       "            <td>2   </td> <td>98  </td> <td>37,533     </td> <td>46,536     </td>\n",
       "        </tr>\n",
       "    </tbody>\n",
       "</table>\n",
       "<p>... (296 rows omitted)</p>"
      ],
      "text/plain": [
       "SEX  | AGE  | 2010        | 2014\n",
       "2    | 999  | 157,257,573 | 161,920,569\n",
       "1    | 999  | 152,089,484 | 156,936,487\n",
       "0    | 999  | 309,347,057 | 318,857,056\n",
       "2    | 100  | 45,058      | 58,468\n",
       "1    | 100  | 9,351       | 13,729\n",
       "0    | 100  | 54,409      | 72,197\n",
       "2    | 99   | 26,074      | 32,791\n",
       "1    | 99   | 6,104       | 9,037\n",
       "0    | 99   | 32,178      | 41,828\n",
       "2    | 98   | 37,533      | 46,536\n",
       "... (296 rows omitted)"
      ]
     },
     "execution_count": 8,
     "metadata": {},
     "output_type": "execute_result"
    }
   ],
   "source": [
    "simple.sort('AGE', descending=True)"
   ]
  },
  {
   "cell_type": "code",
   "execution_count": 9,
   "metadata": {},
   "outputs": [],
   "source": [
    "no_999 = simple.where(\"AGE\", are.below(999))"
   ]
  },
  {
   "cell_type": "code",
   "execution_count": 10,
   "metadata": {},
   "outputs": [],
   "source": [
    "everyone = no_999.where('SEX', 0).drop(\"SEX\")\n",
    "males = no_999.where('SEX', 1).drop(\"SEX\")\n",
    "females = no_999.where('SEX', 2).drop(\"SEX\")"
   ]
  },
  {
   "cell_type": "code",
   "execution_count": 11,
   "metadata": {},
   "outputs": [
    {
     "data": {
      "text/html": [
       "<table border=\"1\" class=\"dataframe\">\n",
       "    <thead>\n",
       "        <tr>\n",
       "            <th>AGE</th> <th>2010</th> <th>2014</th>\n",
       "        </tr>\n",
       "    </thead>\n",
       "    <tbody>\n",
       "        <tr>\n",
       "            <td>0   </td> <td>1,932,910</td> <td>1,930,493</td>\n",
       "        </tr>\n",
       "        <tr>\n",
       "            <td>1   </td> <td>1,937,556</td> <td>1,938,870</td>\n",
       "        </tr>\n",
       "        <tr>\n",
       "            <td>2   </td> <td>2,002,177</td> <td>1,935,270</td>\n",
       "        </tr>\n",
       "        <tr>\n",
       "            <td>3   </td> <td>2,010,648</td> <td>1,956,572</td>\n",
       "        </tr>\n",
       "        <tr>\n",
       "            <td>4   </td> <td>1,993,240</td> <td>1,959,950</td>\n",
       "        </tr>\n",
       "        <tr>\n",
       "            <td>5   </td> <td>1,988,080</td> <td>1,961,391</td>\n",
       "        </tr>\n",
       "        <tr>\n",
       "            <td>6   </td> <td>1,993,603</td> <td>2,024,024</td>\n",
       "        </tr>\n",
       "        <tr>\n",
       "            <td>7   </td> <td>1,979,908</td> <td>2,031,760</td>\n",
       "        </tr>\n",
       "        <tr>\n",
       "            <td>8   </td> <td>1,971,142</td> <td>2,014,402</td>\n",
       "        </tr>\n",
       "        <tr>\n",
       "            <td>9   </td> <td>2,018,378</td> <td>2,009,560</td>\n",
       "        </tr>\n",
       "    </tbody>\n",
       "</table>\n",
       "<p>... (91 rows omitted)</p>"
      ],
      "text/plain": [
       "AGE  | 2010      | 2014\n",
       "0    | 1,932,910 | 1,930,493\n",
       "1    | 1,937,556 | 1,938,870\n",
       "2    | 2,002,177 | 1,935,270\n",
       "3    | 2,010,648 | 1,956,572\n",
       "4    | 1,993,240 | 1,959,950\n",
       "5    | 1,988,080 | 1,961,391\n",
       "6    | 1,993,603 | 2,024,024\n",
       "7    | 1,979,908 | 2,031,760\n",
       "8    | 1,971,142 | 2,014,402\n",
       "9    | 2,018,378 | 2,009,560\n",
       "... (91 rows omitted)"
      ]
     },
     "execution_count": 11,
     "metadata": {},
     "output_type": "execute_result"
    }
   ],
   "source": [
    "females"
   ]
  },
  {
   "cell_type": "code",
   "execution_count": 12,
   "metadata": {},
   "outputs": [
    {
     "data": {
      "text/html": [
       "<table border=\"1\" class=\"dataframe\">\n",
       "    <thead>\n",
       "        <tr>\n",
       "            <th>AGE</th> <th>2010</th> <th>2014</th>\n",
       "        </tr>\n",
       "    </thead>\n",
       "    <tbody>\n",
       "        <tr>\n",
       "            <td>54  </td> <td>2,196,798</td> <td>2,331,961</td>\n",
       "        </tr>\n",
       "        <tr>\n",
       "            <td>53  </td> <td>2,268,457</td> <td>2,316,131</td>\n",
       "        </tr>\n",
       "        <tr>\n",
       "            <td>24  </td> <td>2,082,209</td> <td>2,301,237</td>\n",
       "        </tr>\n",
       "        <tr>\n",
       "            <td>23  </td> <td>2,066,126</td> <td>2,298,701</td>\n",
       "        </tr>\n",
       "        <tr>\n",
       "            <td>51  </td> <td>2,289,164</td> <td>2,283,261</td>\n",
       "        </tr>\n",
       "        <tr>\n",
       "            <td>52  </td> <td>2,283,408</td> <td>2,282,051</td>\n",
       "        </tr>\n",
       "        <tr>\n",
       "            <td>50  </td> <td>2,355,349</td> <td>2,279,824</td>\n",
       "        </tr>\n",
       "        <tr>\n",
       "            <td>55  </td> <td>2,183,762</td> <td>2,263,367</td>\n",
       "        </tr>\n",
       "        <tr>\n",
       "            <td>56  </td> <td>2,108,681</td> <td>2,254,749</td>\n",
       "        </tr>\n",
       "        <tr>\n",
       "            <td>22  </td> <td>2,098,759</td> <td>2,244,480</td>\n",
       "        </tr>\n",
       "    </tbody>\n",
       "</table>\n",
       "<p>... (91 rows omitted)</p>"
      ],
      "text/plain": [
       "AGE  | 2010      | 2014\n",
       "54   | 2,196,798 | 2,331,961\n",
       "53   | 2,268,457 | 2,316,131\n",
       "24   | 2,082,209 | 2,301,237\n",
       "23   | 2,066,126 | 2,298,701\n",
       "51   | 2,289,164 | 2,283,261\n",
       "52   | 2,283,408 | 2,282,051\n",
       "50   | 2,355,349 | 2,279,824\n",
       "55   | 2,183,762 | 2,263,367\n",
       "56   | 2,108,681 | 2,254,749\n",
       "22   | 2,098,759 | 2,244,480\n",
       "... (91 rows omitted)"
      ]
     },
     "execution_count": 12,
     "metadata": {},
     "output_type": "execute_result"
    }
   ],
   "source": [
    "females.sort(\"2014\", descending=True)"
   ]
  },
  {
   "cell_type": "code",
   "execution_count": 13,
   "metadata": {},
   "outputs": [
    {
     "data": {
      "text/html": [
       "<table border=\"1\" class=\"dataframe\">\n",
       "    <thead>\n",
       "        <tr>\n",
       "            <th>AGE</th> <th>2010</th> <th>2014</th>\n",
       "        </tr>\n",
       "    </thead>\n",
       "    <tbody>\n",
       "        <tr>\n",
       "            <td>23  </td> <td>2,151,095</td> <td>2,399,883</td>\n",
       "        </tr>\n",
       "        <tr>\n",
       "            <td>24  </td> <td>2,161,380</td> <td>2,391,398</td>\n",
       "        </tr>\n",
       "        <tr>\n",
       "            <td>22  </td> <td>2,188,228</td> <td>2,367,842</td>\n",
       "        </tr>\n",
       "        <tr>\n",
       "            <td>21  </td> <td>2,241,095</td> <td>2,310,734</td>\n",
       "        </tr>\n",
       "        <tr>\n",
       "            <td>25  </td> <td>2,177,171</td> <td>2,295,836</td>\n",
       "        </tr>\n",
       "        <tr>\n",
       "            <td>20  </td> <td>2,331,846</td> <td>2,269,570</td>\n",
       "        </tr>\n",
       "        <tr>\n",
       "            <td>54  </td> <td>2,091,677</td> <td>2,242,828</td>\n",
       "        </tr>\n",
       "        <tr>\n",
       "            <td>26  </td> <td>2,102,375</td> <td>2,240,026</td>\n",
       "        </tr>\n",
       "        <tr>\n",
       "            <td>19  </td> <td>2,334,906</td> <td>2,220,790</td>\n",
       "        </tr>\n",
       "        <tr>\n",
       "            <td>53  </td> <td>2,170,965</td> <td>2,219,617</td>\n",
       "        </tr>\n",
       "    </tbody>\n",
       "</table>\n",
       "<p>... (91 rows omitted)</p>"
      ],
      "text/plain": [
       "AGE  | 2010      | 2014\n",
       "23   | 2,151,095 | 2,399,883\n",
       "24   | 2,161,380 | 2,391,398\n",
       "22   | 2,188,228 | 2,367,842\n",
       "21   | 2,241,095 | 2,310,734\n",
       "25   | 2,177,171 | 2,295,836\n",
       "20   | 2,331,846 | 2,269,570\n",
       "54   | 2,091,677 | 2,242,828\n",
       "26   | 2,102,375 | 2,240,026\n",
       "19   | 2,334,906 | 2,220,790\n",
       "53   | 2,170,965 | 2,219,617\n",
       "... (91 rows omitted)"
      ]
     },
     "execution_count": 13,
     "metadata": {},
     "output_type": "execute_result"
    }
   ],
   "source": [
    "males.sort(\"2014\", descending=True)"
   ]
  },
  {
   "cell_type": "code",
   "execution_count": 15,
   "metadata": {},
   "outputs": [
    {
     "data": {
      "text/html": [
       "<table border=\"1\" class=\"dataframe\">\n",
       "    <thead>\n",
       "        <tr>\n",
       "            <th>Age</th> <th>Males</th> <th>Females</th>\n",
       "        </tr>\n",
       "    </thead>\n",
       "    <tbody>\n",
       "        <tr>\n",
       "            <td>0   </td> <td>2017857</td> <td>1930493</td>\n",
       "        </tr>\n",
       "        <tr>\n",
       "            <td>1   </td> <td>2023253</td> <td>1938870</td>\n",
       "        </tr>\n",
       "        <tr>\n",
       "            <td>2   </td> <td>2022502</td> <td>1935270</td>\n",
       "        </tr>\n",
       "        <tr>\n",
       "            <td>3   </td> <td>2048618</td> <td>1956572</td>\n",
       "        </tr>\n",
       "        <tr>\n",
       "            <td>4   </td> <td>2043498</td> <td>1959950</td>\n",
       "        </tr>\n",
       "        <tr>\n",
       "            <td>5   </td> <td>2043467</td> <td>1961391</td>\n",
       "        </tr>\n",
       "        <tr>\n",
       "            <td>6   </td> <td>2110328</td> <td>2024024</td>\n",
       "        </tr>\n",
       "        <tr>\n",
       "            <td>7   </td> <td>2122240</td> <td>2031760</td>\n",
       "        </tr>\n",
       "        <tr>\n",
       "            <td>8   </td> <td>2105122</td> <td>2014402</td>\n",
       "        </tr>\n",
       "        <tr>\n",
       "            <td>9   </td> <td>2097272</td> <td>2009560</td>\n",
       "        </tr>\n",
       "    </tbody>\n",
       "</table>\n",
       "<p>... (91 rows omitted)</p>"
      ],
      "text/plain": [
       "Age  | Males   | Females\n",
       "0    | 2017857 | 1930493\n",
       "1    | 2023253 | 1938870\n",
       "2    | 2022502 | 1935270\n",
       "3    | 2048618 | 1956572\n",
       "4    | 2043498 | 1959950\n",
       "5    | 2043467 | 1961391\n",
       "6    | 2110328 | 2024024\n",
       "7    | 2122240 | 2031760\n",
       "8    | 2105122 | 2014402\n",
       "9    | 2097272 | 2009560\n",
       "... (91 rows omitted)"
      ]
     },
     "execution_count": 15,
     "metadata": {},
     "output_type": "execute_result"
    }
   ],
   "source": [
    "pop_2014 = Table().with_columns(\n",
    "    'Age', males.column(0),\n",
    "    'Males', males.column(2),\n",
    "    'Females', females.column(2)\n",
    ")\n",
    "pop_2014"
   ]
  },
  {
   "cell_type": "code",
   "execution_count": 16,
   "metadata": {},
   "outputs": [
    {
     "data": {
      "text/html": [
       "<table border=\"1\" class=\"dataframe\">\n",
       "    <thead>\n",
       "        <tr>\n",
       "            <th>Age</th> <th>Males</th> <th>Females</th> <th>Percent Female</th>\n",
       "        </tr>\n",
       "    </thead>\n",
       "    <tbody>\n",
       "        <tr>\n",
       "            <td>0   </td> <td>2017857</td> <td>1930493</td> <td>48.8937       </td>\n",
       "        </tr>\n",
       "        <tr>\n",
       "            <td>1   </td> <td>2023253</td> <td>1938870</td> <td>48.9351       </td>\n",
       "        </tr>\n",
       "        <tr>\n",
       "            <td>2   </td> <td>2022502</td> <td>1935270</td> <td>48.898        </td>\n",
       "        </tr>\n",
       "        <tr>\n",
       "            <td>3   </td> <td>2048618</td> <td>1956572</td> <td>48.8509       </td>\n",
       "        </tr>\n",
       "        <tr>\n",
       "            <td>4   </td> <td>2043498</td> <td>1959950</td> <td>48.9565       </td>\n",
       "        </tr>\n",
       "        <tr>\n",
       "            <td>5   </td> <td>2043467</td> <td>1961391</td> <td>48.9753       </td>\n",
       "        </tr>\n",
       "        <tr>\n",
       "            <td>6   </td> <td>2110328</td> <td>2024024</td> <td>48.9563       </td>\n",
       "        </tr>\n",
       "        <tr>\n",
       "            <td>7   </td> <td>2122240</td> <td>2031760</td> <td>48.9109       </td>\n",
       "        </tr>\n",
       "        <tr>\n",
       "            <td>8   </td> <td>2105122</td> <td>2014402</td> <td>48.8989       </td>\n",
       "        </tr>\n",
       "        <tr>\n",
       "            <td>9   </td> <td>2097272</td> <td>2009560</td> <td>48.9321       </td>\n",
       "        </tr>\n",
       "    </tbody>\n",
       "</table>\n",
       "<p>... (91 rows omitted)</p>"
      ],
      "text/plain": [
       "Age  | Males   | Females | Percent Female\n",
       "0    | 2017857 | 1930493 | 48.8937\n",
       "1    | 2023253 | 1938870 | 48.9351\n",
       "2    | 2022502 | 1935270 | 48.898\n",
       "3    | 2048618 | 1956572 | 48.8509\n",
       "4    | 2043498 | 1959950 | 48.9565\n",
       "5    | 2043467 | 1961391 | 48.9753\n",
       "6    | 2110328 | 2024024 | 48.9563\n",
       "7    | 2122240 | 2031760 | 48.9109\n",
       "8    | 2105122 | 2014402 | 48.8989\n",
       "9    | 2097272 | 2009560 | 48.9321\n",
       "... (91 rows omitted)"
      ]
     },
     "execution_count": 16,
     "metadata": {},
     "output_type": "execute_result"
    }
   ],
   "source": [
    "percent_females = 100 *pop_2014.column(2)/(pop_2014.column(1) + pop_2014.column(2))\n",
    "counts_and_percents = pop_2014.with_column('Percent Female', percent_females)\n",
    "counts_and_percents"
   ]
  },
  {
   "cell_type": "code",
   "execution_count": 17,
   "metadata": {},
   "outputs": [
    {
     "data": {
      "image/png": "[encoded data removed]",
      "text/plain": [
       "<Figure size 432x288 with 1 Axes>"
      ]
     },
     "metadata": {},
     "output_type": "display_data"
    }
   ],
   "source": [
    "counts_and_percents.plot('Age', 'Percent Female')"
   ]
  },
  {
   "cell_type": "code",
   "execution_count": 18,
   "metadata": {},
   "outputs": [
    {
     "data": {
      "image/png": "[encoded data removed]",
      "text/plain": [
       "<Figure size 432x288 with 1 Axes>"
      ]
     },
     "metadata": {},
     "output_type": "display_data"
    }
   ],
   "source": [
    "pop_2014.plot('Age')"
   ]
  },
  {
   "cell_type": "code",
   "execution_count": null,
   "metadata": {},
   "outputs": [],
   "source": []
  },
  {
   "cell_type": "code",
   "execution_count": null,
   "metadata": {},
   "outputs": [],
   "source": []
  }
 ],
 "metadata": {
  "anaconda-cloud": {},
  "kernelspec": {
   "display_name": "Python 3",
   "language": "python",
   "name": "python3"
  },
  "language_info": {
   "codemirror_mode": {
    "name": "ipython",
    "version": 3
   },
   "file_extension": ".py",
   "mimetype": "text/x-python",
   "name": "python",
   "nbconvert_exporter": "python",
   "pygments_lexer": "ipython3",
   "version": "3.8.3"
  }
 },
 "nbformat": 4,
 "nbformat_minor": 1
}
