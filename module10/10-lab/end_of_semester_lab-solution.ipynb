{
 "cells": [
  {
   "cell_type": "markdown",
   "metadata": {},
   "source": [
    "# End of semester review lab\n",
    "\n",
    "**Instructions**\n",
    "\n",
    "This lab is designed to be a review of some of the key concepts and coding from the second half of the semester.\n",
    "\n",
    "Your task is to predict the wage in the following data set using all of the available features.  You should do this using two separate models, and compare which model has the lowest RMSE (Root Mean Squared Error).  The two models you should use are linear regression and K-nearest neighbor, with K = 1.  Note that we are using K nearest neighbor in a new way because this is not a classification problem.  The K-nearest neighbor should simply use the nearest neighbor's wage as the prediction wage."
   ]
  },
  {
   "cell_type": "markdown",
   "metadata": {},
   "source": [
    "You will need to follow these steps"
   ]
  },
  {
   "cell_type": "markdown",
   "metadata": {},
   "source": [
    "## 1. Setup\n",
    "Run the two cells below to load the packages and data.\n",
    "\n",
    "The dataset CPS85 contains data on 534 individuals surveyed in the year 1985.\n",
    "\n",
    "    wage = The hourly wage\n",
    "    educ = years of education\n",
    "    sex = sex (male or female)\n",
    "    exper = years of experience\n",
    "    union = whether or not the person was in a union"
   ]
  },
  {
   "cell_type": "code",
   "execution_count": 211,
   "metadata": {},
   "outputs": [
    {
     "name": "stdout",
     "output_type": "stream",
     "text": [
      "Requirement already satisfied: datascience in /Users/tbernard/anaconda3/lib/python3.8/site-packages (0.15.10)\n",
      "Requirement already satisfied: pytest in /Users/tbernard/anaconda3/lib/python3.8/site-packages (from datascience) (5.4.3)\n",
      "Requirement already satisfied: numpy in /Users/tbernard/anaconda3/lib/python3.8/site-packages (from datascience) (1.18.5)\n",
      "Requirement already satisfied: coverage in /Users/tbernard/anaconda3/lib/python3.8/site-packages (from datascience) (4.4)\n",
      "Requirement already satisfied: setuptools in /Users/tbernard/anaconda3/lib/python3.8/site-packages (from datascience) (49.2.0.post20200714)\n",
      "Requirement already satisfied: pandas in /Users/tbernard/anaconda3/lib/python3.8/site-packages (from datascience) (1.0.5)\n",
      "Requirement already satisfied: sphinx in /Users/tbernard/anaconda3/lib/python3.8/site-packages (from datascience) (3.1.2)\n",
      "Requirement already satisfied: scipy in /Users/tbernard/anaconda3/lib/python3.8/site-packages (from datascience) (1.5.0)\n",
      "Requirement already satisfied: folium>=0.9.1 in /Users/tbernard/anaconda3/lib/python3.8/site-packages (from datascience) (0.11.0)\n",
      "Requirement already satisfied: matplotlib>=3.0.0 in /Users/tbernard/anaconda3/lib/python3.8/site-packages (from datascience) (3.2.2)\n",
      "Requirement already satisfied: bokeh in /Users/tbernard/anaconda3/lib/python3.8/site-packages (from datascience) (2.1.1)\n",
      "Requirement already satisfied: ipython in /Users/tbernard/anaconda3/lib/python3.8/site-packages (from datascience) (7.16.1)\n",
      "Requirement already satisfied: coveralls in /Users/tbernard/anaconda3/lib/python3.8/site-packages (from datascience) (2.1.2)\n",
      "Requirement already satisfied: py>=1.5.0 in /Users/tbernard/anaconda3/lib/python3.8/site-packages (from pytest->datascience) (1.9.0)\n",
      "Requirement already satisfied: packaging in /Users/tbernard/anaconda3/lib/python3.8/site-packages (from pytest->datascience) (20.4)\n",
      "Requirement already satisfied: attrs>=17.4.0 in /Users/tbernard/anaconda3/lib/python3.8/site-packages (from pytest->datascience) (19.3.0)\n",
      "Requirement already satisfied: more-itertools>=4.0.0 in /Users/tbernard/anaconda3/lib/python3.8/site-packages (from pytest->datascience) (8.4.0)\n",
      "Requirement already satisfied: pluggy<1.0,>=0.12 in /Users/tbernard/anaconda3/lib/python3.8/site-packages (from pytest->datascience) (0.13.1)\n",
      "Requirement already satisfied: wcwidth in /Users/tbernard/anaconda3/lib/python3.8/site-packages (from pytest->datascience) (0.2.5)\n",
      "Requirement already satisfied: pytz>=2017.2 in /Users/tbernard/anaconda3/lib/python3.8/site-packages (from pandas->datascience) (2020.1)\n",
      "Requirement already satisfied: python-dateutil>=2.6.1 in /Users/tbernard/anaconda3/lib/python3.8/site-packages (from pandas->datascience) (2.8.1)\n",
      "Requirement already satisfied: docutils>=0.12 in /Users/tbernard/anaconda3/lib/python3.8/site-packages (from sphinx->datascience) (0.16)\n",
      "Requirement already satisfied: sphinxcontrib-applehelp in /Users/tbernard/anaconda3/lib/python3.8/site-packages (from sphinx->datascience) (1.0.2)\n",
      "Requirement already satisfied: imagesize in /Users/tbernard/anaconda3/lib/python3.8/site-packages (from sphinx->datascience) (1.2.0)\n",
      "Requirement already satisfied: sphinxcontrib-serializinghtml in /Users/tbernard/anaconda3/lib/python3.8/site-packages (from sphinx->datascience) (1.1.4)\n",
      "Requirement already satisfied: sphinxcontrib-qthelp in /Users/tbernard/anaconda3/lib/python3.8/site-packages (from sphinx->datascience) (1.0.3)\n",
      "Requirement already satisfied: Jinja2>=2.3 in /Users/tbernard/anaconda3/lib/python3.8/site-packages (from sphinx->datascience) (2.11.2)\n",
      "Requirement already satisfied: Pygments>=2.0 in /Users/tbernard/anaconda3/lib/python3.8/site-packages (from sphinx->datascience) (2.6.1)\n",
      "Requirement already satisfied: sphinxcontrib-htmlhelp in /Users/tbernard/anaconda3/lib/python3.8/site-packages (from sphinx->datascience) (1.0.3)\n",
      "Requirement already satisfied: sphinxcontrib-jsmath in /Users/tbernard/anaconda3/lib/python3.8/site-packages (from sphinx->datascience) (1.0.1)\n",
      "Requirement already satisfied: requests>=2.5.0 in /Users/tbernard/anaconda3/lib/python3.8/site-packages (from sphinx->datascience) (2.22.0)\n",
      "Requirement already satisfied: sphinxcontrib-devhelp in /Users/tbernard/anaconda3/lib/python3.8/site-packages (from sphinx->datascience) (1.0.2)\n",
      "Requirement already satisfied: alabaster<0.8,>=0.7 in /Users/tbernard/anaconda3/lib/python3.8/site-packages (from sphinx->datascience) (0.7.12)\n",
      "Requirement already satisfied: snowballstemmer>=1.1 in /Users/tbernard/anaconda3/lib/python3.8/site-packages (from sphinx->datascience) (2.0.0)\n",
      "Requirement already satisfied: babel>=1.3 in /Users/tbernard/anaconda3/lib/python3.8/site-packages (from sphinx->datascience) (2.8.0)\n",
      "Requirement already satisfied: branca>=0.3.0 in /Users/tbernard/anaconda3/lib/python3.8/site-packages (from folium>=0.9.1->datascience) (0.4.1)\n",
      "Requirement already satisfied: pyparsing!=2.0.4,!=2.1.2,!=2.1.6,>=2.0.1 in /Users/tbernard/anaconda3/lib/python3.8/site-packages (from matplotlib>=3.0.0->datascience) (2.4.7)\n",
      "Requirement already satisfied: cycler>=0.10 in /Users/tbernard/anaconda3/lib/python3.8/site-packages (from matplotlib>=3.0.0->datascience) (0.10.0)\n",
      "Requirement already satisfied: kiwisolver>=1.0.1 in /Users/tbernard/anaconda3/lib/python3.8/site-packages (from matplotlib>=3.0.0->datascience) (1.2.0)\n",
      "Requirement already satisfied: typing-extensions>=3.7.4 in /Users/tbernard/anaconda3/lib/python3.8/site-packages (from bokeh->datascience) (3.10.0.2)\n",
      "Requirement already satisfied: tornado>=5.1 in /Users/tbernard/anaconda3/lib/python3.8/site-packages (from bokeh->datascience) (6.0.4)\n",
      "Requirement already satisfied: PyYAML>=3.10 in /Users/tbernard/anaconda3/lib/python3.8/site-packages (from bokeh->datascience) (5.3.1)\n",
      "Requirement already satisfied: pillow>=4.0 in /Users/tbernard/anaconda3/lib/python3.8/site-packages (from bokeh->datascience) (7.2.0)\n",
      "Requirement already satisfied: decorator in /Users/tbernard/anaconda3/lib/python3.8/site-packages (from ipython->datascience) (4.4.2)\n",
      "Requirement already satisfied: prompt-toolkit!=3.0.0,!=3.0.1,<3.1.0,>=2.0.0 in /Users/tbernard/anaconda3/lib/python3.8/site-packages (from ipython->datascience) (3.0.5)\n",
      "Requirement already satisfied: appnope; sys_platform == \"darwin\" in /Users/tbernard/anaconda3/lib/python3.8/site-packages (from ipython->datascience) (0.1.0)\n",
      "Requirement already satisfied: pickleshare in /Users/tbernard/anaconda3/lib/python3.8/site-packages (from ipython->datascience) (0.7.5)\n",
      "Requirement already satisfied: pexpect; sys_platform != \"win32\" in /Users/tbernard/anaconda3/lib/python3.8/site-packages (from ipython->datascience) (4.8.0)\n",
      "Requirement already satisfied: backcall in /Users/tbernard/anaconda3/lib/python3.8/site-packages (from ipython->datascience) (0.2.0)\n",
      "Requirement already satisfied: jedi>=0.10 in /Users/tbernard/anaconda3/lib/python3.8/site-packages (from ipython->datascience) (0.17.1)\n",
      "Requirement already satisfied: traitlets>=4.2 in /Users/tbernard/anaconda3/lib/python3.8/site-packages (from ipython->datascience) (4.3.3)\n",
      "Requirement already satisfied: docopt>=0.6.1 in /Users/tbernard/anaconda3/lib/python3.8/site-packages (from coveralls->datascience) (0.6.2)\n",
      "Requirement already satisfied: six in /Users/tbernard/anaconda3/lib/python3.8/site-packages (from packaging->pytest->datascience) (1.15.0)\n",
      "Requirement already satisfied: MarkupSafe>=0.23 in /Users/tbernard/anaconda3/lib/python3.8/site-packages (from Jinja2>=2.3->sphinx->datascience) (1.1.1)\n",
      "Requirement already satisfied: chardet<3.1.0,>=3.0.2 in /Users/tbernard/anaconda3/lib/python3.8/site-packages (from requests>=2.5.0->sphinx->datascience) (3.0.4)\n",
      "Requirement already satisfied: certifi>=2017.4.17 in /Users/tbernard/anaconda3/lib/python3.8/site-packages (from requests>=2.5.0->sphinx->datascience) (2019.11.28)\n",
      "Requirement already satisfied: idna<2.9,>=2.5 in /Users/tbernard/anaconda3/lib/python3.8/site-packages (from requests>=2.5.0->sphinx->datascience) (2.8)\n",
      "Requirement already satisfied: urllib3!=1.25.0,!=1.25.1,<1.26,>=1.21.1 in /Users/tbernard/anaconda3/lib/python3.8/site-packages (from requests>=2.5.0->sphinx->datascience) (1.25.7)\n",
      "Requirement already satisfied: ptyprocess>=0.5 in /Users/tbernard/anaconda3/lib/python3.8/site-packages (from pexpect; sys_platform != \"win32\"->ipython->datascience) (0.6.0)\n",
      "Requirement already satisfied: parso<0.8.0,>=0.7.0 in /Users/tbernard/anaconda3/lib/python3.8/site-packages (from jedi>=0.10->ipython->datascience) (0.7.0)\n",
      "Requirement already satisfied: ipython-genutils in /Users/tbernard/anaconda3/lib/python3.8/site-packages (from traitlets>=4.2->ipython->datascience) (0.2.0)\n"
     ]
    }
   ],
   "source": [
    "! pip install datascience\n",
    "from datascience import *\n",
    "import numpy as np\n",
    "import matplotlib\n",
    "%matplotlib inline"
   ]
  },
  {
   "cell_type": "code",
   "execution_count": 212,
   "metadata": {},
   "outputs": [
    {
     "data": {
      "text/html": [
       "<table border=\"1\" class=\"dataframe\">\n",
       "    <thead>\n",
       "        <tr>\n",
       "            <th>wage</th> <th>educ</th> <th>sex</th> <th>exper</th> <th>union</th>\n",
       "        </tr>\n",
       "    </thead>\n",
       "    <tbody>\n",
       "        <tr>\n",
       "            <td>9   </td> <td>10  </td> <td>M   </td> <td>27   </td> <td>Not  </td>\n",
       "        </tr>\n",
       "        <tr>\n",
       "            <td>5.5 </td> <td>12  </td> <td>M   </td> <td>20   </td> <td>Not  </td>\n",
       "        </tr>\n",
       "        <tr>\n",
       "            <td>3.8 </td> <td>12  </td> <td>F   </td> <td>4    </td> <td>Not  </td>\n",
       "        </tr>\n",
       "        <tr>\n",
       "            <td>10.5</td> <td>12  </td> <td>F   </td> <td>29   </td> <td>Not  </td>\n",
       "        </tr>\n",
       "        <tr>\n",
       "            <td>15  </td> <td>12  </td> <td>M   </td> <td>40   </td> <td>Union</td>\n",
       "        </tr>\n",
       "        <tr>\n",
       "            <td>9   </td> <td>16  </td> <td>F   </td> <td>27   </td> <td>Not  </td>\n",
       "        </tr>\n",
       "        <tr>\n",
       "            <td>9.57</td> <td>12  </td> <td>F   </td> <td>5    </td> <td>Union</td>\n",
       "        </tr>\n",
       "        <tr>\n",
       "            <td>15  </td> <td>14  </td> <td>M   </td> <td>22   </td> <td>Not  </td>\n",
       "        </tr>\n",
       "        <tr>\n",
       "            <td>11  </td> <td>8   </td> <td>M   </td> <td>42   </td> <td>Not  </td>\n",
       "        </tr>\n",
       "        <tr>\n",
       "            <td>5   </td> <td>12  </td> <td>F   </td> <td>14   </td> <td>Not  </td>\n",
       "        </tr>\n",
       "    </tbody>\n",
       "</table>\n",
       "<p>... (524 rows omitted)</p>"
      ],
      "text/plain": [
       "wage | educ | sex  | exper | union\n",
       "9    | 10   | M    | 27    | Not\n",
       "5.5  | 12   | M    | 20    | Not\n",
       "3.8  | 12   | F    | 4     | Not\n",
       "10.5 | 12   | F    | 29    | Not\n",
       "15   | 12   | M    | 40    | Union\n",
       "9    | 16   | F    | 27    | Not\n",
       "9.57 | 12   | F    | 5     | Union\n",
       "15   | 14   | M    | 22    | Not\n",
       "11   | 8    | M    | 42    | Not\n",
       "5    | 12   | F    | 14    | Not\n",
       "... (524 rows omitted)"
      ]
     },
     "execution_count": 212,
     "metadata": {},
     "output_type": "execute_result"
    }
   ],
   "source": [
    "CPS85 = Table.read_table(\"CPS85_small.csv\")\n",
    "CPS85"
   ]
  },
  {
   "cell_type": "markdown",
   "metadata": {},
   "source": [
    "**Step 1: Data Preparation**\n",
    "1. You can't fit a model with categorical data the such as sex and union as text.  You will need to convert those columns into numbers.  Fortunately since both are binary variables, you just need to convert M to 1 and F to 0, and Union to 1 and Not to 0.\n",
    "\n",
    "2. Convert each column to standard units\n",
    "\n",
    "3. Save the cleaned data as CPS85_clean\n",
    "\n",
    "4. Create a train/test split with 70% of the data for training and 30% for testing.  Use a random seed of 1234 so that we all get the same results when we do the train test split.  There should be 374 training observations and 160 test observations.  Name the resulting data sets train and test.  \n",
    "\n",
    "\n"
   ]
  },
  {
   "cell_type": "code",
   "execution_count": 213,
   "metadata": {},
   "outputs": [],
   "source": [
    "def sex_to_b(text):\n",
    "    if text == 'M':\n",
    "        return 1\n",
    "    else: \n",
    "        return 0"
   ]
  },
  {
   "cell_type": "code",
   "execution_count": 214,
   "metadata": {},
   "outputs": [],
   "source": [
    "def union_to_b(text):\n",
    "    if text == 'Union':\n",
    "        return 1\n",
    "    else: \n",
    "        return 0"
   ]
  },
  {
   "cell_type": "code",
   "execution_count": 215,
   "metadata": {},
   "outputs": [
    {
     "data": {
      "text/html": [
       "<table border=\"1\" class=\"dataframe\">\n",
       "    <thead>\n",
       "        <tr>\n",
       "            <th>wage</th> <th>educ</th> <th>sex</th> <th>exper</th> <th>union</th>\n",
       "        </tr>\n",
       "    </thead>\n",
       "    <tbody>\n",
       "        <tr>\n",
       "            <td>9   </td> <td>10  </td> <td>1   </td> <td>27   </td> <td>0    </td>\n",
       "        </tr>\n",
       "        <tr>\n",
       "            <td>5.5 </td> <td>12  </td> <td>1   </td> <td>20   </td> <td>0    </td>\n",
       "        </tr>\n",
       "        <tr>\n",
       "            <td>3.8 </td> <td>12  </td> <td>0   </td> <td>4    </td> <td>0    </td>\n",
       "        </tr>\n",
       "        <tr>\n",
       "            <td>10.5</td> <td>12  </td> <td>0   </td> <td>29   </td> <td>0    </td>\n",
       "        </tr>\n",
       "        <tr>\n",
       "            <td>15  </td> <td>12  </td> <td>1   </td> <td>40   </td> <td>1    </td>\n",
       "        </tr>\n",
       "        <tr>\n",
       "            <td>9   </td> <td>16  </td> <td>0   </td> <td>27   </td> <td>0    </td>\n",
       "        </tr>\n",
       "        <tr>\n",
       "            <td>9.57</td> <td>12  </td> <td>0   </td> <td>5    </td> <td>1    </td>\n",
       "        </tr>\n",
       "        <tr>\n",
       "            <td>15  </td> <td>14  </td> <td>1   </td> <td>22   </td> <td>0    </td>\n",
       "        </tr>\n",
       "        <tr>\n",
       "            <td>11  </td> <td>8   </td> <td>1   </td> <td>42   </td> <td>0    </td>\n",
       "        </tr>\n",
       "        <tr>\n",
       "            <td>5   </td> <td>12  </td> <td>0   </td> <td>14   </td> <td>0    </td>\n",
       "        </tr>\n",
       "    </tbody>\n",
       "</table>\n",
       "<p>... (524 rows omitted)</p>"
      ],
      "text/plain": [
       "wage | educ | sex  | exper | union\n",
       "9    | 10   | 1    | 27    | 0\n",
       "5.5  | 12   | 1    | 20    | 0\n",
       "3.8  | 12   | 0    | 4     | 0\n",
       "10.5 | 12   | 0    | 29    | 0\n",
       "15   | 12   | 1    | 40    | 1\n",
       "9    | 16   | 0    | 27    | 0\n",
       "9.57 | 12   | 0    | 5     | 1\n",
       "15   | 14   | 1    | 22    | 0\n",
       "11   | 8    | 1    | 42    | 0\n",
       "5    | 12   | 0    | 14    | 0\n",
       "... (524 rows omitted)"
      ]
     },
     "execution_count": 215,
     "metadata": {},
     "output_type": "execute_result"
    }
   ],
   "source": [
    "CPS85_clean = (CPS85\n",
    "    .with_column('sex', CPS85.apply(sex_to_b, 'sex'))\n",
    "    .with_column('union', CPS85.apply(union_to_b, 'union'))\n",
    ")\n",
    "CPS85_clean"
   ]
  },
  {
   "cell_type": "code",
   "execution_count": 216,
   "metadata": {},
   "outputs": [
    {
     "data": {
      "image/png": "[encoded data removed]",
      "text/plain": [
       "<Figure size 432x288 with 1 Axes>"
      ]
     },
     "metadata": {
      "needs_background": "light"
     },
     "output_type": "display_data"
    }
   ],
   "source": [
    "CPS85_clean.select('wage').hist() #notice the wage is not normally distributed"
   ]
  },
  {
   "cell_type": "code",
   "execution_count": 218,
   "metadata": {},
   "outputs": [],
   "source": [
    "def standard_units(arr):\n",
    "    \"\"\" Converts an array to standard units \"\"\"\n",
    "    return (arr - np.average(arr))/np.std(arr)"
   ]
  },
  {
   "cell_type": "code",
   "execution_count": 222,
   "metadata": {},
   "outputs": [],
   "source": [
    "CPS85_su = (\n",
    "    CPS85_clean.with_column('wage', standard_units(CPS85_clean.column('wage'))).\n",
    "    with_column('educ', standard_units(CPS85_clean.column('educ'))).\n",
    "    with_column('sex', standard_units(CPS85_clean.column('sex'))).\n",
    "    with_column('exper', standard_units(CPS85_clean.column('exper'))).\n",
    "    with_column('union', standard_units(CPS85_clean.column('union')))\n",
    ")\n"
   ]
  },
  {
   "cell_type": "code",
   "execution_count": 223,
   "metadata": {},
   "outputs": [
    {
     "data": {
      "text/html": [
       "<table border=\"1\" class=\"dataframe\">\n",
       "    <thead>\n",
       "        <tr>\n",
       "            <th>wage</th> <th>educ</th> <th>sex</th> <th>exper</th> <th>union</th>\n",
       "        </tr>\n",
       "    </thead>\n",
       "    <tbody>\n",
       "        <tr>\n",
       "            <td>-0.00468686</td> <td>-1.15531</td> <td>0.920734</td> <td>0.742062 </td> <td>-0.468165</td>\n",
       "        </tr>\n",
       "        <tr>\n",
       "            <td>-0.686379  </td> <td>-0.38988</td> <td>0.920734</td> <td>0.17609  </td> <td>-0.468165</td>\n",
       "        </tr>\n",
       "        <tr>\n",
       "            <td>-1.01749   </td> <td>-0.38988</td> <td>-1.08609</td> <td>-1.11756 </td> <td>-0.468165</td>\n",
       "        </tr>\n",
       "        <tr>\n",
       "            <td>0.287467   </td> <td>-0.38988</td> <td>-1.08609</td> <td>0.903768 </td> <td>-0.468165</td>\n",
       "        </tr>\n",
       "        <tr>\n",
       "            <td>1.16393    </td> <td>-0.38988</td> <td>0.920734</td> <td>1.79315  </td> <td>2.136    </td>\n",
       "        </tr>\n",
       "        <tr>\n",
       "            <td>-0.00468686</td> <td>1.14097 </td> <td>-1.08609</td> <td>0.742062 </td> <td>-0.468165</td>\n",
       "        </tr>\n",
       "        <tr>\n",
       "            <td>0.106332   </td> <td>-0.38988</td> <td>-1.08609</td> <td>-1.03671 </td> <td>2.136    </td>\n",
       "        </tr>\n",
       "        <tr>\n",
       "            <td>1.16393    </td> <td>0.375546</td> <td>0.920734</td> <td>0.337796 </td> <td>-0.468165</td>\n",
       "        </tr>\n",
       "        <tr>\n",
       "            <td>0.384851   </td> <td>-1.92073</td> <td>0.920734</td> <td>1.95486  </td> <td>-0.468165</td>\n",
       "        </tr>\n",
       "        <tr>\n",
       "            <td>-0.783764  </td> <td>-0.38988</td> <td>-1.08609</td> <td>-0.309028</td> <td>-0.468165</td>\n",
       "        </tr>\n",
       "    </tbody>\n",
       "</table>\n",
       "<p>... (524 rows omitted)</p>"
      ],
      "text/plain": [
       "wage        | educ     | sex      | exper     | union\n",
       "-0.00468686 | -1.15531 | 0.920734 | 0.742062  | -0.468165\n",
       "-0.686379   | -0.38988 | 0.920734 | 0.17609   | -0.468165\n",
       "-1.01749    | -0.38988 | -1.08609 | -1.11756  | -0.468165\n",
       "0.287467    | -0.38988 | -1.08609 | 0.903768  | -0.468165\n",
       "1.16393     | -0.38988 | 0.920734 | 1.79315   | 2.136\n",
       "-0.00468686 | 1.14097  | -1.08609 | 0.742062  | -0.468165\n",
       "0.106332    | -0.38988 | -1.08609 | -1.03671  | 2.136\n",
       "1.16393     | 0.375546 | 0.920734 | 0.337796  | -0.468165\n",
       "0.384851    | -1.92073 | 0.920734 | 1.95486   | -0.468165\n",
       "-0.783764   | -0.38988 | -1.08609 | -0.309028 | -0.468165\n",
       "... (524 rows omitted)"
      ]
     },
     "execution_count": 223,
     "metadata": {},
     "output_type": "execute_result"
    }
   ],
   "source": [
    "CPS85_su"
   ]
  },
  {
   "cell_type": "code",
   "execution_count": 224,
   "metadata": {},
   "outputs": [],
   "source": [
    "#this does the train test split and makes sure we will al have the same results by setting the random seed\n",
    "np.random.seed(1234)\n",
    "shuffled = CPS85_su.sample(with_replacement=False) # Randomly permute the rows\n",
    "train = shuffled.take(np.arange(374))\n",
    "test  = shuffled.take(np.arange(374, CPS85_su.num_rows))"
   ]
  },
  {
   "cell_type": "code",
   "execution_count": 225,
   "metadata": {},
   "outputs": [
    {
     "data": {
      "text/html": [
       "<table border=\"1\" class=\"dataframe\">\n",
       "    <thead>\n",
       "        <tr>\n",
       "            <th>wage</th> <th>educ</th> <th>sex</th> <th>exper</th> <th>union</th>\n",
       "        </tr>\n",
       "    </thead>\n",
       "    <tbody>\n",
       "        <tr>\n",
       "            <td>-0.0533792</td> <td>-0.38988 </td> <td>0.920734</td> <td>-0.713294</td> <td>-0.468165</td>\n",
       "        </tr>\n",
       "        <tr>\n",
       "            <td>0.579621  </td> <td>0.375546 </td> <td>-1.08609</td> <td>-0.632441</td> <td>-0.468165</td>\n",
       "        </tr>\n",
       "        <tr>\n",
       "            <td>2.21568   </td> <td>1.52369  </td> <td>0.920734</td> <td>-1.19841 </td> <td>-0.468165</td>\n",
       "        </tr>\n",
       "        <tr>\n",
       "            <td>0.77439   </td> <td>-0.38988 </td> <td>0.920734</td> <td>0.580356 </td> <td>2.136    </td>\n",
       "        </tr>\n",
       "        <tr>\n",
       "            <td>-0.102071 </td> <td>-0.38988 </td> <td>0.920734</td> <td>-0.389881</td> <td>-0.468165</td>\n",
       "        </tr>\n",
       "        <tr>\n",
       "            <td>-0.394225 </td> <td>-0.38988 </td> <td>-1.08609</td> <td>-0.632441</td> <td>2.136    </td>\n",
       "        </tr>\n",
       "        <tr>\n",
       "            <td>-0.910364 </td> <td>-0.772593</td> <td>-1.08609</td> <td>0.17609  </td> <td>-0.468165</td>\n",
       "        </tr>\n",
       "        <tr>\n",
       "            <td>-0.588994 </td> <td>-2.30345 </td> <td>-1.08609</td> <td>-0.228175</td> <td>-0.468165</td>\n",
       "        </tr>\n",
       "        <tr>\n",
       "            <td>-0.199456 </td> <td>-0.38988 </td> <td>-1.08609</td> <td>-0.794147</td> <td>-0.468165</td>\n",
       "        </tr>\n",
       "        <tr>\n",
       "            <td>0.190082  </td> <td>-1.15531 </td> <td>-1.08609</td> <td>0.580356 </td> <td>2.136    </td>\n",
       "        </tr>\n",
       "    </tbody>\n",
       "</table>\n",
       "<p>... (364 rows omitted)</p>"
      ],
      "text/plain": [
       "wage       | educ      | sex      | exper     | union\n",
       "-0.0533792 | -0.38988  | 0.920734 | -0.713294 | -0.468165\n",
       "0.579621   | 0.375546  | -1.08609 | -0.632441 | -0.468165\n",
       "2.21568    | 1.52369   | 0.920734 | -1.19841  | -0.468165\n",
       "0.77439    | -0.38988  | 0.920734 | 0.580356  | 2.136\n",
       "-0.102071  | -0.38988  | 0.920734 | -0.389881 | -0.468165\n",
       "-0.394225  | -0.38988  | -1.08609 | -0.632441 | 2.136\n",
       "-0.910364  | -0.772593 | -1.08609 | 0.17609   | -0.468165\n",
       "-0.588994  | -2.30345  | -1.08609 | -0.228175 | -0.468165\n",
       "-0.199456  | -0.38988  | -1.08609 | -0.794147 | -0.468165\n",
       "0.190082   | -1.15531  | -1.08609 | 0.580356  | 2.136\n",
       "... (364 rows omitted)"
      ]
     },
     "execution_count": 225,
     "metadata": {},
     "output_type": "execute_result"
    }
   ],
   "source": [
    "train#your train and test data should look exactly like this if you set the seed correctly"
   ]
  },
  {
   "cell_type": "code",
   "execution_count": 226,
   "metadata": {},
   "outputs": [
    {
     "data": {
      "text/html": [
       "<table border=\"1\" class=\"dataframe\">\n",
       "    <thead>\n",
       "        <tr>\n",
       "            <th>wage</th> <th>educ</th> <th>sex</th> <th>exper</th> <th>union</th>\n",
       "        </tr>\n",
       "    </thead>\n",
       "    <tbody>\n",
       "        <tr>\n",
       "            <td>0.384851 </td> <td>-1.92073   </td> <td>0.920734</td> <td>1.95486  </td> <td>-0.468165</td>\n",
       "        </tr>\n",
       "        <tr>\n",
       "            <td>-1.10513 </td> <td>-0.00716691</td> <td>-1.08609</td> <td>-1.27927 </td> <td>-0.468165</td>\n",
       "        </tr>\n",
       "        <tr>\n",
       "            <td>-0.242305</td> <td>1.14097    </td> <td>-1.08609</td> <td>-0.955853</td> <td>-0.468165</td>\n",
       "        </tr>\n",
       "        <tr>\n",
       "            <td>-0.540302</td> <td>-0.38988   </td> <td>-1.08609</td> <td>-0.955853</td> <td>-0.468165</td>\n",
       "        </tr>\n",
       "        <tr>\n",
       "            <td>0.912676 </td> <td>-0.38988   </td> <td>0.920734</td> <td>2.03571  </td> <td>2.136    </td>\n",
       "        </tr>\n",
       "        <tr>\n",
       "            <td>-1.10513 </td> <td>-0.38988   </td> <td>-1.08609</td> <td>-0.794147</td> <td>-0.468165</td>\n",
       "        </tr>\n",
       "        <tr>\n",
       "            <td>0.793867 </td> <td>-1.15531   </td> <td>-1.08609</td> <td>1.63145  </td> <td>-0.468165</td>\n",
       "        </tr>\n",
       "        <tr>\n",
       "            <td>1.74824  </td> <td>1.14097    </td> <td>0.920734</td> <td>1.63145  </td> <td>-0.468165</td>\n",
       "        </tr>\n",
       "        <tr>\n",
       "            <td>0.579621 </td> <td>1.9064     </td> <td>-1.08609</td> <td>0.014384 </td> <td>2.136    </td>\n",
       "        </tr>\n",
       "        <tr>\n",
       "            <td>-1.01749 </td> <td>-0.38988   </td> <td>-1.08609</td> <td>-1.11756 </td> <td>-0.468165</td>\n",
       "        </tr>\n",
       "    </tbody>\n",
       "</table>\n",
       "<p>... (150 rows omitted)</p>"
      ],
      "text/plain": [
       "wage      | educ        | sex      | exper     | union\n",
       "0.384851  | -1.92073    | 0.920734 | 1.95486   | -0.468165\n",
       "-1.10513  | -0.00716691 | -1.08609 | -1.27927  | -0.468165\n",
       "-0.242305 | 1.14097     | -1.08609 | -0.955853 | -0.468165\n",
       "-0.540302 | -0.38988    | -1.08609 | -0.955853 | -0.468165\n",
       "0.912676  | -0.38988    | 0.920734 | 2.03571   | 2.136\n",
       "-1.10513  | -0.38988    | -1.08609 | -0.794147 | -0.468165\n",
       "0.793867  | -1.15531    | -1.08609 | 1.63145   | -0.468165\n",
       "1.74824   | 1.14097     | 0.920734 | 1.63145   | -0.468165\n",
       "0.579621  | 1.9064      | -1.08609 | 0.014384  | 2.136\n",
       "-1.01749  | -0.38988    | -1.08609 | -1.11756  | -0.468165\n",
       "... (150 rows omitted)"
      ]
     },
     "execution_count": 226,
     "metadata": {},
     "output_type": "execute_result"
    }
   ],
   "source": [
    "test"
   ]
  },
  {
   "cell_type": "markdown",
   "metadata": {},
   "source": [
    "# Regression Model "
   ]
  },
  {
   "cell_type": "markdown",
   "metadata": {},
   "source": [
    "**Step 2: Regression Model** \n",
    "\n",
    "1. Define a function that calculates the root mean squared error of a regression model that predicts the wage using all other features.  Note: You have only done this before with one 'x' variable.  Now there are more than one.  All you have to do is to add a 'slope' for each variable. For example the mathematical equation for the predicted value is:\n",
    "\n",
    "$fitted = slope_1*educ + slope_2*sex + slope_3*exper + slope_4*union + intercept$\n",
    "\n",
    "Once you have the fitted value for each data point, you can use it to calculate the RMSE for the model\n",
    "\n",
    "*Hint* This [example from the textbook](https://umass-data-science.github.io/190fwebsite/textbook/15/3/method-of-least-squares/) should help you.  This was also in the last lab we did.\n",
    "\n",
    "2. Use the minimize function to find the slopes and intercept that minimize the the RMSE.  These slopes and intercepts are your model, and the RMSE that these slopes give you is the *training RMSE of your model*"
   ]
  },
  {
   "cell_type": "code",
   "execution_count": 227,
   "metadata": {},
   "outputs": [
    {
     "data": {
      "text/plain": [
       "7.524586345584984"
      ]
     },
     "execution_count": 227,
     "metadata": {},
     "output_type": "execute_result"
    }
   ],
   "source": [
    "#The purpose of this cell is to show you that you can calculate an RMSE with any numbers you want to assign\n",
    "#to the slopes and intercept.  In this case we chose, 1,2,3,4,5.\n",
    "#you don't actually need this cell it is just to show you what is happening\n",
    "e = train.column('educ')\n",
    "s = train.column('sex')\n",
    "ex = train.column('exper')\n",
    "u = train.column('union')\n",
    "w = train.column('wage')\n",
    "fitted = 1 * e + 2 * s + 3* ex + 4 * u + 5#fitted is an array of predicted wages using 1,2,3,4,5 as regression coefficients\n",
    "rmse = np.sqrt(np.mean((fitted - w)**2))#this is the RMSE of the model fit to the training data  \n",
    "rmse\n",
    "    "
   ]
  },
  {
   "cell_type": "code",
   "execution_count": 231,
   "metadata": {},
   "outputs": [],
   "source": [
    "#this cell does the same thing as above expect the regression coefficients are the arguments in a function\n",
    "def rmse(slope1, slope2, slope3, slope4, intercept):\n",
    "    e = train.column('educ')\n",
    "    s = train.column('sex')\n",
    "    ex = train.column('exper')\n",
    "    u = train.column('union')\n",
    "    w = train.column('wage')\n",
    "    fitted = slope1 * e + slope2 * s + slope3 * ex + slope4 * u + intercept\n",
    "    rmse = np.sqrt(np.mean((fitted - w) ** 2))\n",
    "    return rmse"
   ]
  },
  {
   "cell_type": "code",
   "execution_count": 232,
   "metadata": {},
   "outputs": [
    {
     "data": {
      "text/plain": [
       "7.524586345584984"
      ]
     },
     "execution_count": 232,
     "metadata": {},
     "output_type": "execute_result"
    }
   ],
   "source": [
    "rmse(1,2,3,4,5)#this call the function using the coefficients from two cells above (1,2,3,4,5)\n",
    "#the purpose is to show show that the rmse of your function call and the manual calculation using (1,2,3,4,5) are\n",
    "#the same"
   ]
  },
  {
   "cell_type": "code",
   "execution_count": 233,
   "metadata": {},
   "outputs": [
    {
     "data": {
      "text/plain": [
       "array([ 0.47257517,  0.19613833,  0.23924993,  0.09287847, -0.00341792])"
      ]
     },
     "execution_count": 233,
     "metadata": {},
     "output_type": "execute_result"
    }
   ],
   "source": [
    "#this cell uses the minimize function to find the arguments of the rmse function that minimize the rmse.\n",
    "#the resulting array contains the \"correct\" regression coefficients that minimize RMSE.\n",
    "model_coefs = minimize(rmse)\n",
    "model_coefs#these \"slopes\" minimize the RMSE"
   ]
  },
  {
   "cell_type": "code",
   "execution_count": null,
   "metadata": {},
   "outputs": [],
   "source": []
  },
  {
   "cell_type": "markdown",
   "metadata": {},
   "source": [
    "**Step 3: Calculate test set RMSE**\n",
    "\n",
    "1.  Use the slopes and intercept you calculated from your training data to predict the wage of each observation in your test set.\n",
    "\n",
    "2.  Calculate the RMSE of those predictions.  This is the *test set RMSE of your model*."
   ]
  },
  {
   "cell_type": "code",
   "execution_count": 234,
   "metadata": {},
   "outputs": [],
   "source": [
    "#define a function to calculate test set RMSE notice we use test set here\n",
    "def rmse_test(slope1, slope2, slope3, slope4, intercept):\n",
    "    e = test.column('educ')\n",
    "    s = test.column('sex')\n",
    "    ex = test.column('exper')\n",
    "    u = test.column('union')\n",
    "    w = test.column('wage')\n",
    "    fitted = slope1 * e + slope2 * s + slope3 * ex + slope4 * u + intercept\n",
    "    rmse = np.sqrt(np.mean((w - fitted) ** 2))\n",
    "    return rmse"
   ]
  },
  {
   "cell_type": "code",
   "execution_count": 235,
   "metadata": {},
   "outputs": [
    {
     "data": {
      "text/plain": [
       "0.47257516876928146"
      ]
     },
     "execution_count": 235,
     "metadata": {},
     "output_type": "execute_result"
    }
   ],
   "source": [
    "model_coefs[0]#this shows you that you can extract elements of the model_coefs array using []"
   ]
  },
  {
   "cell_type": "code",
   "execution_count": 237,
   "metadata": {},
   "outputs": [
    {
     "data": {
      "text/plain": [
       "0.8337656895236845"
      ]
     },
     "execution_count": 237,
     "metadata": {},
     "output_type": "execute_result"
    }
   ],
   "source": [
    "#RMSE of test set\n",
    "#this calls the rmse_test function using the \"correct\" regression coefficients.\n",
    "rmse_test(model_coefs[0], model_coefs[1], model_coefs[2], model_coefs[3], model_coefs[4])"
   ]
  },
  {
   "cell_type": "code",
   "execution_count": 88,
   "metadata": {},
   "outputs": [
    {
     "data": {
      "text/plain": [
       "0.8681180706812573"
      ]
     },
     "execution_count": 88,
     "metadata": {},
     "output_type": "execute_result"
    }
   ],
   "source": [
    "#RMSE of training set.\n",
    "#notice the RMSE of the training set is better than the test set.  This makes sense because we fit the model to \n",
    "#the training data.  Test set errors should be larger because they were not included in finding the optimal coeficients\n",
    "rmse(model_coefs[0], model_coefs[1], model_coefs[2], model_coefs[3], model_coefs[4])"
   ]
  },
  {
   "cell_type": "markdown",
   "metadata": {},
   "source": [
    "# K-nearest Neighbor Model"
   ]
  },
  {
   "cell_type": "markdown",
   "metadata": {},
   "source": [
    "Note you should use the same training and test data for this model as you did for the regression.\n",
    "\n",
    "1. Create a function or series of functions that finds the nearest neighbor in the training data of a single row of data.\n",
    "\n",
    "*hint:* These function are explained in the textbook.  You want the closest() function to work.  You don't need the majority_class or classify functions because this is not a classification problem.\n",
    "\n",
    "\n",
    "\n",
    "\n",
    "\n",
    "\n"
   ]
  },
  {
   "cell_type": "code",
   "execution_count": 242,
   "metadata": {},
   "outputs": [],
   "source": [
    " def distance(pt1, pt2):\n",
    "    \"\"\"Return the distance between two points, represented as arrays\"\"\"\n",
    "    return np.sqrt(sum((pt1 - pt2)**2))\n",
    "\n",
    "def row_distance(row1, row2):\n",
    "    \"\"\"Return the distance between two numerical rows of a table\"\"\"\n",
    "    return distance(np.array(row1), np.array(row2))\n",
    "\n",
    "def distances(train, example):\n",
    "    \"\"\"Compute distance between example and every row in train.\n",
    "    Return train augmented with Distance column\"\"\"\n",
    "    distances = make_array()\n",
    "    attributes = train.drop('Class')\n",
    "    for row in attributes.rows:\n",
    "        distances = np.append(distances, row_distance(row, example))\n",
    "    return train.with_column('Distance', distances)\n",
    "\n",
    "def closest(train, example, k):\n",
    "    \"\"\"Return a table of the k closest neighbors to example\"\"\"\n",
    "    return distances(train, example).sort('Distance').take(np.arange(k))"
   ]
  },
  {
   "cell_type": "code",
   "execution_count": 243,
   "metadata": {},
   "outputs": [
    {
     "data": {
      "text/plain": [
       "Row(wage=0.3848514857624287, educ=-1.9207329501703343, sex=0.9207338730881488, exper=1.9548578101521867, union=-0.4681645887845222)"
      ]
     },
     "execution_count": 243,
     "metadata": {},
     "output_type": "execute_result"
    }
   ],
   "source": [
    "test.row(0)#this pulls out row 0 as a row, you can turn this to an array, which is what the row_distances function does"
   ]
  },
  {
   "cell_type": "markdown",
   "metadata": {},
   "source": [
    "2.  Use you function to find the nearest neighbor (k=1) in the training set of each observation in the test set.  The value of the nearest neighbor's wage in the training set is the prediction of the value of wage for the test observation."
   ]
  },
  {
   "cell_type": "code",
   "execution_count": 244,
   "metadata": {},
   "outputs": [
    {
     "data": {
      "text/plain": [
       "-0.10207144793689596"
      ]
     },
     "execution_count": 244,
     "metadata": {},
     "output_type": "execute_result"
    }
   ],
   "source": [
    "predicted_wage = closest(train, test.row(0), 1)\n",
    "predicted_wage[0][0]"
   ]
  },
  {
   "cell_type": "code",
   "execution_count": 245,
   "metadata": {},
   "outputs": [],
   "source": [
    "#this finds the nearest neighbor of every row in the test set\n",
    "predicted_wage_array = make_array()\n",
    "for i in np.arange(test.num_rows):\n",
    "    predicted_wage = closest(train, test.row(i), 1)[0][0]#this chooses the wage of the nearest neighbor\n",
    "    predicted_wage_array = np.append(predicted_wage_array, predicted_wage)"
   ]
  },
  {
   "cell_type": "markdown",
   "metadata": {},
   "source": [
    "3.  Calculate the RMSE of the predicted wage using your nearest neighbor prediction.  This is the RMSE of your nearest neighbor model"
   ]
  },
  {
   "cell_type": "code",
   "execution_count": 246,
   "metadata": {},
   "outputs": [
    {
     "data": {
      "text/plain": [
       "0.21843223870545"
      ]
     },
     "execution_count": 246,
     "metadata": {},
     "output_type": "execute_result"
    }
   ],
   "source": [
    "np.sqrt(np.mean((predicted_wage_array - test.column('wage'))**2))"
   ]
  },
  {
   "cell_type": "markdown",
   "metadata": {},
   "source": [
    "**Results:** What are the RMSEs of your two models?  Which one has a lower RMSE on the test set? "
   ]
  },
  {
   "cell_type": "markdown",
   "metadata": {},
   "source": [
    "RMSE of the linear regression model is .83, RMSE of the nearest neighbor model is .21, so the nearest neighbor model has a lower test set error"
   ]
  }
 ],
 "metadata": {
  "kernelspec": {
   "display_name": "Python 3",
   "language": "python",
   "name": "python3"
  },
  "language_info": {
   "codemirror_mode": {
    "name": "ipython",
    "version": 3
   },
   "file_extension": ".py",
   "mimetype": "text/x-python",
   "name": "python",
   "nbconvert_exporter": "python",
   "pygments_lexer": "ipython3",
   "version": "3.8.3"
  }
 },
 "nbformat": 4,
 "nbformat_minor": 4
}
