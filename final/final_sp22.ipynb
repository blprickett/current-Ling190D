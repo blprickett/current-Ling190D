{
  "cells": [
    {
      "cell_type": "markdown",
      "metadata": {
        "id": "vpEmiTYfnvr6"
      },
      "source": [
        "# Final Exam Spring 2022\n",
        "\n",
        "**Instructions**\n",
        "\n",
        "The exam should be opened on Moodle at 8 am ET on Friday May 6 and closed at 10 pm ET on the same date. The time limit is 2 hours for the exam. Your solution must be turned in as an **ipynb** file on **Moodle** before it is closed. Late exams will only be accepted at the instructors discretion. If you miss the submission window you will need to email me the exam and explain what is the reason right after the exam. Answer each question using only one cell (you can have multiple lines of code in one cell). You may create a copy of this notebook and open additional cells for testing, but when you turn in the exam, please only have one cell per question. Partial credit will be given. It is easier to give partial credit if you comment your code to say what each line is doing, or trying to do. If you can't solve a problem fully, try solving part of it for partial credit.\n",
        "\n",
        "**Do not import additional libraries. Use only the libraries already included below.**\n",
        "\n",
        "The solutions should be displayed in the notebook. Each question requires only one thing to be displayed. You don't need to display any intermediate steps you may have taken.\n",
        "\n",
        "Each question is worth the same number of points.\n",
        "\n",
        "**It is an open book/notes exam, but you have to do it by yourself, no cooperation is allowed. Don't post or talk about the questions or your solution of the exam during the exam open window. Please DO NOT post questions of clarification to Piazza. Since not all students are taking the exam at the same time, this might create an unfair advantage.**"
      ]
    },
    {
      "cell_type": "markdown",
      "metadata": {
        "id": "xsIroC3nnvsF"
      },
      "source": [
        "## 1. Setup\n",
        "Run the two cells below to load the packages and data necessary for this exam.\n",
        "\n",
        "The dataset `diamonds` contains data on 500 diamonds.  A row of table is a single diamond.\n",
        "\n",
        "    carat = The weight of the diamond in carats\n",
        "    color = a letter signifying the color of the diamond\n",
        "    price = the price of the diamond in dollars"
      ]
    },
    {
      "cell_type": "code",
      "execution_count": null,
      "metadata": {
        "id": "Pvq4jQqGnvsH"
      },
      "outputs": [],
      "source": [
        "from datascience import *\n",
        "import numpy as np\n",
        "import matplotlib\n",
        "%matplotlib inline"
      ]
    },
    {
      "cell_type": "code",
      "execution_count": null,
      "metadata": {
        "colab": {
          "base_uri": "https://localhost:8080/",
          "height": 392
        },
        "id": "iHft61W6nvsI",
        "outputId": "ae5053e6-f023-40dc-874c-c4408248f015"
      },
      "outputs": [
        {
          "data": {
            "text/html": [
              "<table border=\"1\" class=\"dataframe\">\n",
              "    <thead>\n",
              "        <tr>\n",
              "            <th>carat</th> <th>color</th> <th>price</th>\n",
              "        </tr>\n",
              "    </thead>\n",
              "    <tbody>\n",
              "        <tr>\n",
              "            <td>0.82 </td> <td>D    </td> <td>3159 </td>\n",
              "        </tr>\n",
              "    </tbody>\n",
              "        <tr>\n",
              "            <td>1    </td> <td>E    </td> <td>6732 </td>\n",
              "        </tr>\n",
              "    </tbody>\n",
              "        <tr>\n",
              "            <td>0.53 </td> <td>F    </td> <td>1142 </td>\n",
              "        </tr>\n",
              "    </tbody>\n",
              "        <tr>\n",
              "            <td>0.35 </td> <td>E    </td> <td>767  </td>\n",
              "        </tr>\n",
              "    </tbody>\n",
              "        <tr>\n",
              "            <td>1.01 </td> <td>D    </td> <td>4004 </td>\n",
              "        </tr>\n",
              "    </tbody>\n",
              "        <tr>\n",
              "            <td>0.54 </td> <td>D    </td> <td>1662 </td>\n",
              "        </tr>\n",
              "    </tbody>\n",
              "        <tr>\n",
              "            <td>0.3  </td> <td>D    </td> <td>574  </td>\n",
              "        </tr>\n",
              "    </tbody>\n",
              "        <tr>\n",
              "            <td>1.22 </td> <td>G    </td> <td>8793 </td>\n",
              "        </tr>\n",
              "    </tbody>\n",
              "        <tr>\n",
              "            <td>0.31 </td> <td>G    </td> <td>931  </td>\n",
              "        </tr>\n",
              "    </tbody>\n",
              "        <tr>\n",
              "            <td>1    </td> <td>E    </td> <td>7528 </td>\n",
              "        </tr>\n",
              "    </tbody>\n",
              "</table>\n",
              "<p>... (490 rows omitted)</p>"
            ],
            "text/plain": [
              "carat | color | price\n",
              "0.82  | D     | 3159\n",
              "1     | E     | 6732\n",
              "0.53  | F     | 1142\n",
              "0.35  | E     | 767\n",
              "1.01  | D     | 4004\n",
              "0.54  | D     | 1662\n",
              "0.3   | D     | 574\n",
              "1.22  | G     | 8793\n",
              "0.31  | G     | 931\n",
              "1     | E     | 7528\n",
              "... (490 rows omitted)"
            ]
          },
          "execution_count": 3,
          "metadata": {},
          "output_type": "execute_result"
        }
      ],
      "source": [
        "diamonds = Table.read_table(\"diamonds1.csv\")\n",
        "diamonds"
      ]
    },
    {
      "cell_type": "markdown",
      "metadata": {
        "id": "yvuMUo-2nvsL"
      },
      "source": [
        "**Question 1:** Create a table that contains the average price of each ```color``` of diamond.  Column names for this table should be ```color``` and ``average_price``. Assign this table to q1"
      ]
    },
    {
      "cell_type": "code",
      "execution_count": null,
      "metadata": {
        "id": "PR3UHcQq2Xkc"
      },
      "outputs": [],
      "source": [
        "q1 = ...\n",
        "q1"
      ]
    },
    {
      "cell_type": "markdown",
      "metadata": {
        "id": "5TU_pbHgnvsO"
      },
      "source": [
        "**Question 2:** Create a table that contains only diamonds of color H, and price greater than 4000. Assign this table to q2."
      ]
    },
    {
      "cell_type": "code",
      "execution_count": null,
      "metadata": {
        "id": "ievskIEf2Xkd"
      },
      "outputs": [],
      "source": [
        "q2 = ...\n",
        "q2"
      ]
    },
    {
      "cell_type": "markdown",
      "metadata": {
        "id": "ukOXG9ZsnvsR"
      },
      "source": [
        "**Question 3:** Assume this is a random sample of diamond prices in the New York diamond market.  Calculate an 95% confidence interval for the population mean of all diamond prices in the New York diamond market.  \n",
        "\n",
        "You should calculate this using the bootstrap with 1000 repeation.  Assign this confidence interval to q3."
      ]
    },
    {
      "cell_type": "code",
      "execution_count": null,
      "metadata": {
        "id": "Lx6OkFQQ2Xkh"
      },
      "outputs": [],
      "source": [
        "q3 = ...\n",
        "q3"
      ]
    },
    {
      "cell_type": "markdown",
      "metadata": {
        "id": "d2VMlqQunvsU"
      },
      "source": [
        "**Question 4:** Suppose the following array called `model_predictions` contains predictions of diamond prices from a model.  The first element of the model_predictions array corresponds to the first diamond in the data and so on.  \n",
        "\n",
        "What is the residual of the first diamond in the data? Assign this value to q4.  "
      ]
    },
    {
      "cell_type": "code",
      "execution_count": null,
      "metadata": {
        "id": "28UZN4YU2Xki"
      },
      "outputs": [],
      "source": [
        "#run this cell, but do not change it!!\n",
        "np.random.seed(1234)\n",
        "model_predictions = np.random.rand(500)*2000"
      ]
    },
    {
      "cell_type": "code",
      "execution_count": null,
      "metadata": {
        "id": "KiILVyZa2Xkj"
      },
      "outputs": [],
      "source": [
        "#residual_of_first_diamond:\n",
        "q4 = ...\n",
        "q4"
      ]
    },
    {
      "cell_type": "markdown",
      "metadata": {
        "id": "QeBm86yvOH_3"
      },
      "source": [
        "**Question 5:** continuos from question 4.\n",
        "\n",
        "What is the root mean squared error of the model? Assign this value to q5."
      ]
    },
    {
      "cell_type": "code",
      "execution_count": null,
      "metadata": {
        "id": "814wJrDp2Xkl"
      },
      "outputs": [],
      "source": [
        "#rmse of the model:\n",
        "q5 = ...\n",
        "q5\n"
      ]
    },
    {
      "cell_type": "markdown",
      "metadata": {
        "id": "uw1BfoRUnvsb"
      },
      "source": [
        "**Question 6:** Consider only the diamond price and carat weight.  Build a regression model that predicts the price given the carat weight.  What is the predicted model price on a diamond with a weight of 2 carats?  \n",
        "\n",
        "Your solution should be in the form of a function that takes a carat weight as an argument and outputs a predicted price. Assign this value to q6.\n",
        "\n",
        "**Do NOT use the minimize function in your code**"
      ]
    },
    {
      "cell_type": "code",
      "execution_count": null,
      "metadata": {
        "id": "mpq4R2fR2Xko"
      },
      "outputs": [],
      "source": [
        "q6 = ...\n",
        "q6"
      ]
    },
    {
      "cell_type": "markdown",
      "metadata": {
        "id": "4bVRg-xpnvsd"
      },
      "source": [
        "**Question 7:** Again consider only price and carat weight.  What is the distance between the first diamond in the dataset and the second diamond in the dataset. Assign this value to q7.\n"
      ]
    },
    {
      "cell_type": "code",
      "execution_count": null,
      "metadata": {
        "id": "E7YM9Dyd2Xkp"
      },
      "outputs": [],
      "source": [
        "q7 = ...\n",
        "q7"
      ]
    },
    {
      "cell_type": "markdown",
      "metadata": {
        "id": "1yGpXQQ1nvse"
      },
      "source": [
        "**Question 8:** Again consider only price and carat weight.  Generate a table that contains the weight and price of the 5 nearest neighbors of the first row.\n",
        "(including the first row itself in the table of the 5 nearest neighbors).\n",
        "Assign this table to q8."
      ]
    },
    {
      "cell_type": "code",
      "execution_count": null,
      "metadata": {
        "id": "ekjK5_Nq2Xkp"
      },
      "outputs": [],
      "source": [
        "q8 = ...\n",
        "q8"
      ]
    }
  ],
  "metadata": {
    "colab": {
      "collapsed_sections": [],
      "name": " final_sp22.ipynb",
      "provenance": []
    },
    "kernelspec": {
      "display_name": "Python 3",
      "language": "python",
      "name": "python3"
    },
    "language_info": {
      "codemirror_mode": {
        "name": "ipython",
        "version": 3
      },
      "file_extension": ".py",
      "mimetype": "text/x-python",
      "name": "python",
      "nbconvert_exporter": "python",
      "pygments_lexer": "ipython3",
      "version": "3.6.1"
    }
  },
  "nbformat": 4,
  "nbformat_minor": 0
}