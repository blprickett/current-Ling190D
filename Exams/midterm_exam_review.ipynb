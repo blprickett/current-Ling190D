{
 "cells": [
  {
   "cell_type": "code",
   "execution_count": null,
   "metadata": {},
   "outputs": [],
   "source": [
    "!pip install datascience"
   ]
  },
  {
   "cell_type": "code",
   "execution_count": 3,
   "metadata": {},
   "outputs": [],
   "source": [
    "from datascience import *\n",
    "import numpy as np\n",
    "import matplotlib\n",
    "%matplotlib inline"
   ]
  },
  {
   "cell_type": "code",
   "execution_count": 4,
   "metadata": {},
   "outputs": [
    {
     "data": {
      "text/html": [
       "<table border=\"1\" class=\"dataframe\">\n",
       "    <thead>\n",
       "        <tr>\n",
       "            <th>wage</th> <th>educ</th> <th> white/hispanic </th> <th>sex</th> <th>south</th> <th>married</th> <th>exper</th> <th>union</th> <th>age</th> <th>sector</th>\n",
       "        </tr>\n",
       "    </thead>\n",
       "    <tbody>\n",
       "        <tr>\n",
       "            <td> $9.00  </td> <td>10  </td> <td>W/NH            </td> <td>M   </td> <td>NS   </td> <td>Married</td> <td>27   </td> <td>Not  </td> <td>43  </td> <td>const   </td>\n",
       "        </tr>\n",
       "        <tr>\n",
       "            <td> $5.50  </td> <td>12  </td> <td>W/NH            </td> <td>M   </td> <td>NS   </td> <td>Married</td> <td>20   </td> <td>Not  </td> <td>38  </td> <td>sales   </td>\n",
       "        </tr>\n",
       "        <tr>\n",
       "            <td> $3.80  </td> <td>12  </td> <td>W/NH            </td> <td>F   </td> <td>NS   </td> <td>Single </td> <td>4    </td> <td>Not  </td> <td>22  </td> <td>sales   </td>\n",
       "        </tr>\n",
       "        <tr>\n",
       "            <td> $10.50 </td> <td>12  </td> <td>W/NH            </td> <td>F   </td> <td>NS   </td> <td>Married</td> <td>29   </td> <td>Not  </td> <td>47  </td> <td>clerical</td>\n",
       "        </tr>\n",
       "        <tr>\n",
       "            <td> $15.00 </td> <td>12  </td> <td>W/NH            </td> <td>M   </td> <td>NS   </td> <td>Married</td> <td>40   </td> <td>Union</td> <td>58  </td> <td>const   </td>\n",
       "        </tr>\n",
       "        <tr>\n",
       "            <td> $9.00  </td> <td>16  </td> <td>W/NH            </td> <td>F   </td> <td>NS   </td> <td>Married</td> <td>27   </td> <td>Not  </td> <td>49  </td> <td>clerical</td>\n",
       "        </tr>\n",
       "        <tr>\n",
       "            <td> $9.57  </td> <td>12  </td> <td>W/NH            </td> <td>F   </td> <td>NS   </td> <td>Married</td> <td>5    </td> <td>Union</td> <td>23  </td> <td>service </td>\n",
       "        </tr>\n",
       "        <tr>\n",
       "            <td> $15.00 </td> <td>14  </td> <td>W/NH            </td> <td>M   </td> <td>NS   </td> <td>Single </td> <td>22   </td> <td>Not  </td> <td>42  </td> <td>sales   </td>\n",
       "        </tr>\n",
       "        <tr>\n",
       "            <td> $11.00 </td> <td>8   </td> <td>W/NH            </td> <td>M   </td> <td>NS   </td> <td>Married</td> <td>42   </td> <td>Not  </td> <td>56  </td> <td>manuf   </td>\n",
       "        </tr>\n",
       "        <tr>\n",
       "            <td> $5.00  </td> <td>12  </td> <td>W/NH            </td> <td>F   </td> <td>NS   </td> <td>Married</td> <td>14   </td> <td>Not  </td> <td>32  </td> <td>sales   </td>\n",
       "        </tr>\n",
       "    </tbody>\n",
       "</table>\n",
       "<p>... (524 rows omitted)</p>"
      ],
      "text/plain": [
       "wage     | educ |  white/hispanic  | sex  | south | married | exper | union | age  | sector\n",
       " $9.00   | 10   | W/NH             | M    | NS    | Married | 27    | Not   | 43   | const\n",
       " $5.50   | 12   | W/NH             | M    | NS    | Married | 20    | Not   | 38   | sales\n",
       " $3.80   | 12   | W/NH             | F    | NS    | Single  | 4     | Not   | 22   | sales\n",
       " $10.50  | 12   | W/NH             | F    | NS    | Married | 29    | Not   | 47   | clerical\n",
       " $15.00  | 12   | W/NH             | M    | NS    | Married | 40    | Union | 58   | const\n",
       " $9.00   | 16   | W/NH             | F    | NS    | Married | 27    | Not   | 49   | clerical\n",
       " $9.57   | 12   | W/NH             | F    | NS    | Married | 5     | Union | 23   | service\n",
       " $15.00  | 14   | W/NH             | M    | NS    | Single  | 22    | Not   | 42   | sales\n",
       " $11.00  | 8    | W/NH             | M    | NS    | Married | 42    | Not   | 56   | manuf\n",
       " $5.00   | 12   | W/NH             | F    | NS    | Married | 14    | Not   | 32   | sales\n",
       "... (524 rows omitted)"
      ]
     },
     "execution_count": 4,
     "metadata": {},
     "output_type": "execute_result"
    }
   ],
   "source": [
    "CPS85 = Table.read_table(\"CPS85.csv\")\n",
    "CPS85"
   ]
  },
  {
   "cell_type": "code",
   "execution_count": 1,
   "metadata": {},
   "outputs": [],
   "source": [
    "#Write a function that will return the highest wage in the table"
   ]
  },
  {
   "cell_type": "code",
   "execution_count": 5,
   "metadata": {},
   "outputs": [],
   "source": [
    "#Create a colum that says \"over 50\" or \"50 and under\" that correctly relates this to a person's age"
   ]
  },
  {
   "cell_type": "code",
   "execution_count": 7,
   "metadata": {},
   "outputs": [],
   "source": [
    "#create a table of the average wage by sector"
   ]
  },
  {
   "cell_type": "code",
   "execution_count": 8,
   "metadata": {},
   "outputs": [],
   "source": [
    "#take a sample of size 15 and calculate the mean wage.  Then do this 100 times and create a sampling distribution?\n",
    "#of that statistic."
   ]
  },
  {
   "cell_type": "code",
   "execution_count": null,
   "metadata": {},
   "outputs": [],
   "source": []
  }
 ],
 "metadata": {
  "kernelspec": {
   "display_name": "Python 3",
   "language": "python",
   "name": "python3"
  },
  "language_info": {
   "codemirror_mode": {
    "name": "ipython",
    "version": 3
   },
   "file_extension": ".py",
   "mimetype": "text/x-python",
   "name": "python",
   "nbconvert_exporter": "python",
   "pygments_lexer": "ipython3",
   "version": "3.8.3"
  }
 },
 "nbformat": 4,
 "nbformat_minor": 4
}
